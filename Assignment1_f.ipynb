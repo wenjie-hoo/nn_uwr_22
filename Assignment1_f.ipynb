{
  "cells": [
    {
      "cell_type": "markdown",
      "metadata": {
        "id": "view-in-github",
        "colab_type": "text"
      },
      "source": [
        "<a href=\"https://colab.research.google.com/github/wenjie-hoo/nn_uwr_22/blob/main/Assignment1_f.ipynb\" target=\"_parent\"><img src=\"https://colab.research.google.com/assets/colab-badge.svg\" alt=\"Open In Colab\"/></a>"
      ]
    },
    {
      "cell_type": "markdown",
      "metadata": {
        "cell_id": "00001-caefeb56-f9c5-4f9e-a096-b89246dc63d7",
        "deepnote_app_coordinates": {
          "h": 5,
          "w": 12,
          "x": 0,
          "y": 6
        },
        "deepnote_cell_type": "markdown",
        "id": "CGXgWugfJ0Vl"
      },
      "source": [
        "## Assignment 1\n",
        "\n",
        "**Submission deadlines:** \n",
        "- get at least **2** points by Tuesday, 07.03.2023\n",
        "- get at least another **2** points (see problem 8) by Tuesday, 14.03.2023 \n",
        "- remaining points: last lab session before or on Thursday, <s>16</s>23.03.2023\n",
        "\n",
        "**Points:** Aim to get 8 out of 14 possible points\n",
        "\n",
        "## Submission instructions\n",
        "The class is held on-site in lab rooms. Please prepare you notebook on your computer or anywhere in the cloud (try using DeepNote or Google Colab).\n",
        "Make sure you know all the questions and asnwers, and that the notebook contains results; bfore presentation do `Runtime -> Restart and run all`\n",
        "![Picture title](image-20220302-183151.png)\n",
        "\n",
        "We provide starter code, however you are not required to use it as long as you properly solve the tasks.\n"
      ]
    },
    {
      "cell_type": "markdown",
      "metadata": {
        "cell_id": "00002-c92cc86e-f65f-4e16-9124-9ca4d4265c88",
        "deepnote_app_coordinates": {
          "h": 5,
          "w": 12,
          "x": 0,
          "y": 12
        },
        "deepnote_cell_type": "markdown",
        "id": "5S8iRaCPyO2a"
      },
      "source": [
        "# Task description\n",
        "\n",
        "## TLDR\n",
        "Implement and train a neural network using pure numpy."
      ]
    },
    {
      "cell_type": "markdown",
      "metadata": {
        "cell_id": "00003-1893a0a0-4515-4960-bce8-37f660543eea",
        "deepnote_app_coordinates": {
          "h": 5,
          "w": 12,
          "x": 0,
          "y": 18
        },
        "deepnote_cell_type": "markdown",
        "id": "JHcz7I2V-bVM"
      },
      "source": [
        "\n",
        "## Problem 1 [2p]\n",
        "Implement a two-layer network, manually set weights and biases to solve the XOR task.\n",
        "\n",
        "A two-layer neural network implementes a function $f: \\mathbb{R}^D \\rightarrow \\mathbb{R}^O$ where $D$ is the input dimensionality and $O$ is the output dinemsionality. The output goes through an intermediate representation (the hidden layer) with dimensionality $H$. \n",
        "\n",
        "The computations are as follows:\n",
        "$$\n",
        "\\begin{aligned}\n",
        "A_1 &= x W_1^T + b_1  & \\qquad\\text{Total input to neurons in the hidden layer (network's first layer)} \\\\\n",
        "O_1 &= \\sigma_1(A_1)  & \\qquad\\text{Output of the hidden layer} \\\\\n",
        "A_2 &= O_1 W_2^T + b_2 & \\qquad\\text{Total input to neurons in the output layer (network's second layer)}\\\\\n",
        "O_2 &= \\sigma_2(A_2)  & \\qquad\\text{Output of the network}\n",
        "\\end{aligned}\n",
        "$$\n",
        "\n",
        "Where $W$ are weight matrices, $b$ are bias vectors, $\\sigma$ are non-linear activation functions (e.g. the logistic sigmoid applied element-wise, or softmax).\n",
        "\n",
        "For the 2D xor problem the network will:\n",
        "- have 2 inputs, 2 hidden neurons, one output\n",
        "- use the logistic sigmoid everywhere (that way we, when hand-designig the weights, we can assume that neurons' outputs are binary).\n",
        "\n",
        "Therrefore the shapes of the data flowing through the network will be:\n",
        "- input: $x\\in\\mathbb{}R^{2}$\n",
        "- hidden layer parameters: $W_1\\in\\mathbb{}R^{2\\times 2}$ and $b_1\\in\\mathbb{}R^{2}$\n",
        "- representations in the hidden layer: $A_1\\in\\mathbb{}R^{2}$ and $O_1\\in\\mathbb{}R^{2}$\n",
        "- output layer parameters: $W_2\\in\\mathbb{}R^{1\\times 2}$ and $b_2\\in\\mathbb{}R^{1}$\n",
        "- representations in the output layer: $A_2\\in\\mathbb{}R^{1}$ and $O_2\\in\\mathbb{}R^{1}$\n",
        "\n",
        "The network can be seen as a logistic regression model, prefixed by a nonlinear transformation of the data.\n",
        "\n",
        "The first tasks consists of:\n",
        "- implementing the network\n",
        "- selecting parametwrs ($W_1, b_1, W_2, b_2$) such that $f(x)\\approx XOR(x_1, x_2)$ where the approximation is die to the sigmoids - the output may be close to 0 or 1, but doesn't need to saturate at 0 or 1.\n",
        "\n",
        "NB: the convention on weight matrix shapes follows linear [layers in PyTorch](https://pytorch.org/docs/stable/generated/torch.nn.Linear.html).\n"
      ]
    },
    {
      "cell_type": "markdown",
      "metadata": {
        "cell_id": "00004-0d502510-cfd1-44da-b88c-da6aaf275617",
        "deepnote_app_coordinates": {
          "h": 5,
          "w": 12,
          "x": 0,
          "y": 24
        },
        "deepnote_cell_type": "markdown",
        "id": "0QSpZxuH-bLe"
      },
      "source": [
        "## Problem 2 [2p]\n",
        "1. Add a backward pass.\n",
        "2. Use a sensible random initialization for weights and biases.\n",
        "3. Numerically check the correctness of your gradient computation.\n",
        "\n",
        "There is nice article about taking derivative over vectors and vector chain rule: https://explained.ai/matrix-calculus/ if someone don't have experience with such calculus.\n"
      ]
    },
    {
      "cell_type": "markdown",
      "metadata": {
        "cell_id": "00005-96083315-f850-4103-946e-cc9b11377543",
        "deepnote_app_coordinates": {
          "h": 5,
          "w": 12,
          "x": 0,
          "y": 30
        },
        "deepnote_cell_type": "markdown",
        "id": "s1Tn8j0m-bAy"
      },
      "source": [
        "## Problem 3 [2p]\n",
        "1. Implement gradient descent\n",
        "2. Train your network to solve 3D XOR\n",
        "3. Try several hidden layer sizes, for each size record the fracton of successful trainings. Then answer:\n",
        "    - What is the minimal hidden size required to solve 3D XOR (even with low reliability, when the training has to be repeated multiple times)\n",
        "    - What is the minimal hidden size required to reliably solve 3D XOR\n",
        "    - Which networks are easier to train - small or large ones? Why?\n"
      ]
    },
    {
      "cell_type": "markdown",
      "metadata": {
        "cell_id": "00006-94cc4eb9-0202-4308-9a9e-007db44a6a98",
        "deepnote_app_coordinates": {
          "h": 5,
          "w": 12,
          "x": 0,
          "y": 36
        },
        "deepnote_cell_type": "markdown",
        "id": "RP9Pvpmf-a2A"
      },
      "source": [
        "## Problem 4 [1p]\n",
        "Replace the first nonlinearity with the [ReLU](https://en.wikipedia.org/wiki/Rectifier_(neural_networks)) activation function. Find a network architecture which reliably learns the 3D XOR problem.\n"
      ]
    },
    {
      "cell_type": "markdown",
      "metadata": {
        "cell_id": "00007-9e6e984c-5131-4333-837b-7e57c4bfb650",
        "deepnote_app_coordinates": {
          "h": 5,
          "w": 12,
          "x": 0,
          "y": 42
        },
        "deepnote_cell_type": "markdown",
        "id": "cGgtpe-w-asB"
      },
      "source": [
        "## Problem 5 [1p]\n",
        "Add a second hidden layer to your network, implement the forward and backward pass, then demonstrate training.\n"
      ]
    },
    {
      "cell_type": "markdown",
      "metadata": {
        "cell_id": "00008-86ea4bdd-83dc-4197-baad-d216fbacc786",
        "deepnote_app_coordinates": {
          "h": 5,
          "w": 12,
          "x": 0,
          "y": 48
        },
        "deepnote_cell_type": "markdown",
        "id": "Pe-pcFeO-aiE"
      },
      "source": [
        "## Problem 6 [2p]\n",
        "Implement a way to have a _variable number_ of hidden layers. Check how deep sigmoid or ReLU networks you  can train. For simplicity you can assume that all hidden layers have the same number of neurons, and use the same activation function.\n"
      ]
    },
    {
      "cell_type": "markdown",
      "metadata": {
        "cell_id": "00009-64a0b978-7933-40be-89e4-a3d35d52c7ab",
        "deepnote_app_coordinates": {
          "h": 5,
          "w": 12,
          "x": 0,
          "y": 54
        },
        "deepnote_cell_type": "markdown",
        "id": "kIpn17Cm-aW7"
      },
      "source": [
        "## Problem 7 [2p]\n",
        "For each weight matrix $w\\in\\mathbb{R}^{n\\times m}$, add a randomly initialized `backward weight` $w_b\\in\\mathbb{R}^{m\\times n}$, which will not change during training. Change the backward pass to use $w_b$ instead of $w^T$, getting an approxmatoin of the true gradient. Can you get your network to train?\n",
        "\n",
        "NB: this approach, dubbed [feedback alignment](https://www.nature.com/articles/ncomms13276), was proposed to make error backpropagation more biologically plausible, by providing a solution to the \"weight transport problem\". Regular backpropagation requires that neurons not only know their incoming weights (that they control), but also their outgoing weights (that are controlled by neurons in the upper layers). This is nearly impossible in a real brain."
      ]
    },
    {
      "cell_type": "markdown",
      "metadata": {
        "id": "NfJ3D9eUQZFb"
      },
      "source": [
        "## Problem 8 [2p]\n",
        "Consider the following function $\\boldsymbol f: \\mathbb R^n \\to \\mathbb R^k$:\n",
        "$$ \\hat{\\boldsymbol y} := \\boldsymbol f(\\boldsymbol x\\,;\\,\\,W, \\boldsymbol b) = \\mathrm{softmax}(\\boldsymbol z) \\qquad (\\boldsymbol x \\in \\mathbb R^{n}, \\, W \\in\\mathbb R^{k\\times n}, \\, \\boldsymbol b \\in \\mathbb R^k), $$\n",
        "where $$ \\boldsymbol z = W  \\boldsymbol x + \\boldsymbol b $$\n",
        "and $W, \\boldsymbol b$ are the parameters.\n",
        "\n",
        "Analytically derive the form of the following gradients:\n",
        "\n",
        "$$ \\frac{\\partial \\hat{\\boldsymbol y}}{\\boldsymbol z} = \\ldots $$\n",
        "\n",
        "$$ \\frac{\\partial \\hat{\\boldsymbol y}}{W_{ij}} = \\ldots $$\n",
        "\n",
        "$$ \\frac{\\partial \\hat{\\boldsymbol y}}{\\boldsymbol b} = \\ldots $$"
      ]
    },
    {
      "cell_type": "markdown",
      "metadata": {
        "cell_id": "00010-954fd65b-4d81-4bbc-bf6b-4d10d50be9b8",
        "deepnote_app_coordinates": {
          "h": 5,
          "w": 12,
          "x": 0,
          "y": 60
        },
        "deepnote_cell_type": "markdown",
        "id": "rXJaoHSH0DZO"
      },
      "source": [
        "# Solutions and starter code"
      ]
    },
    {
      "cell_type": "code",
      "execution_count": null,
      "metadata": {
        "cell_id": "00011-97f2c7fe-a3d5-4a6b-bc12-8a96bfeed475",
        "deepnote_app_coordinates": {
          "h": 5,
          "w": 12,
          "x": 0,
          "y": 66
        },
        "deepnote_cell_type": "code",
        "id": "YiTEWD2oqW0Y"
      },
      "outputs": [],
      "source": [
        "import matplotlib.pyplot as plt\n",
        "import numpy as np"
      ]
    },
    {
      "cell_type": "markdown",
      "metadata": {
        "cell_id": "00012-8bc44e88-e665-483d-89fc-c866879ad335",
        "deepnote_app_coordinates": {
          "h": 5,
          "w": 12,
          "x": 0,
          "y": 72
        },
        "deepnote_cell_type": "markdown",
        "id": "eqtfJKR40J3x"
      },
      "source": [
        "XOR dataset creation"
      ]
    },
    {
      "cell_type": "code",
      "execution_count": null,
      "metadata": {
        "cell_id": "00013-3adfc55c-5dcc-476a-9e4a-328f2044ebc1",
        "colab": {
          "base_uri": "https://localhost:8080/",
          "height": 297
        },
        "deepnote_app_coordinates": {
          "h": 5,
          "w": 12,
          "x": 0,
          "y": 78
        },
        "deepnote_cell_type": "code",
        "id": "lYEbCfbSpv5M",
        "outputId": "f271c2d3-cd5a-419c-aebb-93e4b1d483da"
      },
      "outputs": [
        {
          "output_type": "execute_result",
          "data": {
            "text/plain": [
              "(-0.05, 1.05, -0.05, 1.05)"
            ]
          },
          "metadata": {},
          "execution_count": 2
        },
        {
          "output_type": "display_data",
          "data": {
            "text/plain": [
              "<Figure size 432x288 with 1 Axes>"
            ],
            "image/png": "[encoded data removed]"
          },
          "metadata": {
            "needs_background": "light"
          }
        }
      ],
      "source": [
        "# Let's define a XOR dataset\n",
        "\n",
        "# X will be matrix of N 2-dimensional inputs\n",
        "X = np.array([[0, 0], [0, 1], [1, 0], [1, 1],], dtype=np.float32)\n",
        "# Y is a matrix of N numners - answers\n",
        "Y = np.array([[0], [1], [1], [0],], dtype=np.float32)\n",
        "\n",
        "plt.scatter(\n",
        "    X[:, 0], X[:, 1], c=Y[:, 0],\n",
        ")\n",
        "plt.xlabel(\"X[0]\")\n",
        "plt.ylabel(\"X[1]\")\n",
        "plt.axis(\"square\")"
      ]
    },
    {
      "cell_type": "markdown",
      "metadata": {
        "cell_id": "00014-fe501b87-4247-497d-a7c7-f528483d31cc",
        "deepnote_app_coordinates": {
          "h": 5,
          "w": 12,
          "x": 0,
          "y": 84
        },
        "deepnote_cell_type": "markdown",
        "id": "Rb3azMn929_I"
      },
      "source": [
        "## Problem 1"
      ]
    },
    {
      "cell_type": "markdown",
      "metadata": {
        "cell_id": "00015-97a3483d-0ae6-4bee-afd5-6226abc622a5",
        "deepnote_app_coordinates": {
          "h": 5,
          "w": 12,
          "x": 0,
          "y": 90
        },
        "deepnote_cell_type": "markdown",
        "id": "RZCM_hdELE04"
      },
      "source": [
        "The code below contains a mock-up of a two-layer neural network. Fill in the code and manually set weights to solve the XOR problem.\n",
        "\n",
        "Please note: the shapes are set to be compatible with PyTorch's conventions:\n",
        "* a batch containing $N$ $D$-dimensional examples has shape $N\\times D$ (each example is a row!)\n",
        "* a weight matrix in a linear layer with $I$ inputs and $O$ outputs has shape $O \\times I$\n",
        "* a bias vector is a 1D vector. Please note that [broadcasting rules](https://docs.scipy.org/doc/numpy/user/basics.broadcasting.html) allow us to think about it as a $1 \\times D$ matrix."
      ]
    },
    {
      "cell_type": "code",
      "execution_count": null,
      "metadata": {
        "cell_id": "00016-87dd53c6-4f21-4286-8a85-61c2a92fa819",
        "deepnote_app_coordinates": {
          "h": 5,
          "w": 12,
          "x": 0,
          "y": 96
        },
        "deepnote_cell_type": "code",
        "id": "lrrRuk6zLiF0"
      },
      "outputs": [],
      "source": [
        "def sigmoid(x):\n",
        "    return 1 / (1 + np.exp(-x))\n",
        "\n",
        "def relu(x):\n",
        "    return np.maximum(0, x)\n",
        "\n",
        "class SmallNet:\n",
        "    def __init__(self, in_features, num_hidden, dtype=np.float32):\n",
        "        self.W1 = np.zeros((num_hidden, in_features), dtype=dtype)\n",
        "        self.b1 = np.zeros((num_hidden,), dtype=dtype)\n",
        "        self.W2 = np.zeros((1, num_hidden), dtype=dtype)\n",
        "        self.b2 = np.zeros((1,), dtype=dtype)\n",
        "        self.init_params()\n",
        "\n",
        "    def init_params(self):\n",
        "        self.W1 = np.random.normal(loc=0, scale=0.5, size=self.W1.shape)\n",
        "        self.b1 = np.random.normal(loc=0, scale=0.5, size=self.b1.shape)\n",
        "        self.W2 = np.random.normal(loc=0, scale=0.5, size=self.W2.shape)\n",
        "        self.b2 = np.random.normal(loc=0, scale=0.5, size=self.b2.shape)\n",
        "\n",
        "    def entropy_loss(self, y, yhat):\n",
        "        loss = -0.5 * (y - yhat) ** 2\n",
        "        return loss\n",
        "    \n",
        "    def forward(self, X, Y=None, do_backward=False):\n",
        "        A1 = np.dot(X,self.W1.T) + self.b1\n",
        "        # Outputs after the sigmoid non-linearity\n",
        "        O1 = sigmoid(A1)\n",
        "        # O1 = relu(A1)\n",
        "        A2 = np.dot(O1,self.W2.T) + self.b2\n",
        "\n",
        "        O2 = sigmoid(A2)\n",
        "\n",
        "        if Y is not None:\n",
        "            # loss = self.entropy_loss(Y, O2)\n",
        "            loss =  -Y * np.log(O2) - (1 - Y) * np.log(1 - O2)\n",
        "            # normalize loss by batch size\n",
        "            loss = loss.sum() / X.shape[0]\n",
        "        else:\n",
        "            loss = np.nan\n",
        "\n",
        "        if do_backward:\n",
        "            A2_grad = (O2 - Y) / X.shape[0]\n",
        "            self.b2_grad = A2_grad.sum(0)\n",
        "            self.W2_grad = np.dot(A2_grad.T, O1)\n",
        "            O1_grad = np.dot(A2_grad, self.W2)\n",
        "            A1_grad = O1_grad * (1 - O1) * O1\n",
        "            self.b1_grad = A1_grad.sum(0)\n",
        "            self.W1_grad = np.dot(A1_grad.T, X)\n",
        "            \n",
        "        return O2, loss"
      ]
    },
    {
      "cell_type": "code",
      "execution_count": null,
      "metadata": {
        "cell_id": "00017-32ce9293-0a37-4397-aeac-25eef428e8d4",
        "colab": {
          "base_uri": "https://localhost:8080/"
        },
        "deepnote_app_coordinates": {
          "h": 5,
          "w": 12,
          "x": 0,
          "y": 102
        },
        "deepnote_cell_type": "code",
        "id": "jJswvBk0oiIY",
        "outputId": "9c5ac013-26bf-4dc5-ab1b-7a41e102dac5"
      },
      "outputs": [
        {
          "output_type": "stream",
          "name": "stdout",
          "text": [
            "XORnet([0. 0.]) = 0.47341085672128785\n",
            "XORnet([0. 1.]) = 0.48791910665277993\n",
            "XORnet([1. 0.]) = 0.4774972939544908\n",
            "XORnet([1. 1.]) = 0.49026652832187406\n"
          ]
        }
      ],
      "source": [
        "net = SmallNet(2, 2, dtype=np.float64)\n",
        "# net.W1 = np.array([[10.0, -10.0], [-10.0, 10.0]], dtype=np.float64)\n",
        "# net.b1 = np.array([[-5.0], [15.0]], dtype=np.float64)\n",
        "# net.W2 = np.array([[1.0], [-2.0]], dtype=np.float64)\n",
        "# net.b2 = np.array([0.0], dtype=np.float64)\n",
        "\n",
        "predictions, loss = net.forward(X, Y, do_backward=True)\n",
        "for x, p in zip(X, predictions):\n",
        "    print(f\"XORnet({x}) = {p[0]}\")"
      ]
    },
    {
      "cell_type": "markdown",
      "metadata": {
        "cell_id": "00018-9f8740d2-90e7-4d20-a535-002df8547aba",
        "deepnote_app_coordinates": {
          "h": 5,
          "w": 12,
          "x": 0,
          "y": 108
        },
        "deepnote_cell_type": "markdown",
        "id": "wmxCi5Vl6_xB"
      },
      "source": [
        "## Problem 2"
      ]
    },
    {
      "cell_type": "code",
      "execution_count": null,
      "metadata": {
        "cell_id": "00019-8f804996-a00a-4bb5-a524-ad056659e023",
        "deepnote_app_coordinates": {
          "h": 5,
          "w": 12,
          "x": 0,
          "y": 114
        },
        "deepnote_cell_type": "code",
        "id": "eSM5hgJ1mrhY"
      },
      "outputs": [],
      "source": [
        "def check_grad(net, param_name, X, Y, eps=1e-5):\n",
        "    \"\"\"A gradient checking routine\"\"\"\n",
        "\n",
        "    param = getattr(net, param_name)\n",
        "    param_flat_accessor = param.reshape(-1)\n",
        "\n",
        "    grad = np.empty_like(param)\n",
        "    grad_flat_accessor = grad.reshape(-1)\n",
        "\n",
        "    net.forward(X, Y, do_backward=True)\n",
        "    orig_grad = getattr(net, param_name + \"_grad\")\n",
        "    assert param.shape == orig_grad.shape\n",
        "\n",
        "    for i in range(param_flat_accessor.shape[0]):\n",
        "        orig_val = param_flat_accessor[i]\n",
        "        param_flat_accessor[i] = orig_val + eps\n",
        "        _, loss_positive = net.forward(X, Y)\n",
        "        param_flat_accessor[i] = orig_val - eps\n",
        "        _, loss_negative = net.forward(X, Y)\n",
        "        param_flat_accessor[i] = orig_val\n",
        "        grad_flat_accessor[i] = (loss_positive - loss_negative) / (2 * eps)\n",
        "    assert np.allclose(grad, orig_grad)\n",
        "    return grad, orig_grad"
      ]
    },
    {
      "cell_type": "code",
      "execution_count": null,
      "metadata": {
        "cell_id": "00020-1c4174cf-f129-4cad-adad-4734810a8ce1",
        "deepnote_app_coordinates": {
          "h": 5,
          "w": 12,
          "x": 0,
          "y": 120
        },
        "deepnote_cell_type": "code",
        "id": "TTZu0jFEvgXF"
      },
      "outputs": [],
      "source": [
        "# Hint: use float64 for checking the correctness of the gradient\n",
        "net = SmallNet(2, 2, dtype=np.float64)\n",
        "\n",
        "for param_name in [\"W1\", \"b1\", \"W2\", \"b2\"]:\n",
        "    check_grad(net, param_name, X, Y)"
      ]
    },
    {
      "cell_type": "markdown",
      "metadata": {
        "cell_id": "00021-145837f8-c83f-4aab-8e62-0114e59f30fe",
        "deepnote_app_coordinates": {
          "h": 5,
          "w": 12,
          "x": 0,
          "y": 126
        },
        "deepnote_cell_type": "markdown",
        "id": "8mUOs3cVvjM2"
      },
      "source": [
        "## Problem 3"
      ]
    },
    {
      "cell_type": "code",
      "execution_count": null,
      "metadata": {
        "cell_id": "00022-91b3eba0-6025-4839-847c-f5cb275fad07",
        "colab": {
          "base_uri": "https://localhost:8080/"
        },
        "deepnote_app_coordinates": {
          "h": 5,
          "w": 12,
          "x": 0,
          "y": 132
        },
        "deepnote_cell_type": "code",
        "id": "nn2AAoZo0vjU",
        "outputId": "e3d4f9eb-1c96-441a-8b04-80e0108c88ae"
      },
      "outputs": [
        {
          "output_type": "stream",
          "name": "stdout",
          "text": [
            "after 0 steps \tloss=0.755172414736476\n",
            "after 5000 steps \tloss=0.668724592122792\n",
            "after 10000 steps \tloss=0.6079890483258374\n",
            "after 15000 steps \tloss=0.5038184400481488\n",
            "after 20000 steps \tloss=0.3526862235181485\n",
            "after 25000 steps \tloss=0.20059578671728884\n",
            "after 30000 steps \tloss=0.11313886700234282\n",
            "after 35000 steps \tloss=0.0708293532697834\n",
            "after 40000 steps \tloss=0.04896580250452992\n",
            "after 45000 steps \tloss=0.036408999356796555\n",
            "after 50000 steps \tloss=0.02851825363135513\n",
            "after 55000 steps \tloss=0.023201602037453164\n",
            "after 60000 steps \tloss=0.01942180922479569\n",
            "after 65000 steps \tloss=0.01661959217830082\n",
            "after 70000 steps \tloss=0.014471653447218956\n",
            "after 75000 steps \tloss=0.012780105793970487\n",
            "after 80000 steps \tloss=0.011417955103618496\n",
            "after 85000 steps \tloss=0.010300415706797062\n",
            "after 90000 steps \tloss=0.009368958488187109\n",
            "after 95000 steps \tloss=0.00858201016829561\n"
          ]
        }
      ],
      "source": [
        "net = SmallNet(2, 10, dtype=np.float64)\n",
        "\n",
        "alpha = 0.01  # set a learning rate\n",
        "\n",
        "for i in range(100000):\n",
        "    _, loss = net.forward(X, Y, do_backward=True)\n",
        "    if (i % 5000) == 0:\n",
        "        print(f\"after {i} steps \\tloss={loss}\")\n",
        "    for param_name in [\"W1\", \"b1\", \"W2\", \"b2\"]:\n",
        "        param = getattr(net, param_name)\n",
        "        grad = getattr(net, param_name + \"_grad\")\n",
        "        param[:] = param - alpha * grad"
      ]
    },
    {
      "cell_type": "code",
      "execution_count": null,
      "metadata": {
        "cell_id": "00023-c92941a8-24d1-46e8-a410-d189c1d87b08",
        "colab": {
          "base_uri": "https://localhost:8080/"
        },
        "deepnote_app_coordinates": {
          "h": 5,
          "w": 12,
          "x": 0,
          "y": 138
        },
        "deepnote_cell_type": "code",
        "id": "TwpEjpkU1JvK",
        "outputId": "38cd7217-2b15-44cb-9d40-4d1dc7654b0f"
      },
      "outputs": [
        {
          "output_type": "stream",
          "name": "stdout",
          "text": [
            "XORnet([0. 0.]) = 0.005456417855537667\n",
            "XORnet([0. 1.]) = 0.9921943096491115\n",
            "XORnet([1. 0.]) = 0.9922559278670182\n",
            "XORnet([1. 1.]) = 0.010499823575442874\n"
          ]
        }
      ],
      "source": [
        "predictions, loss = net.forward(X, Y, do_backward=True)\n",
        "for x, p in zip(X, predictions):\n",
        "    print(f\"XORnet({x}) = {p[0]}\")"
      ]
    },
    {
      "cell_type": "code",
      "execution_count": null,
      "metadata": {
        "colab": {
          "base_uri": "https://localhost:8080/"
        },
        "id": "b9yq3-jVQZFh",
        "outputId": "259b3ac9-fd2a-415a-897d-f71e9813d9ab"
      },
      "outputs": [
        {
          "output_type": "stream",
          "name": "stdout",
          "text": [
            "[0.08307413]\n",
            "[0.90528713]\n",
            "[0.90539112]\n",
            "[0.03985155]\n",
            "Success rate with hidden_dim=2: 1.0\n",
            "[0.06514945]\n",
            "[0.95037625]\n",
            "[0.94654862]\n",
            "[0.04326157]\n",
            "Success rate with hidden_dim=3: 1.0\n",
            "[0.04507146]\n",
            "[0.96820308]\n",
            "[0.9662581]\n",
            "[0.02302458]\n",
            "Success rate with hidden_dim=5: 1.0\n",
            "[0.0324135]\n",
            "[0.9725492]\n",
            "[0.96871963]\n",
            "[0.02396492]\n",
            "Success rate with hidden_dim=10: 1.0\n",
            "[0.02378624]\n",
            "[0.98256368]\n",
            "[0.97780226]\n",
            "[0.01715259]\n",
            "Success rate with hidden_dim=20: 1.0\n"
          ]
        }
      ],
      "source": [
        "def train_and_test_net(hidden_dim):\n",
        "    net = SmallNet(3, hidden_dim, dtype=np.float64)\n",
        "    \n",
        "    alpha = 0.01\n",
        "    for i in range(10000):\n",
        "        _, loss = net.forward(X3, Y3, do_backward=True)\n",
        "        for param_name in [\"W1\", \"b1\", \"W2\", \"b2\"]:\n",
        "            param = getattr(net, param_name)\n",
        "            param[:] -= alpha * getattr(net, param_name + \"_grad\")\n",
        "\n",
        "    # predictions, loss = net.forward(X, Y, do_backward=True)\n",
        "    # for x, p in zip(X, predictions):\n",
        "    #     print(f\"XORnet({x}) = {p[0]}\")\n",
        "    \n",
        "    correct = 0\n",
        "    for x, y_true in zip(X3, Y3):\n",
        "        y_pred, loss = net.forward(x, y_true)\n",
        "        print(y_pred)\n",
        "        if abs(y_true - y_pred) < 0.5:\n",
        "            correct += 1\n",
        "    success_rate = correct / len(X3)\n",
        "    \n",
        "    return success_rate\n",
        "\n",
        "X3 = np.array([[0,0,0], [0,1,1], [1,0,1], [1,1,0]])\n",
        "Y3 = np.array([[0], [1], [1], [0]])\n",
        "# Test the function for different hidden dimensions\n",
        "for hidden_dim in [2, 3, 5, 10, 20]:\n",
        "    success_rate = train_and_test_net(hidden_dim)\n",
        "    print(f\"Success rate with hidden_dim={hidden_dim}: {success_rate}\")\n"
      ]
    },
    {
      "cell_type": "markdown",
      "metadata": {
        "cell_id": "00025-9703bd09-6aae-4830-8221-09b53a623e4b",
        "deepnote_app_coordinates": {
          "h": 5,
          "w": 12,
          "x": 0,
          "y": 150
        },
        "deepnote_cell_type": "markdown",
        "id": "UuaLEoV-9DLG"
      },
      "source": [
        "## Problem 4\n"
      ]
    },
    {
      "cell_type": "code",
      "execution_count": null,
      "metadata": {
        "id": "pWtttaCUQZFi"
      },
      "outputs": [],
      "source": [
        "class SmallNet_4:\n",
        "    def __init__(self):\n",
        "        np.random.seed(1)\n",
        "        self.w1 = 2 * np.random.random((3, 4)) - 1\n",
        "        self.w_o = 2 * np.random.random((4, 1)) - 1\n",
        "    \n",
        "    def sigmoid(self, x):\n",
        "        return 1 / (1 + np.exp(-x))\n",
        "\n",
        "    def sigmoid_derivative(self, x):\n",
        "        return x * (1 - x)\n",
        "    \n",
        "    def relu(self, x):\n",
        "        return np.maximum(x, 0)\n",
        "\n",
        "    def relu_derivative(self, x):\n",
        "        return np.where(x > 0, 1, 0)\n",
        "\n",
        "    def train(self, X, y, epochs, learning_rate):\n",
        "        losses = []\n",
        "        for epoch in range(epochs):\n",
        "            h1 = np.dot(X, self.w1)\n",
        "            o1 = self.relu(h1)\n",
        "            h2 = np.dot(o1, self.w_o)\n",
        "            output = self.relu(h2)\n",
        "\n",
        "            error = y - output\n",
        "            d_output = error * self.relu_derivative(output)\n",
        "            error_h1 = d_output.dot(self.w_o.T)\n",
        "            d_hidden1 = error_h1 * self.relu_derivative(o1)\n",
        "\n",
        "            self.w_o += learning_rate * o1.T.dot(d_output)\n",
        "            self.w1 += learning_rate * X.T.dot(d_hidden1)\n",
        "\n",
        "            loss = np.mean(np.abs(error))\n",
        "            if epoch %500 ==0:\n",
        "                print(f\"after {epoch} steps \\tloss={loss}\")\n",
        "\n",
        "        return losses\n",
        "\n",
        "    def predict(self, X):\n",
        "        h1 = np.dot(X, self.w1)\n",
        "        o1 = self.relu(h1)\n",
        "        output_layer_input = np.dot(o1, self.w_o)\n",
        "        y_pred = self.relu(output_layer_input).round().astype(int)\n",
        "        return y_pred\n"
      ]
    },
    {
      "cell_type": "code",
      "execution_count": null,
      "metadata": {
        "colab": {
          "base_uri": "https://localhost:8080/"
        },
        "id": "ZRtSj3V7QZFi",
        "outputId": "74999fd2-0fdc-4499-d90d-72d59194d633"
      },
      "outputs": [
        {
          "output_type": "stream",
          "name": "stdout",
          "text": [
            "after 0 steps \tloss=0.4840197436804845\n",
            "after 500 steps \tloss=0.496\n",
            "after 1000 steps \tloss=0.496\n",
            "after 1500 steps \tloss=0.496\n",
            "after 2000 steps \tloss=0.496\n",
            "after 2500 steps \tloss=0.496\n",
            "after 3000 steps \tloss=0.496\n",
            "after 3500 steps \tloss=0.496\n",
            "after 4000 steps \tloss=0.496\n",
            "after 4500 steps \tloss=0.496\n",
            "after 5000 steps \tloss=0.496\n",
            "after 5500 steps \tloss=0.496\n",
            "after 6000 steps \tloss=0.496\n",
            "after 6500 steps \tloss=0.496\n",
            "after 7000 steps \tloss=0.496\n",
            "after 7500 steps \tloss=0.496\n",
            "after 8000 steps \tloss=0.496\n",
            "after 8500 steps \tloss=0.496\n",
            "after 9000 steps \tloss=0.496\n",
            "after 9500 steps \tloss=0.496\n",
            "XORnet([False]) = 0\n",
            "XORnet([False]) = 0\n",
            "XORnet([ True]) = 0\n",
            "XORnet([ True]) = 0\n"
          ]
        }
      ],
      "source": [
        "X_train = np.random.randint(2, size=(1000, 3))\n",
        "y_train = np.logical_xor(np.logical_xor(X_train[:,0], X_train[:,1]), X_train[:,2]).reshape(-1, 1)\n",
        "\n",
        "model = SmallNet_4()\n",
        "loss = model.train(X_train, y_train, epochs=10000, learning_rate =0.1)\n",
        "\n",
        "X_test = np.array([[0,0,0], [1,0,1], [1,1,1], [0,1,0]])\n",
        "y_test = np.logical_xor(np.logical_xor(X_test[:,0], X_test[:,1]), X_test[:,2]).reshape(-1, 1)\n",
        "\n",
        "y_pred = model.predict(X_test)\n",
        "\n",
        "for x, p in zip(y_test, y_pred):\n",
        "    print(f\"XORnet({x}) = {p[0]}\")\n"
      ]
    },
    {
      "cell_type": "markdown",
      "metadata": {
        "cell_id": "00027-de8a387d-3b6a-48d5-b6c8-fddf13637e38",
        "deepnote_app_coordinates": {
          "h": 5,
          "w": 12,
          "x": 0,
          "y": 162
        },
        "deepnote_cell_type": "markdown",
        "id": "_Hr_iAKX-ND1"
      },
      "source": [
        "## Problem 5"
      ]
    },
    {
      "cell_type": "code",
      "execution_count": null,
      "metadata": {
        "id": "d_mHGruaQZFi"
      },
      "outputs": [],
      "source": [
        "class SmallNet_5:\n",
        "    def __init__(self):\n",
        "        np.random.seed(1)\n",
        "        self.w1 = 2 * np.random.random((3, 4)) - 1\n",
        "        self.w2 = 2 * np.random.random((4, 4)) - 1\n",
        "        self.weights_output = 2 * np.random.random((4, 1)) - 1\n",
        "    \n",
        "    def sigmoid(self, x):\n",
        "        return 1 / (1 + np.exp(-x))\n",
        "\n",
        "    def sigmoid_derivative(self, x):\n",
        "        return x * (1 - x)\n",
        "\n",
        "    def train(self, X, y, learning_rate, epochs):\n",
        "        losses = []\n",
        "        for epoch in range(epochs):\n",
        "            # forward\n",
        "            h1 = np.dot(X, self.w1)\n",
        "            h1_o = self.sigmoid(h1)\n",
        "            h2 = np.dot(h1_o, self.w2)\n",
        "            h2_o = self.sigmoid(h2)\n",
        "            out_lay = np.dot(h2_o, self.weights_output)\n",
        "            output = self.sigmoid(out_lay)\n",
        "            # back\n",
        "            error = y - output\n",
        "            d_output = error * self.sigmoid_derivative(output)\n",
        "            error_h2 = d_output.dot(self.weights_output.T)\n",
        "            d_h2 = error_h2 * self.sigmoid_derivative(h2_o)\n",
        "            error_h1 = d_h2.dot(self.w2.T)\n",
        "            d_h1 = error_h1 * self.sigmoid_derivative(h1_o)\n",
        "\n",
        "            # Update\n",
        "            self.weights_output += learning_rate * h2_o.T.dot(d_output)\n",
        "            self.w2 += learning_rate * h1_o.T.dot(d_h2)\n",
        "            self.w1 += learning_rate * X.T.dot(d_h1)\n",
        "\n",
        "            loss = np.mean(np.abs(error))\n",
        "            if epoch %500 ==0:\n",
        "                print(f\"after {epoch} steps \\tloss={loss}\")\n",
        "\n",
        "        return losses\n",
        "\n",
        "    def predict(self, X):\n",
        "        h1 = np.dot(X, self.w1)\n",
        "        h1_o = self.sigmoid(h1)\n",
        "        h2 = np.dot(h1_o, self.w2)\n",
        "        h2_o = self.sigmoid(h2)\n",
        "        out_layer = np.dot(h2_o, self.weights_output)\n",
        "        y_pred = self.sigmoid(out_layer).round().astype(int)\n",
        "        return y_pred\n"
      ]
    },
    {
      "cell_type": "code",
      "execution_count": null,
      "metadata": {
        "colab": {
          "base_uri": "https://localhost:8080/"
        },
        "id": "ry59VabLQZFi",
        "outputId": "2e411a58-9f54-4a97-8322-8172f1120cbb"
      },
      "outputs": [
        {
          "output_type": "stream",
          "name": "stdout",
          "text": [
            "after 0 steps \tloss=0.4993151789594342\n",
            "after 500 steps \tloss=0.013115668442630601\n",
            "after 1000 steps \tloss=0.007648573995847316\n",
            "after 1500 steps \tloss=0.005856573200206975\n",
            "after 2000 steps \tloss=0.004893343157986724\n",
            "after 2500 steps \tloss=0.004272474351748674\n",
            "after 3000 steps \tloss=0.0038311750750475017\n",
            "after 3500 steps \tloss=0.0034975456816225495\n",
            "after 4000 steps \tloss=0.0032343260724606495\n",
            "after 4500 steps \tloss=0.003020054146608399\n",
            "after 5000 steps \tloss=0.0028413960876415745\n",
            "after 5500 steps \tloss=0.002689581796520007\n",
            "after 6000 steps \tloss=0.002558579615418206\n",
            "after 6500 steps \tloss=0.0024440895203830973\n",
            "after 7000 steps \tloss=0.0023429539939145154\n",
            "after 7500 steps \tloss=0.0022527963054048326\n",
            "after 8000 steps \tloss=0.002171789347793417\n",
            "after 8500 steps \tloss=0.0020985028222470195\n",
            "after 9000 steps \tloss=0.0020317992418431284\n",
            "after 9500 steps \tloss=0.0019707613545642258\n",
            "XORnet([False]) = 0\n",
            "XORnet([False]) = 0\n",
            "XORnet([ True]) = 1\n",
            "XORnet([ True]) = 1\n"
          ]
        }
      ],
      "source": [
        "X_train = np.random.randint(2, size=(1000, 3))\n",
        "y_train = np.logical_xor(np.logical_xor(X_train[:,0], X_train[:,1]), X_train[:,2]).reshape(-1, 1)\n",
        "\n",
        "model = SmallNet_5()\n",
        "loss = model.train(X_train, y_train, learning_rate =0.04, epochs=10000)\n",
        "\n",
        "X_test = np.array([[0,0,0], [1,0,1], [1,1,1], [0,1,0]])\n",
        "y_test = np.logical_xor(np.logical_xor(X_test[:,0], X_test[:,1]), X_test[:,2]).reshape(-1, 1)\n",
        "\n",
        "y_pred = model.predict(X_test)\n",
        "\n",
        "for x, p in zip(y_test, y_pred):\n",
        "    print(f\"XORnet({x}) = {p[0]}\")"
      ]
    },
    {
      "cell_type": "markdown",
      "metadata": {
        "cell_id": "00029-1de44bc6-5f35-4df3-af9a-408291ccc867",
        "deepnote_app_coordinates": {
          "h": 5,
          "w": 12,
          "x": 0,
          "y": 174
        },
        "deepnote_cell_type": "markdown",
        "id": "4PcNxrCt-NcN"
      },
      "source": [
        "## Problem 6"
      ]
    },
    {
      "cell_type": "code",
      "execution_count": null,
      "metadata": {
        "cell_id": "00030-fdaced74-34ab-4cfc-8fa2-f3a0b012fbf2",
        "deepnote_app_coordinates": {
          "h": 5,
          "w": 12,
          "x": 0,
          "y": 180
        },
        "deepnote_cell_type": "code",
        "id": "6Brepirl-Nln"
      },
      "outputs": [],
      "source": []
    },
    {
      "cell_type": "markdown",
      "metadata": {
        "cell_id": "00031-032edb86-1c56-46e7-8ea3-3e011d72bf5f",
        "deepnote_app_coordinates": {
          "h": 5,
          "w": 12,
          "x": 0,
          "y": 186
        },
        "deepnote_cell_type": "markdown",
        "id": "nWuv7Q77-Nut"
      },
      "source": [
        "## Problem 7"
      ]
    },
    {
      "cell_type": "code",
      "execution_count": null,
      "metadata": {
        "cell_id": "00032-2eab2b1a-f83b-409c-a066-1642cd2ab2d8",
        "deepnote_app_coordinates": {
          "h": 5,
          "w": 12,
          "x": 0,
          "y": 192
        },
        "deepnote_cell_type": "code",
        "id": "avuvSoWY-N4Z"
      },
      "outputs": [],
      "source": []
    }
  ],
  "metadata": {
    "colab": {
      "provenance": [],
      "include_colab_link": true
    },
    "deepnote": {},
    "deepnote_app_layout": "article",
    "deepnote_execution_queue": [],
    "deepnote_notebook_id": "1f038069-bae5-44e5-92ba-67bdff2c54a6",
    "kernelspec": {
      "display_name": "Python 3 (ipykernel)",
      "language": "python",
      "name": "python3"
    },
    "language_info": {
      "codemirror_mode": {
        "name": "ipython",
        "version": 3
      },
      "file_extension": ".py",
      "mimetype": "text/x-python",
      "name": "python",
      "nbconvert_exporter": "python",
      "pygments_lexer": "ipython3",
      "version": "3.8.13"
    }
  },
  "nbformat": 4,
  "nbformat_minor": 0
}