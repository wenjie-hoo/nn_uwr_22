{
  "cells": [
    {
      "cell_type": "markdown",
      "metadata": {
        "id": "view-in-github",
        "colab_type": "text"
      },
      "source": [
        "<a href=\"https://colab.research.google.com/github/wenjie-hoo/nn_uwr_22/blob/main/Assignment2.ipynb\" target=\"_parent\"><img src=\"https://colab.research.google.com/assets/colab-badge.svg\" alt=\"Open In Colab\"/></a>"
      ]
    },
    {
      "cell_type": "markdown",
      "metadata": {
        "cell_id": "00001-10528e06-f6bc-4d22-87ba-44ee389423e2",
        "deepnote_cell_height": 513.59375,
        "deepnote_cell_type": "markdown",
        "id": "CzR6cZvYkyl6"
      },
      "source": [
        "## Assignment 2\n",
        "\n",
        "**Submission deadlines:** \n",
        "- get at least 4 points by Tuesday, 30.03.2023\n",
        "- remaining points: last lab session before or on Tuesday, 06.04.2023\n",
        "\n",
        "**Points:** Aim to get 16 out of 20+ possible points\n",
        "\n",
        "## Submission instructions\n",
        "The class is held on-site in lab rooms. Please prepare you notebook on your computer or anywhere in the cloud (try using DeepNote or Google Colab (preferred since one can get free GPUs there)).\n",
        "Make sure you know all the questions and asnwers, and that the notebook contains results; bfore presentation do `Runtime -> Restart and run all`\n",
        "![Picture title](image-20220302-183151.png)\n",
        "\n",
        "We provide starter code, however you are not required to use it as long as you properly solve the tasks.\n",
        "\n",
        "As always, please submit corrections using GitHub's Pull Requests to https://github.com/rnoxy/dl_uwr."
      ]
    },
    {
      "cell_type": "markdown",
      "metadata": {
        "cell_id": "00002-c9d8b5e1-13d2-492d-9ad6-d82d4419394b",
        "deepnote_cell_height": 82,
        "deepnote_cell_type": "markdown",
        "id": "eJ7DqCH7NDlC"
      },
      "source": [
        "# Problems"
      ]
    },
    {
      "cell_type": "markdown",
      "metadata": {
        "cell_id": "00003-48229273-726d-45db-bb12-068773ea6b9c",
        "deepnote_cell_height": 433.421875,
        "deepnote_cell_type": "markdown",
        "id": "YXr1RwyMFITD"
      },
      "source": [
        "\n",
        "## Problem 1 [1p]:\n",
        "\n",
        "Let's see why GPUs are useful in deep learning. Compare matrix multiplication speed for a few matrix shapes when implemented:\n",
        "1. as loops in Python\n",
        "2. using np.einsum\n",
        "3. using numpy on CPU\n",
        "4. using pytorch on CPU\n",
        "5. using pytorch on GPU\n",
        "\n",
        "Finally, consider two square matrices, $A$ and $B$. We have 4 possibilities of multiplying them or their transpositions:\n",
        "1. $AB$\n",
        "2. $A^TB$\n",
        "3. $AB^T$\n",
        "4. $A^TB^T$\n",
        "\n",
        "Which option is the fastest? Why?"
      ]
    },
    {
      "cell_type": "markdown",
      "metadata": {
        "cell_id": "00004-6fcf24af-39f5-4e54-a68e-21493b4f3484",
        "deepnote_cell_height": 313.1875,
        "deepnote_cell_type": "markdown",
        "id": "eQa69LGTaiym"
      },
      "source": [
        "## Problem 2: Stochastic Gradient Descent [3p]\n",
        "\n",
        "We provide below starter code that trains a softmax regression model. Alternatively, implement your own training loop and use it to solve this problem jointly with the next one.\n",
        "\n",
        "Implement the following additions to the SGD code provided:\n",
        "  1. **[1p]** momentum\n",
        "  2. **[1p]** learning rate schedule\n",
        "  3. **[1p]** weight decay, in which we additionally minimize for each weight matrix (but typically not the bias) the sum of its elements squared. One way to implement it is to use the function `model.named_parameters` and select all parameters whose names contain \"`weight`\" rather than \"`bias`\"."
      ]
    },
    {
      "cell_type": "markdown",
      "metadata": {
        "cell_id": "00005-08ef04aa-9e94-4455-bddc-b843562afd3f",
        "deepnote_cell_height": 350,
        "deepnote_cell_type": "markdown",
        "id": "YsLt4dGsaosv"
      },
      "source": [
        "## Problem 3: Tuning the Network for MNIST [4p]\n",
        "\n",
        "Tune the following network to reach **validation error rate below 1.9%**.\n",
        "This should result in a **test error rate below 2%**. To\n",
        "tune the network you will need to:\n",
        "1. Choose the number of layers (more than 1, less than 5);\n",
        "2. Choose the number of neurons in each layer (more than 100,\n",
        "    less than 5000);\n",
        "3. Pick proper weight initialization;\n",
        "4. Pick proper learning rate schedule (need to decay over time,\n",
        "    a good range to check on MNIST is about 1e-2 ... 1e-1 at the beginning and\n",
        "    half of that after 10000 batches);\n",
        "5. Pick a momentum constant (probably a constant one will be OK).\n",
        "\n",
        "\n",
        "Please note: there are many hyperparameter settings that give the desired answer, some may require tuning all hyperparameters, some only a few."
      ]
    },
    {
      "cell_type": "markdown",
      "metadata": {
        "cell_id": "00006-1469d97b-d10e-428a-a29a-f6446ffaa579",
        "deepnote_cell_height": 130.796875,
        "deepnote_cell_type": "markdown",
        "id": "YrUQloaln1UA"
      },
      "source": [
        "## Problem 4: Convolutional Network [2p]\n",
        "\n",
        "Use convolutional and max-pooling layers (`Conv2d`, `Max_pool2d` or their functional variants) and (without dropout) get a test error rate below 1.5%."
      ]
    },
    {
      "cell_type": "markdown",
      "metadata": {
        "cell_id": "00007-c363a8df-405f-4da9-a0ab-59e2fa166b63",
        "deepnote_cell_height": 338.1875,
        "deepnote_cell_type": "markdown",
        "id": "_9DaWUy_atrn"
      },
      "source": [
        "## Problem 5: Dropout [2p]\n",
        "\n",
        "Learn about dropout:\n",
        "\n",
        "- implement a **dropout** layer \n",
        "- or use `nn.Dropout` (then the exercise is worth 1.5 points)\n",
        "\n",
        "and try to train a\n",
        "network getting below 1.5% test error rates with dropout, but no convolutions, or below 1% when dropout is used jointly with convolutions!\n",
        "\n",
        "Remember to turn off dropout during testing, using `model.train()` and `model.eval()`!\n",
        "\n",
        "Hint: Use [torch.nn.functional.dropout](http://pytorch.org/docs/master/nn.html#torch.nn.functional.dropout).\n",
        "\n",
        "Details: http://arxiv.org/pdf/1207.0580.pdf."
      ]
    },
    {
      "cell_type": "markdown",
      "metadata": {
        "cell_id": "00008-b71ece13-36f1-4661-b0c6-3739ba0af279",
        "deepnote_cell_height": 212,
        "deepnote_cell_type": "markdown",
        "id": "mB3T_HuYawyQ"
      },
      "source": [
        "## Problem 6: Data Augmentation [1p]\n",
        "\n",
        "Apply data augmentation methods (e.g. rotations, noise, crops) when training networks on MNIST, to significantly reduce test error rate for your network. You can use functions from the [torchvision.transforms](http://pytorch.org/docs/master/torchvision/transforms.html) module.\n",
        "\n",
        "Please note: when using random transformations during training, make sure they are re-computed in every epoch. Consider applying augmentation either in the training loop or in the `InMemDataLoader`. For the second case, function `InMemDataLoader.__iter__` is a good place to do it."
      ]
    },
    {
      "cell_type": "markdown",
      "metadata": {
        "cell_id": "00009-9efae45c-dfcb-4687-b7c4-98b007244266",
        "deepnote_cell_height": 226,
        "deepnote_cell_type": "markdown",
        "id": "Af7itFE7a0eY"
      },
      "source": [
        "## Problem 7: Batch Normalization [1p]\n",
        "\n",
        "[Batch Normalization](https://arxiv.org/abs/1502.03167) helps training neural networks because it [normalizes layer activation magnitudes](https://papers.nips.cc/paper/7515-how-does-batch-normalization-help-optimization.pdf). It typically allows to train networks faster and/or with higher learning rates, lessens the importance\n",
        "of initialization and might eliminate the need for Dropout.\n",
        "\n",
        "Implement Batch Normalization and compare with regular training of MNIST models.\n",
        "\n",
        "Remember to use the batch statistics during model training and to use an average of training batch statistics during model evaluation. For details please consult the paper."
      ]
    },
    {
      "cell_type": "code",
      "source": [],
      "metadata": {
        "id": "ZUp2ZvxZBzIa"
      },
      "execution_count": null,
      "outputs": []
    },
    {
      "cell_type": "markdown",
      "metadata": {
        "cell_id": "00010-82d7197f-70be-49e8-8a59-99ea637bf693",
        "deepnote_cell_height": 212,
        "deepnote_cell_type": "markdown",
        "id": "CD1Ke8R4a1-Q"
      },
      "source": [
        "## Problem 8: Norm Constraints [1p]\n",
        "\n",
        "Implement norm constraints, i.e. instead of weight decay, that tries to set all weights to small values, apply a limit on the total\n",
        "norm of connections incoming to a neuron. In our case, this\n",
        "corresponds to clipping the norm of *rows* of weight\n",
        "matrices. An easy way of implementing it is to make a gradient\n",
        "step, then look at the norm of rows and scale down those that are\n",
        "over the threshold (this technique is called \"projected gradient descent\").\n",
        "\n",
        "Please consult the Dropout paper (http://arxiv.org/pdf/1207.0580.pdf) for details."
      ]
    },
    {
      "cell_type": "markdown",
      "metadata": {
        "cell_id": "00011-c12d33a7-8f7d-4d53-b4f4-23f90b3c17ed",
        "deepnote_cell_height": 181.84375,
        "deepnote_cell_type": "markdown",
        "id": "CL3_e1xCa4YG"
      },
      "source": [
        "## Problem 9: Polyak Averaging [1p]\n",
        "\n",
        "Implement Polyak averaging. For each parameter $\\theta$\n",
        "keep a separate, exponentially decayed average of the past values\n",
        "$$\n",
        "\\bar{\\theta}_n = \\alpha_p\\bar{\\theta}_{n-1} + (1-\\alpha_p)\\theta_n.\n",
        "$$\n",
        "Use that average when evaluating the model on the test set.\n",
        "Validate the approach by training a model on the MNIST dataset."
      ]
    },
    {
      "cell_type": "markdown",
      "metadata": {
        "cell_id": "00012-9ad9a7b8-4ee0-4df2-8a0c-6ed0cb246cdc",
        "deepnote_cell_height": 198,
        "deepnote_cell_type": "markdown",
        "id": "w7LoH9DIa88J"
      },
      "source": [
        "## Problem 10: Hyperparameter tuner [1p]\n",
        "\n",
        "Implement a hyper-parameter tuner able to optimize the learning rate schedule, number of neurons, and similar hyperparameters. To start, use a random search (please see http://jmlr.csail.mit.edu/papers/volume13/bergstra12a/bergstra12a.pdf and especially Fig 1. for intuitions on why random search is better than grid search). It may be a good idea to use a fixed maximum number of epochs (or training time) for each optimization trial to prevent selecting hyperparameters that yield slowly converging solutions. A good result will be a set of hyperparameters that reach on MNIST solutions with test errors less than $1.3\\%$ in no more than 50 epochs."
      ]
    },
    {
      "cell_type": "markdown",
      "metadata": {
        "cell_id": "00013-1bb7d06a-33a4-4e1a-9922-d09becbcbddb",
        "deepnote_cell_height": 464.390625,
        "deepnote_cell_type": "markdown",
        "id": "mzJTDu2aE8sk"
      },
      "source": [
        "## Problem 11: Pruning [1p]\n",
        "\n",
        "Prune the MNIST network to retain validation accuracy no worse than 0.1 percentage point at maximum sparsity (maximal number of weights removed from the network).\n",
        "\n",
        "One way to do it is to \n",
        "1. train the network, \n",
        "2. set to zero the smallest weights (typically you can zero up to 50% of weights)\n",
        "3. retrain the network, keeping the zeroed weights zeroed, and repeat"
      ]
    },
    {
      "cell_type": "markdown",
      "metadata": {
        "cell_id": "00014-bfe2d2f2-2578-47ee-9112-5f72785b0778",
        "deepnote_cell_height": 212,
        "deepnote_cell_type": "markdown",
        "id": "7jyEkvsqo2bx"
      },
      "source": [
        "## Problem 12: Extreme Learning Machine (ELM) [2p]\n",
        "\n",
        "Consider a neural network with 1 hidden layer. In the extreme learning approach, the first layer is not trained, but instead, it is randomly set. It is often very large. The second (output) layer weights can then be set using the closed-form formula for linear regression. Thus, training an ELM is fast (there is no iterative optimization) and one can try many different hyperparameters, such as hidden layer size, the random distribution from which weights are sampled, the hidden activation function, and so forth.\n",
        "\n",
        "Task: Implement an ELM for MNIST and try to reach the performance of your backpropagation-trained model."
      ]
    },
    {
      "cell_type": "markdown",
      "metadata": {
        "cell_id": "00015-f8cf66c4-94bb-492c-abb5-845f0be43678",
        "deepnote_cell_height": 130.796875,
        "deepnote_cell_type": "markdown",
        "id": "aotfN2N2FCM6"
      },
      "source": [
        "## Problem 13: Other tricks [1p-many]\n",
        "\n",
        "The neural network literature is full of tricks for training neural networks. Find some and implement them. Please note: the number of points depends on the hardness of the extension you want to implement. If in doubt, consult the TA beforehand"
      ]
    },
    {
      "cell_type": "markdown",
      "metadata": {
        "cell_id": "00016-c2f60d20-e061-443c-a8e3-1713b5192445",
        "deepnote_cell_height": 120.390625,
        "deepnote_cell_type": "markdown",
        "id": "NNfw6pY9sRJe"
      },
      "source": [
        "# Starter code\n",
        "\n",
        "The code below trains a SoftMax regression model in PyTorch. It can easily be extended into a full multilayer neural network."
      ]
    },
    {
      "cell_type": "code",
      "execution_count": 1,
      "metadata": {
        "cell_id": "00017-cf2d5c0e-2979-4394-9d7b-26cf2d6f6225",
        "deepnote_cell_height": 66,
        "deepnote_cell_type": "code",
        "id": "iEUPZksWm9YU"
      },
      "outputs": [],
      "source": [
        "%matplotlib inline"
      ]
    },
    {
      "cell_type": "code",
      "execution_count": 2,
      "metadata": {
        "cell_id": "00018-a007af69-e00b-42a8-8ccd-13a9d5d9f6a5",
        "deepnote_cell_height": 264,
        "deepnote_cell_type": "code",
        "id": "039umgT_lsH2"
      },
      "outputs": [],
      "source": [
        "import os\n",
        "import time\n",
        "\n",
        "import matplotlib.pyplot as plt\n",
        "import numpy as np\n",
        "from IPython.display import clear_output\n",
        "from tqdm.auto import tqdm\n",
        "from torch.utils.data import DataLoader\n",
        "from torchvision import datasets, transforms\n",
        "from torchvision.transforms import ToTensor\n",
        "import torch.optim as optim\n",
        "\n",
        "import torch\n",
        "import torch.nn.functional as F\n",
        "import torchvision.datasets\n",
        "from torch import nn"
      ]
    },
    {
      "cell_type": "code",
      "source": [
        "!pip install -q gdown httpimport\n",
        "!gdown 'https://github.com/wenjie-hoo/nn_uwr_22/raw/main/MNIST.tar.gz'"
      ],
      "metadata": {
        "colab": {
          "base_uri": "https://localhost:8080/"
        },
        "id": "MeMJN3gRvYjq",
        "outputId": "c66a655c-3533-4853-c3c8-23556ab124ed"
      },
      "execution_count": 3,
      "outputs": [
        {
          "output_type": "stream",
          "name": "stdout",
          "text": [
            "Downloading...\n",
            "From: https://github.com/wenjie-hoo/nn_uwr_22/raw/main/MNIST.tar.gz\n",
            "To: /content/MNIST.tar.gz\n",
            "\r  0% 0.00/34.8M [00:00<?, ?B/s]\r 89% 30.9M/34.8M [00:00<00:00, 307MB/s]\r100% 34.8M/34.8M [00:00<00:00, 320MB/s]\n"
          ]
        }
      ]
    },
    {
      "cell_type": "markdown",
      "source": [
        "### problem 1"
      ],
      "metadata": {
        "id": "MgzZUDrBuQkj"
      }
    },
    {
      "cell_type": "code",
      "source": [
        "def matmul_loop(a, b):\n",
        "    m, n = a.shape\n",
        "    n, p = b.shape\n",
        "    c = np.zeros((m, p))\n",
        "    for i in range(m):\n",
        "        for j in range(p):\n",
        "            for k in range(n):\n",
        "                c[i,j] += a[i,k] * b[k,j]\n",
        "    return c\n",
        "\n",
        "def matmul_einsum(a, b):\n",
        "    return np.einsum('ik,kj->ij', a, b)\n",
        "\n",
        "def matmul_np(a, b):\n",
        "    return np.matmul(a, b)\n",
        "\n",
        "def matmul_torch_cpu(a, b):\n",
        "    a_t = torch.from_numpy(a)\n",
        "    b_t = torch.from_numpy(b)\n",
        "    return torch.matmul(a_t, b_t).numpy()\n",
        "\n",
        "def matmul_torch_gpu(a, b):\n",
        "    a_t = torch.from_numpy(a).cuda()\n",
        "    b_t = torch.from_numpy(b).cuda()\n",
        "    return torch.matmul(a_t, b_t).cpu().numpy()\n",
        "if torch.cuda.is_available():\n",
        "  shapes = [(100, 100), (500, 500)]\n",
        "  for shape in shapes:\n",
        "      a = np.random.rand(*shape)\n",
        "      b = np.random.rand(*shape)\n",
        "\n",
        "      t0 = time.time()\n",
        "      matmul_loop(a, b)\n",
        "      t1 = time.time()\n",
        "      matmul_einsum(a, b)\n",
        "      t2 = time.time()\n",
        "      matmul_np(a, b)\n",
        "      t3 = time.time()\n",
        "      matmul_torch_cpu(a, b)\n",
        "      t4 = time.time()\n",
        "      matmul_torch_gpu(a, b)\n",
        "      t5 = time.time()\n",
        "\n",
        "      print(f\"Shape: {shape}\")\n",
        "      print(f\"Loop: {t1-t0:.5f}s\")\n",
        "      print(f\"Einsum: {t2-t1:.5f}s\")\n",
        "      print(f\"np.matmul: {t3-t2:.5f}s\")\n",
        "      print(f\"torch.matmul on CPU: {t4-t3:.5f}s\")\n",
        "      print(f\"torch.matmul on GPU: {t5-t4:.5f}s\")\n",
        "    "
      ],
      "metadata": {
        "colab": {
          "base_uri": "https://localhost:8080/"
        },
        "id": "o7jzKvzWC33c",
        "outputId": "50afc64c-bd20-43a9-935d-6b8e1c5def0c"
      },
      "execution_count": 4,
      "outputs": [
        {
          "output_type": "stream",
          "name": "stdout",
          "text": [
            "Shape: (100, 100)\n",
            "Loop: 0.53909s\n",
            "Einsum: 0.00047s\n",
            "np.matmul: 0.00348s\n",
            "torch.matmul on CPU: 0.06055s\n",
            "torch.matmul on GPU: 8.03817s\n",
            "Shape: (500, 500)\n",
            "Loop: 79.88447s\n",
            "Einsum: 0.04661s\n",
            "np.matmul: 0.00748s\n",
            "torch.matmul on CPU: 0.00986s\n",
            "torch.matmul on GPU: 0.00846s\n"
          ]
        }
      ]
    },
    {
      "cell_type": "code",
      "source": [
        "if torch.cuda.is_available():\n",
        "  A = torch.randn(10000, 10000)\n",
        "  B = torch.randn(10000, 10000)\n",
        "  device =torch.device('cuda')\n",
        "  A_gpu = A.to(device)\n",
        "  B_gpu = B.to(device)\n",
        "\n",
        "  AB_gpu = torch.matmul(A_gpu, B_gpu)\n",
        "  ATB_gpu = torch.matmul(A_gpu.T, B_gpu)\n",
        "  ABT_gpu = torch.matmul(A_gpu, B_gpu.T)\n",
        "  ATBT_gpu = torch.matmul(A_gpu.T, B_gpu.T)\n",
        "\n",
        "  t1 = time.time()\n",
        "  torch.matmul(A_gpu, B_gpu)\n",
        "  t2 = time.time()\n",
        "  torch.matmul(A_gpu.T, B_gpu)\n",
        "  t3 = time.time()\n",
        "  torch.matmul(A_gpu, B_gpu.T)\n",
        "  t4 = time.time()\n",
        "  torch.matmul(A_gpu.T, B_gpu.T)\n",
        "  t5 = time.time()\n",
        "\n",
        "  print(f\"AB on GPU: {t2-t1:.5f}s\")\n",
        "  print(f\"ATB on GPU: {t3-t2:.5f}s\")\n",
        "  print(f\"ABT on GPU: {t4-t3:.5f}s\")\n",
        "  print(f\"ATBT on GPU: {t5-t4:.5f}s\")\n"
      ],
      "metadata": {
        "colab": {
          "base_uri": "https://localhost:8080/"
        },
        "id": "2thEoz9DTgvo",
        "outputId": "16a30efe-7fc9-413d-88dc-e7784300ff19"
      },
      "execution_count": 5,
      "outputs": [
        {
          "output_type": "stream",
          "name": "stdout",
          "text": [
            "AB on GPU: 0.00049s\n",
            "ATB on GPU: 0.00003s\n",
            "ABT on GPU: 0.00003s\n",
            "ATBT on GPU: 0.00003s\n"
          ]
        }
      ]
    },
    {
      "cell_type": "markdown",
      "metadata": {
        "cell_id": "00020-12705b84-2e28-4596-878c-69510f5bf058",
        "deepnote_cell_height": 130.796875,
        "deepnote_cell_type": "markdown",
        "id": "OT6R09JnnYs9"
      },
      "source": [
        "## Data loading\n",
        "\n",
        "Training speed is important. By default, data is loaded on the CPU, then shipped in batches to the GPU. For this exercise, we will load the full dataset onto the GPU, which speeds up training."
      ]
    },
    {
      "cell_type": "code",
      "execution_count": 23,
      "metadata": {
        "cell_id": "00021-b3c4901d-b2c9-400d-84d3-667224735d7d",
        "deepnote_cell_height": 1362,
        "deepnote_cell_type": "code",
        "id": "OPh9uR8ZorL7"
      },
      "outputs": [],
      "source": [
        "class InMemDataLoader(object):\n",
        "    \"\"\"\n",
        "    A data loader that keeps all data in CPU or GPU memory.\n",
        "    \"\"\"\n",
        "\n",
        "    __initialized = False\n",
        "\n",
        "    def __init__(\n",
        "        self,\n",
        "        dataset,\n",
        "        batch_size=1,\n",
        "        shuffle=False,\n",
        "        sampler=None,\n",
        "        batch_sampler=None,\n",
        "        drop_last=False,\n",
        "        transform = None\n",
        "    ):\n",
        "        \"\"\"A torch dataloader that fetches data from memory.\"\"\"\n",
        "        batches = []\n",
        "        for i in tqdm(range(len(dataset))):\n",
        "            batch = [torch.tensor(t) for t in dataset[i]]\n",
        "            batches.append(batch)\n",
        "        tensors = [torch.stack(ts) for ts in zip(*batches)]\n",
        "        dataset = torch.utils.data.TensorDataset(*tensors)\n",
        "        self.dataset = dataset\n",
        "        self.batch_size = batch_size\n",
        "        self.drop_last = drop_last\n",
        "        self.transform = transform\n",
        "        if transform is not None:\n",
        "            transform=transforms.Compose([\n",
        "              transforms.RandomHorizontalFlip(),        \n",
        "              transforms.RandomVerticalFlip(),         \n",
        "              transforms.RandomRotation(15),           \n",
        "              transforms.RandomRotation([90, 180]),     \n",
        "              transforms.Resize([32, 32]),             \n",
        "              transforms.RandomCrop([28, 28]),       \n",
        "              transforms.ToTensor(),\n",
        "              transforms.Normalize((0.1307,), (0.3081,))\n",
        "                    ])\n",
        "        if batch_sampler is not None:\n",
        "            if batch_size > 1 or shuffle or sampler is not None or drop_last:\n",
        "                raise ValueError(\n",
        "                    \"batch_sampler option is mutually exclusive \"\n",
        "                    \"with batch_size, shuffle, sampler, and \"\n",
        "                    \"drop_last\"\n",
        "                )\n",
        "            self.batch_size = None\n",
        "            self.drop_last = None\n",
        "\n",
        "        if sampler is not None and shuffle:\n",
        "            raise ValueError(\"sampler option is mutually exclusive with \" \"shuffle\")\n",
        "\n",
        "        if batch_sampler is None:\n",
        "            if sampler is None:\n",
        "                if shuffle:\n",
        "                    sampler = torch.utils.data.RandomSampler(dataset)\n",
        "                else:\n",
        "                    sampler = torch.utils.data.SequentialSampler(dataset)\n",
        "            batch_sampler = torch.utils.data.BatchSampler(\n",
        "                sampler, batch_size, drop_last\n",
        "            )\n",
        "\n",
        "        self.sampler = sampler\n",
        "        self.batch_sampler = batch_sampler\n",
        "        self.__initialized = True\n",
        "\n",
        "    def __setattr__(self, attr, val):\n",
        "        if self.__initialized and attr in (\"batch_size\", \"sampler\", \"drop_last\"):\n",
        "            raise ValueError(\n",
        "                \"{} attribute should not be set after {} is \"\n",
        "                \"initialized\".format(attr, self.__class__.__name__)\n",
        "            )\n",
        "\n",
        "        super(InMemDataLoader, self).__setattr__(attr, val)\n",
        "\n",
        "    def __iter__(self):\n",
        "        for batch_indices in self.batch_sampler:\n",
        "            yield self.dataset[batch_indices]\n",
        "\n",
        "    def __len__(self):\n",
        "        return len(self.batch_sampler)\n",
        "\n",
        "    def to(self, device):\n",
        "        self.dataset.tensors = tuple(t.to(device) for t in self.dataset.tensors)\n",
        "        return self"
      ]
    },
    {
      "cell_type": "code",
      "execution_count": 7,
      "metadata": {
        "cell_id": "00022-781fa74f-113b-42aa-abad-f98814527964",
        "deepnote_cell_height": 390,
        "deepnote_cell_type": "code",
        "id": "d4RuDI9YpPhe"
      },
      "outputs": [],
      "source": [
        "# Monkey-patch MNIST to use a more robust MIST mirror\n",
        "torchvision.datasets.MNIST.resources = [\n",
        "    (\n",
        "        \"https://web.archive.org/web/20150906081542/http://yann.lecun.com/exdb/mnist/train-images-idx3-ubyte.gz\",\n",
        "        \"f68b3c2dcbeaaa9fbdd348bbdeb94873\",\n",
        "    ),\n",
        "    (\n",
        "        \"https://web.archive.org/web/20150906081542/http://yann.lecun.com/exdb/mnist/train-labels-idx1-ubyte.gz\",\n",
        "        \"d53e105ee54ea40749a09fcbcd1e9432\",\n",
        "    ),\n",
        "    (\n",
        "        \"https://web.archive.org/web/20150906081542/http://yann.lecun.com/exdb/mnist/t10k-images-idx3-ubyte.gz\",\n",
        "        \"9fb629c4189551a2d022fa330f9573f3\",\n",
        "    ),\n",
        "    (\n",
        "        \"https://web.archive.org/web/20150906081542/http://yann.lecun.com/exdb/mnist/t10k-labels-idx1-ubyte.gz\",\n",
        "        \"ec29112dd5afa0611ce80d1b7f02629c\",\n",
        "    ),\n",
        "]"
      ]
    },
    {
      "cell_type": "code",
      "execution_count": 8,
      "metadata": {
        "cell_id": "00023-1ae08eac-ed89-46d5-b212-29029275d401",
        "deepnote_cell_height": 1054.796875,
        "deepnote_cell_type": "code",
        "id": "wDM2KTPQm8V3"
      },
      "outputs": [],
      "source": [
        "# # Load the data\n",
        "\n",
        "# batch_size = 128\n",
        "# data_path = \"./data\"\n",
        "\n",
        "# transform = torchvision.transforms.Compose(\n",
        "#     [\n",
        "#         torchvision.transforms.ToTensor(),\n",
        "#         torchvision.transforms.Normalize((0.1307,), (0.3081,)),\n",
        "#     ]\n",
        "# )\n",
        "\n",
        "# _test = datasets.MNIST(root='./data', train=False, download=True, transform=None)\n",
        "\n",
        "# # Load training data, split into train and valid sets\n",
        "# _train = datasets.MNIST(root='./data', train=True, download=True, transform=None)\n",
        "# _train.data = _train.data[:50000]\n",
        "# _train.targets = _train.targets[:50000]\n",
        "\n",
        "\n",
        "# _valid = datasets.MNIST(root='./data', train=True, download=True, transform=None)\n",
        "# _valid.data = _valid.data[50000:]\n",
        "# _valid.targets = _valid.targets[50000:]\n",
        "\n",
        "# mnist_loaders = {\n",
        "#     \"train\": DataLoader(_train, batch_size=batch_size, shuffle=True),\n",
        "#     \"valid\": DataLoader(_valid, batch_size=batch_size, shuffle=False),\n",
        "#     \"test\": DataLoader(_test, batch_size=batch_size, shuffle=False),\n",
        "# }"
      ]
    },
    {
      "cell_type": "code",
      "source": [
        "# load dataset locally\n",
        "! mkdir ./data\n",
        "! tar -zxvf ./MNIST.tar.gz -C ./data/\n",
        "! ls ./data/"
      ],
      "metadata": {
        "colab": {
          "base_uri": "https://localhost:8080/"
        },
        "id": "nEHdwDTog3LP",
        "outputId": "b67b384e-fd09-4367-bc38-3a85e80db620"
      },
      "execution_count": 9,
      "outputs": [
        {
          "output_type": "stream",
          "name": "stdout",
          "text": [
            "MNIST/\n",
            "MNIST/raw/\n",
            "MNIST/raw/train-labels-idx1-ubyte\n",
            "MNIST/raw/t10k-labels-idx1-ubyte.gz\n",
            "MNIST/raw/t10k-labels-idx1-ubyte\n",
            "MNIST/raw/t10k-images-idx3-ubyte.gz\n",
            "MNIST/raw/train-images-idx3-ubyte\n",
            "MNIST/raw/train-labels-idx1-ubyte.gz\n",
            "MNIST/raw/t10k-images-idx3-ubyte\n",
            "MNIST/raw/train-images-idx3-ubyte.gz\n",
            "MNIST/processed/\n",
            "MNIST/processed/training.pt\n",
            "MNIST/processed/test.pt\n",
            "MNIST\n"
          ]
        }
      ]
    },
    {
      "cell_type": "code",
      "source": [
        "from torchvision.datasets import MNIST\n",
        "dataset = torchvision.datasets.MNIST('./data')\n",
        "\n",
        "train_dataset = MNIST(root='./data/', train=True, download=False, transform=ToTensor())\n",
        "train_loader = InMemDataLoader(train_dataset,batch_size=64, shuffle=True)\n",
        "# train_loader = DataLoader(train_dataset, batch_size=64, shuffle=True)\n",
        "test_dataset = MNIST(root='./data/', train=False, download=False, transform=ToTensor())\n",
        "test_loader = InMemDataLoader(test_dataset,batch_size=64, shuffle=True)\n",
        "# test_loader = DataLoader(test_dataset, batch_size=64, shuffle=False)"
      ],
      "metadata": {
        "id": "fTj66gaHhbnv",
        "colab": {
          "base_uri": "https://localhost:8080/",
          "height": 137,
          "referenced_widgets": [
            "7ac3246446cc449d93b5297c89b5eb34",
            "78ff904230a3414eb1d4b8dc054061a0",
            "c030a12d66644f53adeaf8e905084d0f",
            "ec1e37cdf60a4a9f85ffbc3606335907",
            "5d23869ec6904378abd35409d3f9d256",
            "3b03166f265641508dab5ba83302122c",
            "95af11b8e34c43c891d76bba198a8db5",
            "d31b1222392b4ba6a15f9b579e16e4bb",
            "714bb7b95763448396ee2fc37de35e9f",
            "152ec9e2566c4fd5848406d2727d65bf",
            "1e115e79cc014107bfcba2e4fec9cf85",
            "befb7932977b420983356b0951167b8e",
            "260bf0a5695943798c263e6c87e0cfbb",
            "9b8fc8bfc5e3465a864d1e94b2922b07",
            "7f2f3f9feef8426ba19ac8456a834d58",
            "26e87858a3954ed5a43d46919f45614f",
            "9262d41ffe12412a92aedaaaad2eddbe",
            "4d09b3d076544432bcdcb7870f9f6311",
            "27c1265eba09404894eb707ab0d13f0c",
            "e28d5dce53cf484fb6e0b85d03e5791c",
            "a6a075f1facc4b208eb789f2eee82a89",
            "777c920073d741f99c164d95df56a740"
          ]
        },
        "outputId": "7177f6f1-6790-4420-a9cc-11be973f2401"
      },
      "execution_count": 10,
      "outputs": [
        {
          "output_type": "display_data",
          "data": {
            "text/plain": [
              "  0%|          | 0/60000 [00:00<?, ?it/s]"
            ],
            "application/vnd.jupyter.widget-view+json": {
              "version_major": 2,
              "version_minor": 0,
              "model_id": "7ac3246446cc449d93b5297c89b5eb34"
            }
          },
          "metadata": {}
        },
        {
          "output_type": "stream",
          "name": "stderr",
          "text": [
            "<ipython-input-6-99d76216e041>:21: UserWarning: To copy construct from a tensor, it is recommended to use sourceTensor.clone().detach() or sourceTensor.clone().detach().requires_grad_(True), rather than torch.tensor(sourceTensor).\n",
            "  batch = [torch.tensor(t) for t in dataset[i]]\n"
          ]
        },
        {
          "output_type": "display_data",
          "data": {
            "text/plain": [
              "  0%|          | 0/10000 [00:00<?, ?it/s]"
            ],
            "application/vnd.jupyter.widget-view+json": {
              "version_major": 2,
              "version_minor": 0,
              "model_id": "befb7932977b420983356b0951167b8e"
            }
          },
          "metadata": {}
        }
      ]
    },
    {
      "cell_type": "code",
      "source": [
        "# from torchvision.datasets import MNIST\n",
        "# dataset = MNIST(root = 'data/', download = True)\n",
        "\n",
        "# train_dataset = MNIST(root=\"./data\", train=True, download=True, transform=ToTensor())\n",
        "# train_loader = InMemDataLoader(train_dataset,batch_size=64, shuffle=True)\n",
        "# # train_loader = DataLoader(train_dataset, batch_size=64, shuffle=True)\n",
        "# test_dataset = MNIST(root=\"./data\", train=False, download=True, transform=ToTensor())\n",
        "# test_loader = InMemDataLoader(test_dataset,batch_size=64, shuffle=True)\n",
        "# # test_loader = DataLoader(test_dataset, batch_size=64, shuffle=False)"
      ],
      "metadata": {
        "id": "KxHCqF6nRPUI"
      },
      "execution_count": 11,
      "outputs": []
    },
    {
      "cell_type": "markdown",
      "metadata": {
        "cell_id": "00024-481f7a8f-3abb-4f8f-aaba-951e8e06aafc",
        "deepnote_cell_height": 108.390625,
        "deepnote_cell_type": "markdown",
        "id": "rRYr7XmnnGO_"
      },
      "source": [
        "## SGD implementation\n",
        "\n",
        "We provide below a scaffolding for SGD. You will need to fill the TODOs while solving the assignments."
      ]
    },
    {
      "cell_type": "markdown",
      "source": [
        "### problem 2"
      ],
      "metadata": {
        "id": "lQLnlcdzsp4y"
      }
    },
    {
      "cell_type": "code",
      "source": [
        "def compute_error_rate(model, data_loader, device=\"cpu\"):\n",
        "    \"\"\"Evaluate model on all samples from the data loader.\n",
        "    \"\"\"\n",
        "    # Put the model in eval mode, and move to the evaluation device.\n",
        "    model.eval()\n",
        "    model.to(device)\n",
        "    if isinstance(data_loader, InMemDataLoader):\n",
        "        data_loader.to(device)\n",
        "\n",
        "    num_errs = 0.0\n",
        "    num_examples = 0\n",
        "    # we don't need gradient during eval!\n",
        "    with torch.no_grad():\n",
        "        for x, y in data_loader:\n",
        "            x = x.to(device)\n",
        "            y = y.to(device)\n",
        "            outputs = model.forward(x)\n",
        "            _, predictions = outputs.data.max(dim=1)\n",
        "            num_errs += (predictions != y.data).sum().item()\n",
        "            num_examples += x.size(0)\n",
        "    return num_errs / num_examples\n",
        "\n",
        "\n",
        "def plot_history(history):\n",
        "    \"\"\"Helper to plot the trainig progress over time.\"\"\"\n",
        "    plt.figure(figsize=(16, 4))\n",
        "    plt.subplot(1, 2, 1)\n",
        "    train_loss = np.array(history[\"train_losses\"])\n",
        "    plt.semilogy(np.arange(train_loss.shape[0]), train_loss, label=\"batch train loss\")\n",
        "    plt.legend()\n",
        "\n",
        "    plt.subplot(1, 2, 2)\n",
        "    train_errs = np.array(history[\"train_errs\"])\n",
        "    plt.plot(np.arange(train_errs.shape[0]), train_errs, label=\"batch train error rate\")\n",
        "    val_errs = np.array(history[\"val_errs\"])\n",
        "    plt.plot(val_errs[:, 0], val_errs[:, 1], label=\"validation error rate\", color=\"r\")\n",
        "    plt.ylim(0, 0.20)\n",
        "    plt.legend()"
      ],
      "metadata": {
        "id": "qDzx3PIg8X7q"
      },
      "execution_count": 12,
      "outputs": []
    },
    {
      "cell_type": "code",
      "execution_count": 13,
      "metadata": {
        "cell_id": "00025-2145e55b-7562-438c-bce3-8720962f9bfb",
        "deepnote_cell_height": 2460,
        "deepnote_cell_type": "code",
        "id": "WY1xG-cqnRoE"
      },
      "outputs": [],
      "source": [
        "from matplotlib import parse_version\n",
        "def SGD(model, num_epochs: int\n",
        "):\n",
        "  optimizer = optim.SGD(model.parameters(), lr=0.1, momentum=0.9, weight_decay=0.0001)\n",
        "  # optimizer = torch.optim.Adam(model.parameters( ),lr=0.1, weight_decay=0.001)\n",
        "  history = {\"train_losses\": [], \"train_errs\": [], \"val_errs\": []}\n",
        "  loss_count = []\n",
        "  for epoch in range(num_epochs):\n",
        "      model.train()\n",
        "      for i, (x, y_true) in enumerate(train_loader):\n",
        "          # if torch.cuda.is_available():\n",
        "          x = x.to(device)\n",
        "          y_true = y_true.to(device)\n",
        "          optimizer.zero_grad()\n",
        "          y_pred = model(x)\n",
        "          y_pred = y_pred.to(device)\n",
        "          loss = model.loss(y_pred, y_true)\n",
        "          loss_count.append(loss.item())\n",
        "          loss.backward()\n",
        "          optimizer.step()\n",
        "          _, y_pred_labels = torch.max(y_pred.data, 1)\n",
        "          batch_err_rate = 1.0 - torch.mean((y_pred_labels == y_true).float())\n",
        "          history[\"train_losses\"].append(loss.item())\n",
        "          history[\"train_errs\"].append(batch_err_rate.item())\n",
        "          if (i + 1) % 200 == 0:\n",
        "              print(\n",
        "                  f\"Epoch {epoch+1}, Batch {i+1}, Loss: {loss.item():.4f}, Error Rate: {batch_err_rate.item()*100:.2f}%\"\n",
        "              )\n",
        "      model.eval()\n",
        "      val_err_rate = 0.0\n",
        "      with torch.no_grad():\n",
        "          for x, y_true in test_loader:\n",
        "              y_pred = model(x)\n",
        "              y_true = y_true.to(device)\n",
        "              _, y_pred_labels = torch.max(y_pred.data, 1)\n",
        "              y_pred_labels = y_pred_labels.to(device)\n",
        "              batch_err_rate = 1.0 - torch.mean((y_pred_labels == y_true).float())\n",
        "              val_err_rate += batch_err_rate.item() * x.size(0)\n",
        "      val_err_rate /= len(test_loader.dataset)\n",
        "      history[\"val_errs\"].append((epoch+1, val_err_rate))\n",
        "      print(f\"Validation error rate: {val_err_rate*100:.2f}%\")\n",
        "  plt.figure('PyTorch_CNN_Loss')\n",
        "  plt.plot(loss_count, label='Loss')\n",
        "  plt.legend('Loss') \n",
        "  plt.show()\n"
      ]
    },
    {
      "cell_type": "code",
      "execution_count": 14,
      "metadata": {
        "cell_id": "00026-06863917-ddb1-425f-9d6e-93c06b30e87b",
        "colab": {
          "base_uri": "https://localhost:8080/",
          "height": 1000
        },
        "deepnote_cell_height": 1464.5625,
        "deepnote_cell_type": "code",
        "deepnote_output_heights": [
          null,
          249.5,
          251.078125
        ],
        "id": "2gmDmR2K6CVQ",
        "outputId": "4a72ae0d-122c-4f2b-e066-96200beaffdd"
      },
      "outputs": [
        {
          "output_type": "stream",
          "name": "stdout",
          "text": [
            "Epoch 1, Batch 200, Loss: 0.4121, Error Rate: 6.25%\n",
            "Epoch 1, Batch 400, Loss: 0.4284, Error Rate: 12.50%\n",
            "Epoch 1, Batch 600, Loss: 0.2447, Error Rate: 7.81%\n",
            "Epoch 1, Batch 800, Loss: 0.2850, Error Rate: 7.81%\n",
            "Validation error rate: 7.39%\n",
            "Epoch 2, Batch 200, Loss: 0.3058, Error Rate: 6.25%\n",
            "Epoch 2, Batch 400, Loss: 0.1735, Error Rate: 4.69%\n",
            "Epoch 2, Batch 600, Loss: 0.1414, Error Rate: 4.69%\n",
            "Epoch 2, Batch 800, Loss: 0.3025, Error Rate: 4.69%\n",
            "Validation error rate: 4.64%\n",
            "Epoch 3, Batch 200, Loss: 0.2567, Error Rate: 6.25%\n",
            "Epoch 3, Batch 400, Loss: 0.1966, Error Rate: 7.81%\n",
            "Epoch 3, Batch 600, Loss: 0.0800, Error Rate: 3.12%\n",
            "Epoch 3, Batch 800, Loss: 0.3917, Error Rate: 4.69%\n",
            "Validation error rate: 4.62%\n",
            "Epoch 4, Batch 200, Loss: 0.2817, Error Rate: 4.69%\n",
            "Epoch 4, Batch 400, Loss: 0.1847, Error Rate: 4.69%\n",
            "Epoch 4, Batch 600, Loss: 0.0533, Error Rate: 1.56%\n",
            "Epoch 4, Batch 800, Loss: 0.1885, Error Rate: 6.25%\n",
            "Validation error rate: 3.99%\n",
            "Epoch 5, Batch 200, Loss: 0.0984, Error Rate: 3.12%\n",
            "Epoch 5, Batch 400, Loss: 0.0165, Error Rate: 0.00%\n",
            "Epoch 5, Batch 600, Loss: 0.0159, Error Rate: 0.00%\n",
            "Epoch 5, Batch 800, Loss: 0.1513, Error Rate: 4.69%\n",
            "Validation error rate: 3.68%\n",
            "Epoch 6, Batch 200, Loss: 0.0590, Error Rate: 1.56%\n",
            "Epoch 6, Batch 400, Loss: 0.0642, Error Rate: 1.56%\n",
            "Epoch 6, Batch 600, Loss: 0.0498, Error Rate: 3.12%\n",
            "Epoch 6, Batch 800, Loss: 0.1220, Error Rate: 3.12%\n",
            "Validation error rate: 3.47%\n",
            "Epoch 7, Batch 200, Loss: 0.0618, Error Rate: 1.56%\n",
            "Epoch 7, Batch 400, Loss: 0.1132, Error Rate: 4.69%\n",
            "Epoch 7, Batch 600, Loss: 0.1410, Error Rate: 3.12%\n",
            "Epoch 7, Batch 800, Loss: 0.0949, Error Rate: 3.12%\n",
            "Validation error rate: 3.25%\n",
            "Epoch 8, Batch 200, Loss: 0.0911, Error Rate: 3.12%\n",
            "Epoch 8, Batch 400, Loss: 0.0235, Error Rate: 0.00%\n",
            "Epoch 8, Batch 600, Loss: 0.0377, Error Rate: 0.00%\n",
            "Epoch 8, Batch 800, Loss: 0.0957, Error Rate: 4.69%\n",
            "Validation error rate: 2.97%\n",
            "Epoch 9, Batch 200, Loss: 0.0149, Error Rate: 0.00%\n",
            "Epoch 9, Batch 400, Loss: 0.0633, Error Rate: 1.56%\n",
            "Epoch 9, Batch 600, Loss: 0.0137, Error Rate: 0.00%\n",
            "Epoch 9, Batch 800, Loss: 0.0024, Error Rate: 0.00%\n",
            "Validation error rate: 2.91%\n",
            "Epoch 10, Batch 200, Loss: 0.0109, Error Rate: 0.00%\n",
            "Epoch 10, Batch 400, Loss: 0.0532, Error Rate: 1.56%\n",
            "Epoch 10, Batch 600, Loss: 0.0967, Error Rate: 4.69%\n",
            "Epoch 10, Batch 800, Loss: 0.0394, Error Rate: 1.56%\n",
            "Validation error rate: 3.11%\n"
          ]
        },
        {
          "output_type": "display_data",
          "data": {
            "text/plain": [
              "<Figure size 640x480 with 1 Axes>"
            ],
            "image/png": "[encoded data removed]"
          },
          "metadata": {}
        },
        {
          "output_type": "stream",
          "name": "stdout",
          "text": [
            "training took 15s.\n"
          ]
        }
      ],
      "source": [
        "class Model_p2(nn.Module):\n",
        "    def __init__(self):\n",
        "        super(Model_p2, self).__init__()\n",
        "        self.fc1 = torch.nn.Linear(784, 100)\n",
        "        self.fc2 = torch.nn.Linear(100, 10)\n",
        "    def forward(self, X):\n",
        "        X = X.view(-1, 784)\n",
        "        X = X.to(device)\n",
        "        X = F.relu(self.fc1(X))\n",
        "        X = self.fc2(X)\n",
        "        return X\n",
        "    def loss(self, Out, Targets):\n",
        "        return F.cross_entropy(Out, Targets)\n",
        "\n",
        "device = torch.device(\"cuda\" if torch.cuda.is_available() else \"cpu\")\n",
        "model = Model_p2().to(device)\n",
        "# model.to(device)\n",
        "with torch.no_grad():\n",
        "    # Initialize parameters\n",
        "    for name, p in model.named_parameters():\n",
        "        if \"weight\" in name:\n",
        "            p.normal_(0, 0.5)\n",
        "        elif \"bias\" in name:\n",
        "            p.zero_()\n",
        "        else:\n",
        "            raise ValueError('Unknown parameter name \"%s\"' % name)\n",
        "\n",
        "# On GPU enabled devices set device='cuda' else set device='cpu'\n",
        "t_start = time.time()\n",
        "SGD(model,num_epochs = 10)\n",
        "print(f\"training took {time.time() - t_start:.0f}s.\")\n"
      ]
    },
    {
      "cell_type": "code",
      "source": [
        "class Model_p3(nn.Module):\n",
        "    def __init__(self):\n",
        "        super(Model_p3, self).__init__()\n",
        "        self.hidden1 = nn.Sequential(nn.Linear(28*28, 200), nn.BatchNorm1d(200), nn.ReLU(True))\n",
        "        self.hidden2 = nn.Sequential(nn.Linear(200, 200), nn.BatchNorm1d(200), nn.ReLU(True))\n",
        "        self.hidden3 = nn.Sequential(nn.Linear(200, 200), nn.BatchNorm1d(200), nn.ReLU(True))\n",
        "        self.predict = nn.Linear(200, 10)\n",
        "    def forward(self, x):\n",
        "        x = x.view(x.size(0), -1)\n",
        "        x = x.to(device)\n",
        "        x = self.hidden1(x)\n",
        "        x = self.hidden2(x)\n",
        "        x = self.hidden3(x)\n",
        "        x = self.predict(x)\n",
        "        return x\n",
        "    def loss(self, Out, Targets):\n",
        "        return F.cross_entropy(Out, Targets)\n",
        "\n",
        "device = torch.device(\"cuda\" if torch.cuda.is_available() else \"cpu\")\n",
        "net_mnist = Model_p3()\n",
        "net_mnist.to(device)\n",
        "\n",
        "\n",
        "t_start = time.time()\n",
        "SGD(net_mnist,num_epochs =10)\n",
        "print(f\"training took {time.time() - t_start:.0f}s.\")\n"
      ],
      "metadata": {
        "colab": {
          "base_uri": "https://localhost:8080/",
          "height": 1000
        },
        "id": "lLXF5M-4yOlN",
        "outputId": "43c778d7-a3d8-4396-ecc4-4b80c75aa400"
      },
      "execution_count": 15,
      "outputs": [
        {
          "output_type": "stream",
          "name": "stdout",
          "text": [
            "Epoch 1, Batch 200, Loss: 0.3970, Error Rate: 9.38%\n",
            "Epoch 1, Batch 400, Loss: 0.2998, Error Rate: 7.81%\n",
            "Epoch 1, Batch 600, Loss: 0.0816, Error Rate: 1.56%\n",
            "Epoch 1, Batch 800, Loss: 0.1148, Error Rate: 3.12%\n",
            "Validation error rate: 3.23%\n",
            "Epoch 2, Batch 200, Loss: 0.0328, Error Rate: 0.00%\n",
            "Epoch 2, Batch 400, Loss: 0.0800, Error Rate: 4.69%\n",
            "Epoch 2, Batch 600, Loss: 0.0256, Error Rate: 0.00%\n",
            "Epoch 2, Batch 800, Loss: 0.0418, Error Rate: 1.56%\n",
            "Validation error rate: 3.03%\n",
            "Epoch 3, Batch 200, Loss: 0.0728, Error Rate: 3.12%\n",
            "Epoch 3, Batch 400, Loss: 0.1006, Error Rate: 1.56%\n",
            "Epoch 3, Batch 600, Loss: 0.1196, Error Rate: 6.25%\n",
            "Epoch 3, Batch 800, Loss: 0.0876, Error Rate: 3.12%\n",
            "Validation error rate: 2.29%\n",
            "Epoch 4, Batch 200, Loss: 0.0584, Error Rate: 1.56%\n",
            "Epoch 4, Batch 400, Loss: 0.0150, Error Rate: 0.00%\n",
            "Epoch 4, Batch 600, Loss: 0.0430, Error Rate: 1.56%\n",
            "Epoch 4, Batch 800, Loss: 0.0586, Error Rate: 1.56%\n",
            "Validation error rate: 2.05%\n",
            "Epoch 5, Batch 200, Loss: 0.0164, Error Rate: 0.00%\n",
            "Epoch 5, Batch 400, Loss: 0.0161, Error Rate: 0.00%\n",
            "Epoch 5, Batch 600, Loss: 0.0806, Error Rate: 1.56%\n",
            "Epoch 5, Batch 800, Loss: 0.0756, Error Rate: 3.12%\n",
            "Validation error rate: 2.02%\n",
            "Epoch 6, Batch 200, Loss: 0.0370, Error Rate: 1.56%\n",
            "Epoch 6, Batch 400, Loss: 0.1051, Error Rate: 6.25%\n",
            "Epoch 6, Batch 600, Loss: 0.0072, Error Rate: 0.00%\n",
            "Epoch 6, Batch 800, Loss: 0.0336, Error Rate: 1.56%\n",
            "Validation error rate: 2.09%\n",
            "Epoch 7, Batch 200, Loss: 0.0450, Error Rate: 1.56%\n",
            "Epoch 7, Batch 400, Loss: 0.1667, Error Rate: 6.25%\n",
            "Epoch 7, Batch 600, Loss: 0.0649, Error Rate: 1.56%\n",
            "Epoch 7, Batch 800, Loss: 0.0257, Error Rate: 1.56%\n",
            "Validation error rate: 1.95%\n",
            "Epoch 8, Batch 200, Loss: 0.0153, Error Rate: 0.00%\n",
            "Epoch 8, Batch 400, Loss: 0.0219, Error Rate: 1.56%\n",
            "Epoch 8, Batch 600, Loss: 0.0304, Error Rate: 1.56%\n",
            "Epoch 8, Batch 800, Loss: 0.0114, Error Rate: 0.00%\n",
            "Validation error rate: 2.43%\n",
            "Epoch 9, Batch 200, Loss: 0.0022, Error Rate: 0.00%\n",
            "Epoch 9, Batch 400, Loss: 0.0129, Error Rate: 0.00%\n",
            "Epoch 9, Batch 600, Loss: 0.1397, Error Rate: 3.12%\n",
            "Epoch 9, Batch 800, Loss: 0.1233, Error Rate: 3.12%\n",
            "Validation error rate: 2.10%\n",
            "Epoch 10, Batch 200, Loss: 0.0101, Error Rate: 0.00%\n",
            "Epoch 10, Batch 400, Loss: 0.0126, Error Rate: 0.00%\n",
            "Epoch 10, Batch 600, Loss: 0.0787, Error Rate: 1.56%\n",
            "Epoch 10, Batch 800, Loss: 0.0078, Error Rate: 0.00%\n",
            "Validation error rate: 2.35%\n"
          ]
        },
        {
          "output_type": "display_data",
          "data": {
            "text/plain": [
              "<Figure size 640x480 with 1 Axes>"
            ],
            "image/png": "[encoded data removed]"
          },
          "metadata": {}
        },
        {
          "output_type": "stream",
          "name": "stdout",
          "text": [
            "training took 27s.\n"
          ]
        }
      ]
    },
    {
      "cell_type": "markdown",
      "source": [
        "### problem 4 cnn"
      ],
      "metadata": {
        "id": "JT2D8GiFztQh"
      }
    },
    {
      "cell_type": "code",
      "source": [
        "class CNNnet(torch.nn.Module):\n",
        "    def __init__(self):\n",
        "        super(CNNnet,self).__init__()\n",
        "        self.conv1 = torch.nn.Sequential(torch.nn.Conv2d(in_channels=1,\n",
        "                            out_channels=16,\n",
        "                            kernel_size=3,\n",
        "                            stride=2,\n",
        "                            padding=1), torch.nn.ReLU())\n",
        "        self.conv2 = torch.nn.Sequential(torch.nn.Conv2d(16,32,3,2,1),torch.nn.ReLU())\n",
        "        self.conv3 = torch.nn.Sequential(torch.nn.Conv2d(32,64,3,2,1),torch.nn.ReLU())\n",
        "        self.conv4 = torch.nn.Sequential(torch.nn.Conv2d(64,64,2,2,0),torch.nn.ReLU())\n",
        "        self.mlp1 = torch.nn.Linear(2*2*64,100)\n",
        "        self.mlp2 = torch.nn.Linear(100,10)\n",
        "    def forward(self,x):\n",
        "        x = x.to(device)\n",
        "        x = self.conv1(x)\n",
        "        x = self.conv2(x)\n",
        "        x = self.conv3(x)\n",
        "        x = self.conv4(x)\n",
        "        x = self.mlp1(x.view(x.size(0),-1))\n",
        "        x = self.mlp2(x)\n",
        "        return x\n",
        "    def loss(self, Out, Targets):\n",
        "        return F.cross_entropy(Out, Targets)"
      ],
      "metadata": {
        "id": "S390xdTFzvF8"
      },
      "execution_count": 16,
      "outputs": []
    },
    {
      "cell_type": "code",
      "source": [
        "def cnn_train(model, num_epochs:int, train_loader, test_loader) :\n",
        "    model = CNNnet()\n",
        "    model.to(device)\n",
        "    # opt = torch.optim.Adam(model.parameters( ),lr=0.001)\n",
        "    # opt = torch.optim.SGD(model.parameters( ), lr=0.001, momentum=0.8)\n",
        "    opt = torch.optim.RMSprop(model.parameters( ), lr=0.001, alpha=0.9)\n",
        "    history = {\"train_losses\": [], \"train_errs\": [], \"val_errs\": []}\n",
        "    loss_count = [] \n",
        "    loss_func = torch.nn.CrossEntropyLoss( )\n",
        "    for epoch in range(num_epochs):\n",
        "        for i, (x, y_true) in enumerate(train_loader):\n",
        "            x = x.to(device) \n",
        "            y_true = y_true.to(device) \n",
        "            out = model(x) \n",
        "            y_pred = model(x)\n",
        "            y_pred = y_pred.to(device)\n",
        "            loss = loss_func(out, y_true)\n",
        "            opt.zero_grad()  \n",
        "            loss.backward() \n",
        "            opt.step()   \n",
        "            _, y_pred_labels = torch.max(y_pred.data, 1)\n",
        "            batch_err_rate = 1.0 - torch.mean((y_pred_labels == y_true).float())\n",
        "            history[\"train_losses\"].append(loss.item())\n",
        "            history[\"train_errs\"].append(batch_err_rate.item())\n",
        "            if (i + 1) % 200 == 0:\n",
        "              print(\n",
        "                  f\"Epoch {epoch+1}, Batch {i+1}, Loss: {loss.item():.4f}, Error Rate: {batch_err_rate.item()*100:.2f}%\"\n",
        "              )\n",
        "        model.eval()\n",
        "        val_err_rate = 0.0\n",
        "        with torch.no_grad():\n",
        "            for x, y_true in test_loader:\n",
        "                y_pred = model(x)\n",
        "                y_true = y_true.to(device)\n",
        "                _, y_pred_labels = torch.max(y_pred.data, 1)\n",
        "                y_pred_labels = y_pred_labels.to(device)\n",
        "                batch_err_rate = 1.0 - torch.mean((y_pred_labels == y_true).float())\n",
        "                val_err_rate += batch_err_rate.item() * x.size(0)\n",
        "        val_err_rate /= len(test_loader.dataset)\n",
        "        history[\"val_errs\"].append((epoch+1, val_err_rate))\n",
        "        print(f\"Validation error rate: {val_err_rate*100:.2f}%\")"
      ],
      "metadata": {
        "id": "lNzDijQX0Czw"
      },
      "execution_count": 17,
      "outputs": []
    },
    {
      "cell_type": "code",
      "source": [
        "CNNmodel = CNNnet()\n",
        "CNNmodel = CNNmodel.to(device)\n",
        "t_start = time.time()\n",
        "cnn_train(CNNmodel, 10, train_loader, test_loader)\n",
        "print(f\"training took {time.time() - t_start:.0f}s.\")\n"
      ],
      "metadata": {
        "colab": {
          "base_uri": "https://localhost:8080/"
        },
        "id": "xO8ht5jO0OQG",
        "outputId": "c10d5431-add8-42e2-d90a-b29a4d641667"
      },
      "execution_count": 18,
      "outputs": [
        {
          "output_type": "stream",
          "name": "stdout",
          "text": [
            "Epoch 1, Batch 200, Loss: 0.2946, Error Rate: 9.38%\n",
            "Epoch 1, Batch 400, Loss: 0.0723, Error Rate: 1.56%\n",
            "Epoch 1, Batch 600, Loss: 0.2510, Error Rate: 10.94%\n",
            "Epoch 1, Batch 800, Loss: 0.0958, Error Rate: 3.12%\n",
            "Validation error rate: 5.65%\n",
            "Epoch 2, Batch 200, Loss: 0.0239, Error Rate: 0.00%\n",
            "Epoch 2, Batch 400, Loss: 0.0924, Error Rate: 3.12%\n",
            "Epoch 2, Batch 600, Loss: 0.0445, Error Rate: 1.56%\n",
            "Epoch 2, Batch 800, Loss: 0.0057, Error Rate: 0.00%\n",
            "Validation error rate: 2.28%\n",
            "Epoch 3, Batch 200, Loss: 0.0408, Error Rate: 1.56%\n",
            "Epoch 3, Batch 400, Loss: 0.0440, Error Rate: 1.56%\n",
            "Epoch 3, Batch 600, Loss: 0.0625, Error Rate: 1.56%\n",
            "Epoch 3, Batch 800, Loss: 0.0152, Error Rate: 0.00%\n",
            "Validation error rate: 1.84%\n",
            "Epoch 4, Batch 200, Loss: 0.0214, Error Rate: 1.56%\n",
            "Epoch 4, Batch 400, Loss: 0.0162, Error Rate: 1.56%\n",
            "Epoch 4, Batch 600, Loss: 0.0051, Error Rate: 0.00%\n",
            "Epoch 4, Batch 800, Loss: 0.0934, Error Rate: 1.56%\n",
            "Validation error rate: 2.10%\n",
            "Epoch 5, Batch 200, Loss: 0.0076, Error Rate: 0.00%\n",
            "Epoch 5, Batch 400, Loss: 0.0142, Error Rate: 0.00%\n",
            "Epoch 5, Batch 600, Loss: 0.0944, Error Rate: 3.12%\n",
            "Epoch 5, Batch 800, Loss: 0.1073, Error Rate: 4.69%\n",
            "Validation error rate: 1.48%\n",
            "Epoch 6, Batch 200, Loss: 0.0133, Error Rate: 0.00%\n",
            "Epoch 6, Batch 400, Loss: 0.0167, Error Rate: 0.00%\n",
            "Epoch 6, Batch 600, Loss: 0.0120, Error Rate: 1.56%\n",
            "Epoch 6, Batch 800, Loss: 0.0113, Error Rate: 0.00%\n",
            "Validation error rate: 1.35%\n",
            "Epoch 7, Batch 200, Loss: 0.0055, Error Rate: 0.00%\n",
            "Epoch 7, Batch 400, Loss: 0.0069, Error Rate: 0.00%\n",
            "Epoch 7, Batch 600, Loss: 0.0009, Error Rate: 0.00%\n",
            "Epoch 7, Batch 800, Loss: 0.0158, Error Rate: 1.56%\n",
            "Validation error rate: 1.30%\n",
            "Epoch 8, Batch 200, Loss: 0.0005, Error Rate: 0.00%\n",
            "Epoch 8, Batch 400, Loss: 0.0162, Error Rate: 1.56%\n",
            "Epoch 8, Batch 600, Loss: 0.0089, Error Rate: 0.00%\n",
            "Epoch 8, Batch 800, Loss: 0.0005, Error Rate: 0.00%\n",
            "Validation error rate: 1.23%\n",
            "Epoch 9, Batch 200, Loss: 0.0012, Error Rate: 0.00%\n",
            "Epoch 9, Batch 400, Loss: 0.0324, Error Rate: 1.56%\n",
            "Epoch 9, Batch 600, Loss: 0.0085, Error Rate: 0.00%\n",
            "Epoch 9, Batch 800, Loss: 0.0212, Error Rate: 1.56%\n",
            "Validation error rate: 1.21%\n",
            "Epoch 10, Batch 200, Loss: 0.0165, Error Rate: 1.56%\n",
            "Epoch 10, Batch 400, Loss: 0.0035, Error Rate: 0.00%\n",
            "Epoch 10, Batch 600, Loss: 0.0034, Error Rate: 0.00%\n",
            "Epoch 10, Batch 800, Loss: 0.0246, Error Rate: 1.56%\n",
            "Validation error rate: 1.27%\n",
            "training took 43s.\n"
          ]
        }
      ]
    },
    {
      "cell_type": "markdown",
      "source": [
        "# Problem 5 dropout"
      ],
      "metadata": {
        "id": "Au_cycprDzga"
      }
    },
    {
      "cell_type": "code",
      "source": [
        "class cnnNet2(torch.nn.Module):\n",
        "    def __init__(self):\n",
        "        super(cnnNet2, self).__init__()\n",
        "        self.conv1 = torch.nn.Conv2d(1, 32, kernel_size=(3, 3), stride=(1, 1))\n",
        "        self.conv2 = torch.nn.Conv2d(32, 64, kernel_size=(3, 3), stride=(1, 1))\n",
        "        self.dropout1 = torch.nn.Dropout(0.25)\n",
        "        self.dropout2 = torch.nn.Dropout(0.5)\n",
        "        self.fc1 = torch.nn.Linear(9216, 128)\n",
        "        self.fc2 = torch.nn.Linear(128, 10)\n",
        "\n",
        "    def forward(self, x):\n",
        "        x = x.to(device)\n",
        "        x = self.conv1(x)\n",
        "        x = F.relu(x)\n",
        "        x = self.conv2(x)\n",
        "        x = F.relu(x)\n",
        "        x = F.max_pool2d(x, 2)\n",
        "        x = self.dropout1(x)\n",
        "        x = torch.flatten(x, 1)\n",
        "        x = self.fc1(x)\n",
        "        x = F.relu(x)\n",
        "        x = self.dropout2(x)\n",
        "        x = self.fc2(x)\n",
        "        x = F.log_softmax(x, dim=1)\n",
        "        return x\n"
      ],
      "metadata": {
        "id": "KN0I9NKcD3z4"
      },
      "execution_count": 19,
      "outputs": []
    },
    {
      "cell_type": "code",
      "source": [
        "CNNmodel2 = cnnNet2()\n",
        "CNNmodel2 = CNNmodel2.to(device)\n",
        "t_start = time.time()\n",
        "cnn_train(CNNmodel2,10,train_loader,test_loader)\n",
        "print(f\"training took {time.time() - t_start:.0f}s.\")\n"
      ],
      "metadata": {
        "colab": {
          "base_uri": "https://localhost:8080/"
        },
        "id": "9Gz1qA-dEgHv",
        "outputId": "83957b91-8251-4f8f-ba3f-3b923483c3b2"
      },
      "execution_count": 20,
      "outputs": [
        {
          "output_type": "stream",
          "name": "stdout",
          "text": [
            "Epoch 1, Batch 200, Loss: 0.1643, Error Rate: 4.69%\n",
            "Epoch 1, Batch 400, Loss: 0.2022, Error Rate: 7.81%\n",
            "Epoch 1, Batch 600, Loss: 0.3758, Error Rate: 12.50%\n",
            "Epoch 1, Batch 800, Loss: 0.0793, Error Rate: 3.12%\n",
            "Validation error rate: 3.76%\n",
            "Epoch 2, Batch 200, Loss: 0.2348, Error Rate: 6.25%\n",
            "Epoch 2, Batch 400, Loss: 0.1028, Error Rate: 3.12%\n",
            "Epoch 2, Batch 600, Loss: 0.0847, Error Rate: 1.56%\n",
            "Epoch 2, Batch 800, Loss: 0.0787, Error Rate: 3.12%\n",
            "Validation error rate: 2.12%\n",
            "Epoch 3, Batch 200, Loss: 0.0830, Error Rate: 3.12%\n",
            "Epoch 3, Batch 400, Loss: 0.0187, Error Rate: 0.00%\n",
            "Epoch 3, Batch 600, Loss: 0.0042, Error Rate: 0.00%\n",
            "Epoch 3, Batch 800, Loss: 0.0134, Error Rate: 0.00%\n",
            "Validation error rate: 1.91%\n",
            "Epoch 4, Batch 200, Loss: 0.0410, Error Rate: 1.56%\n",
            "Epoch 4, Batch 400, Loss: 0.0412, Error Rate: 1.56%\n",
            "Epoch 4, Batch 600, Loss: 0.0575, Error Rate: 3.12%\n",
            "Epoch 4, Batch 800, Loss: 0.0148, Error Rate: 0.00%\n",
            "Validation error rate: 1.41%\n",
            "Epoch 5, Batch 200, Loss: 0.0276, Error Rate: 1.56%\n",
            "Epoch 5, Batch 400, Loss: 0.0160, Error Rate: 0.00%\n",
            "Epoch 5, Batch 600, Loss: 0.0203, Error Rate: 1.56%\n",
            "Epoch 5, Batch 800, Loss: 0.0425, Error Rate: 1.56%\n",
            "Validation error rate: 1.36%\n",
            "Epoch 6, Batch 200, Loss: 0.0028, Error Rate: 0.00%\n",
            "Epoch 6, Batch 400, Loss: 0.0736, Error Rate: 3.12%\n",
            "Epoch 6, Batch 600, Loss: 0.0085, Error Rate: 0.00%\n",
            "Epoch 6, Batch 800, Loss: 0.0084, Error Rate: 0.00%\n",
            "Validation error rate: 1.49%\n",
            "Epoch 7, Batch 200, Loss: 0.0113, Error Rate: 0.00%\n",
            "Epoch 7, Batch 400, Loss: 0.0066, Error Rate: 0.00%\n",
            "Epoch 7, Batch 600, Loss: 0.0014, Error Rate: 0.00%\n",
            "Epoch 7, Batch 800, Loss: 0.0007, Error Rate: 0.00%\n",
            "Validation error rate: 1.31%\n",
            "Epoch 8, Batch 200, Loss: 0.1072, Error Rate: 3.12%\n",
            "Epoch 8, Batch 400, Loss: 0.0349, Error Rate: 1.56%\n",
            "Epoch 8, Batch 600, Loss: 0.0023, Error Rate: 0.00%\n",
            "Epoch 8, Batch 800, Loss: 0.0372, Error Rate: 1.56%\n",
            "Validation error rate: 1.27%\n",
            "Epoch 9, Batch 200, Loss: 0.0161, Error Rate: 0.00%\n",
            "Epoch 9, Batch 400, Loss: 0.0196, Error Rate: 1.56%\n",
            "Epoch 9, Batch 600, Loss: 0.0048, Error Rate: 0.00%\n",
            "Epoch 9, Batch 800, Loss: 0.0031, Error Rate: 0.00%\n",
            "Validation error rate: 1.39%\n",
            "Epoch 10, Batch 200, Loss: 0.0033, Error Rate: 0.00%\n",
            "Epoch 10, Batch 400, Loss: 0.0419, Error Rate: 1.56%\n",
            "Epoch 10, Batch 600, Loss: 0.0291, Error Rate: 1.56%\n",
            "Epoch 10, Batch 800, Loss: 0.0687, Error Rate: 3.12%\n",
            "Validation error rate: 1.31%\n",
            "training took 38s.\n"
          ]
        }
      ]
    },
    {
      "cell_type": "markdown",
      "source": [
        "# problem 6"
      ],
      "metadata": {
        "id": "SXjCQfvCnLaM"
      }
    },
    {
      "cell_type": "code",
      "source": [
        "# add transforms.Compose\n",
        "dataset = torchvision.datasets.MNIST('./data')\n",
        "train_dataset = MNIST(root='./data/', train=True, download=False,  transform=ToTensor())\n",
        "train_loader = InMemDataLoader(train_dataset,batch_size=64, shuffle=True, transform = True)\n",
        "test_dataset = MNIST(root='./data/', train=False, download=False, transform=ToTensor())\n",
        "test_loader = InMemDataLoader(test_dataset,batch_size=64, shuffle=True, transform = True)\n"
      ],
      "metadata": {
        "colab": {
          "base_uri": "https://localhost:8080/",
          "height": 137,
          "referenced_widgets": [
            "0f5226620b4342d5b7befec87884b3a0",
            "fde6e5021145403b93d1ee96fcfdeaab",
            "d860e8b9396d45f8b527829f8e828693",
            "cc2c8ed7a750415ca6dc468afc344cb6",
            "4ff4e04b90aa40cc800c9a797f23fe6f",
            "f5a8aa97101e4b328c4dc0812ab5f02d",
            "c9855cf6b4034dcc9139ee4e43712f9f",
            "3d061db7e36c48598098d9f0f43bb2f3",
            "958f811694654687942e6e5fcec83fcf",
            "90f55941a408492a95b4e55cc2aa93ca",
            "3d309ec36c1e46cc875fc91cc494f7b9",
            "834df33e87cf4209b31863cd06e03154",
            "3e16793c8cb9422f95d7119fde2dc020",
            "cb0211732381495ea6ec9f87e9a7294b",
            "a9caeba5500d4f67bba08123aa6b7af5",
            "26ac00625cd64958b11e4bbfe9ac0302",
            "0c13ed16adb041e8bcdadea406cdd8b9",
            "7df0c4ba28ea4fbd9be84d7822433f52",
            "d94ce9cc4d074c0988eccb5b8ed6411e",
            "101d35d845fe498195ecb6c634a4c6c7",
            "dea0c00c3d9a404ea106069bf6e1faa1",
            "556c7ae9e754436ca886341094b3dc8a"
          ]
        },
        "id": "Yvn_UGeDzzOT",
        "outputId": "a7beab69-9ca7-4e81-fc88-b779d8669106"
      },
      "execution_count": 21,
      "outputs": [
        {
          "output_type": "display_data",
          "data": {
            "text/plain": [
              "  0%|          | 0/60000 [00:00<?, ?it/s]"
            ],
            "application/vnd.jupyter.widget-view+json": {
              "version_major": 2,
              "version_minor": 0,
              "model_id": "0f5226620b4342d5b7befec87884b3a0"
            }
          },
          "metadata": {}
        },
        {
          "output_type": "stream",
          "name": "stderr",
          "text": [
            "<ipython-input-6-99d76216e041>:21: UserWarning: To copy construct from a tensor, it is recommended to use sourceTensor.clone().detach() or sourceTensor.clone().detach().requires_grad_(True), rather than torch.tensor(sourceTensor).\n",
            "  batch = [torch.tensor(t) for t in dataset[i]]\n"
          ]
        },
        {
          "output_type": "display_data",
          "data": {
            "text/plain": [
              "  0%|          | 0/10000 [00:00<?, ?it/s]"
            ],
            "application/vnd.jupyter.widget-view+json": {
              "version_major": 2,
              "version_minor": 0,
              "model_id": "834df33e87cf4209b31863cd06e03154"
            }
          },
          "metadata": {}
        }
      ]
    },
    {
      "cell_type": "code",
      "source": [
        "CNNmodel2 = cnnNet2()\n",
        "CNNmodel2 = CNNmodel2.to(device)\n",
        "t_start = time.time()\n",
        "cnn_train(CNNmodel2,10,train_loader,test_loader)\n",
        "print(f\"training took {time.time() - t_start:.0f}s.\")"
      ],
      "metadata": {
        "colab": {
          "base_uri": "https://localhost:8080/"
        },
        "id": "WeP78aoQz1ot",
        "outputId": "25cda8d5-beef-4748-d3d7-371372d370a5"
      },
      "execution_count": 24,
      "outputs": [
        {
          "output_type": "stream",
          "name": "stdout",
          "text": [
            "Epoch 1, Batch 200, Loss: 0.4089, Error Rate: 15.62%\n",
            "Epoch 1, Batch 400, Loss: 0.0670, Error Rate: 0.00%\n",
            "Epoch 1, Batch 600, Loss: 0.0561, Error Rate: 3.12%\n",
            "Epoch 1, Batch 800, Loss: 0.0548, Error Rate: 1.56%\n",
            "Validation error rate: 2.97%\n",
            "Epoch 2, Batch 200, Loss: 0.0480, Error Rate: 1.56%\n",
            "Epoch 2, Batch 400, Loss: 0.1364, Error Rate: 4.69%\n",
            "Epoch 2, Batch 600, Loss: 0.0167, Error Rate: 0.00%\n",
            "Epoch 2, Batch 800, Loss: 0.0127, Error Rate: 0.00%\n",
            "Validation error rate: 2.49%\n",
            "Epoch 3, Batch 200, Loss: 0.0229, Error Rate: 0.00%\n",
            "Epoch 3, Batch 400, Loss: 0.1132, Error Rate: 3.12%\n",
            "Epoch 3, Batch 600, Loss: 0.1376, Error Rate: 4.69%\n",
            "Epoch 3, Batch 800, Loss: 0.0285, Error Rate: 1.56%\n",
            "Validation error rate: 1.51%\n",
            "Epoch 4, Batch 200, Loss: 0.0546, Error Rate: 3.12%\n",
            "Epoch 4, Batch 400, Loss: 0.0037, Error Rate: 0.00%\n",
            "Epoch 4, Batch 600, Loss: 0.1999, Error Rate: 4.69%\n",
            "Epoch 4, Batch 800, Loss: 0.0071, Error Rate: 0.00%\n",
            "Validation error rate: 1.61%\n",
            "Epoch 5, Batch 200, Loss: 0.0090, Error Rate: 0.00%\n",
            "Epoch 5, Batch 400, Loss: 0.0008, Error Rate: 0.00%\n",
            "Epoch 5, Batch 600, Loss: 0.0039, Error Rate: 0.00%\n",
            "Epoch 5, Batch 800, Loss: 0.0672, Error Rate: 1.56%\n",
            "Validation error rate: 1.45%\n",
            "Epoch 6, Batch 200, Loss: 0.0274, Error Rate: 1.56%\n",
            "Epoch 6, Batch 400, Loss: 0.0188, Error Rate: 1.56%\n",
            "Epoch 6, Batch 600, Loss: 0.0886, Error Rate: 3.12%\n",
            "Epoch 6, Batch 800, Loss: 0.0253, Error Rate: 1.56%\n",
            "Validation error rate: 1.16%\n",
            "Epoch 7, Batch 200, Loss: 0.0355, Error Rate: 1.56%\n",
            "Epoch 7, Batch 400, Loss: 0.0069, Error Rate: 0.00%\n",
            "Epoch 7, Batch 600, Loss: 0.0064, Error Rate: 0.00%\n",
            "Epoch 7, Batch 800, Loss: 0.0261, Error Rate: 1.56%\n",
            "Validation error rate: 1.33%\n",
            "Epoch 8, Batch 200, Loss: 0.1025, Error Rate: 1.56%\n",
            "Epoch 8, Batch 400, Loss: 0.0007, Error Rate: 0.00%\n",
            "Epoch 8, Batch 600, Loss: 0.0033, Error Rate: 0.00%\n",
            "Epoch 8, Batch 800, Loss: 0.0352, Error Rate: 1.56%\n",
            "Validation error rate: 1.20%\n",
            "Epoch 9, Batch 200, Loss: 0.1117, Error Rate: 3.12%\n",
            "Epoch 9, Batch 400, Loss: 0.0041, Error Rate: 0.00%\n",
            "Epoch 9, Batch 600, Loss: 0.0092, Error Rate: 0.00%\n",
            "Epoch 9, Batch 800, Loss: 0.0068, Error Rate: 0.00%\n",
            "Validation error rate: 1.34%\n",
            "Epoch 10, Batch 200, Loss: 0.0095, Error Rate: 0.00%\n",
            "Epoch 10, Batch 400, Loss: 0.0028, Error Rate: 0.00%\n",
            "Epoch 10, Batch 600, Loss: 0.1453, Error Rate: 3.12%\n",
            "Epoch 10, Batch 800, Loss: 0.0049, Error Rate: 0.00%\n",
            "Validation error rate: 1.45%\n",
            "training took 40s.\n"
          ]
        }
      ]
    },
    {
      "cell_type": "markdown",
      "source": [
        "# problem 7"
      ],
      "metadata": {
        "id": "NG6kOMAvB1cp"
      }
    },
    {
      "cell_type": "code",
      "source": [
        "class BatchNorm2d(torch.nn.Module):\n",
        "    def __init__(self, channel, eps=1e-5, affine=True, momentum=0.9):\n",
        "        super().__init__()\n",
        "        self.gamma = torch.nn.Parameter(torch.ones(1, channel, 1, 1))\n",
        "        self.beta = torch.nn.Parameter(torch.zeros(1, channel, 1, 1))\n",
        "        self.eps = eps\n",
        "        self.affine = affine\n",
        "        self.momentum = momentum\n",
        "        self.register_buffer('running_mean', torch.zeros(channel))\n",
        "        self.register_buffer('running_var', torch.ones(channel))\n",
        "\n",
        "    def forward(self, input):\n",
        "        # input shape must be (n, c, h, w)\n",
        "        if self.training:\n",
        "            means = input.mean((0, 2, 3), keepdim=True)\n",
        "            vars = ((input-means)**2).sum((0, 2, 3), keepdim=True)\n",
        "            self.running_mean = self.momentum * self.running_mean + (1-self.momentum) * means\n",
        "            self.running_var = self.momentum * self.running_var + (1-self.momentum) * vars\n",
        "        else:\n",
        "            means = self.running_mean\n",
        "            vars = self.running_var\n",
        "\n",
        "        output = (input - means) / torch.sqrt(vars + self.eps)\n",
        "        if self.affine:\n",
        "            output =  output* self.gamma + self.beta\n",
        "        return output"
      ],
      "metadata": {
        "id": "iohpNKvQBCoe"
      },
      "execution_count": 35,
      "outputs": []
    },
    {
      "cell_type": "code",
      "source": [
        "class cnnNet_BN(torch.nn.Module):\n",
        "    def __init__(self, bn=False):\n",
        "        super().__init__()\n",
        "\n",
        "        if bn:\n",
        "            self.conv = torch.nn.Sequential(\n",
        "                torch.nn.Conv2d(1, 20, kernel_size=5),\n",
        "                torch.nn.MaxPool2d(2),\n",
        "                torch.nn.BatchNorm2d(20),\n",
        "                torch.nn.ReLU(),\n",
        "                torch.nn.Conv2d(20, 50, kernel_size=5),\n",
        "                torch.nn.MaxPool2d(2),\n",
        "                torch.nn.BatchNorm2d(50),\n",
        "                torch.nn.ReLU())\n",
        "\n",
        "            self.dense = torch.nn.Sequential(\n",
        "                torch.nn.Linear(800, 500),\n",
        "                torch.nn.BatchNorm1d(500),\n",
        "                torch.nn.ReLU(),\n",
        "                torch.nn.Linear(500, 10)\n",
        "            )\n",
        "        else:\n",
        "            self.conv = torch.nn.Sequential(\n",
        "                torch.nn.Conv2d(1, 20, kernel_size=5),\n",
        "                torch.nn.MaxPool2d(2),\n",
        "                torch.nn.ReLU(),\n",
        "                torch.nn.Conv2d(20, 50, kernel_size=5),\n",
        "                torch.nn.MaxPool2d(2),\n",
        "                torch.nn.ReLU())\n",
        "            self.dense = torch.nn.Sequential(\n",
        "                torch.nn.Linear(800, 500),\n",
        "                torch.nn.ReLU(),\n",
        "                torch.nn.Linear(500, 10))\n",
        "\n",
        "    def forward(self, x):\n",
        "        x = self.conv(x)\n",
        "        x = torch.flatten(x, start_dim=1)\n",
        "        x = self.dense(x)\n",
        "        return x"
      ],
      "metadata": {
        "id": "u25jw4q3BD3c"
      },
      "execution_count": 36,
      "outputs": []
    },
    {
      "cell_type": "code",
      "source": [
        "CNNmodel_bn = cnnNet_BN()\n",
        "CNNmodel_bn = CNNmodel_bn.to(device)\n",
        "t_start = time.time()\n",
        "cnn_train(CNNmodel_bn,10,train_loader,test_loader)\n",
        "print(f\"training took {time.time() - t_start:.0f}s.\")"
      ],
      "metadata": {
        "colab": {
          "base_uri": "https://localhost:8080/"
        },
        "id": "5LHzqUD9BQTu",
        "outputId": "8e03a556-a00f-4726-d758-808b03051c46"
      },
      "execution_count": 37,
      "outputs": [
        {
          "output_type": "stream",
          "name": "stdout",
          "text": [
            "Epoch 1, Batch 200, Loss: 0.2484, Error Rate: 4.69%\n",
            "Epoch 1, Batch 400, Loss: 0.1975, Error Rate: 6.25%\n",
            "Epoch 1, Batch 600, Loss: 0.1538, Error Rate: 6.25%\n",
            "Epoch 1, Batch 800, Loss: 0.1643, Error Rate: 6.25%\n",
            "Validation error rate: 4.33%\n",
            "Epoch 2, Batch 200, Loss: 0.0627, Error Rate: 1.56%\n",
            "Epoch 2, Batch 400, Loss: 0.0340, Error Rate: 1.56%\n",
            "Epoch 2, Batch 600, Loss: 0.1171, Error Rate: 4.69%\n",
            "Epoch 2, Batch 800, Loss: 0.1247, Error Rate: 4.69%\n",
            "Validation error rate: 2.32%\n",
            "Epoch 3, Batch 200, Loss: 0.0448, Error Rate: 1.56%\n",
            "Epoch 3, Batch 400, Loss: 0.0123, Error Rate: 0.00%\n",
            "Epoch 3, Batch 600, Loss: 0.0301, Error Rate: 1.56%\n",
            "Epoch 3, Batch 800, Loss: 0.0786, Error Rate: 3.12%\n",
            "Validation error rate: 1.79%\n",
            "Epoch 4, Batch 200, Loss: 0.0106, Error Rate: 0.00%\n",
            "Epoch 4, Batch 400, Loss: 0.0204, Error Rate: 1.56%\n",
            "Epoch 4, Batch 600, Loss: 0.0436, Error Rate: 3.12%\n",
            "Epoch 4, Batch 800, Loss: 0.1252, Error Rate: 3.12%\n",
            "Validation error rate: 1.68%\n",
            "Epoch 5, Batch 200, Loss: 0.0125, Error Rate: 0.00%\n",
            "Epoch 5, Batch 400, Loss: 0.0446, Error Rate: 1.56%\n",
            "Epoch 5, Batch 600, Loss: 0.0446, Error Rate: 3.12%\n",
            "Epoch 5, Batch 800, Loss: 0.0018, Error Rate: 0.00%\n",
            "Validation error rate: 1.24%\n",
            "Epoch 6, Batch 200, Loss: 0.0285, Error Rate: 1.56%\n",
            "Epoch 6, Batch 400, Loss: 0.0270, Error Rate: 1.56%\n",
            "Epoch 6, Batch 600, Loss: 0.0335, Error Rate: 3.12%\n",
            "Epoch 6, Batch 800, Loss: 0.1259, Error Rate: 6.25%\n",
            "Validation error rate: 1.43%\n",
            "Epoch 7, Batch 200, Loss: 0.0065, Error Rate: 0.00%\n",
            "Epoch 7, Batch 400, Loss: 0.0270, Error Rate: 1.56%\n",
            "Epoch 7, Batch 600, Loss: 0.0013, Error Rate: 0.00%\n",
            "Epoch 7, Batch 800, Loss: 0.0048, Error Rate: 0.00%\n",
            "Validation error rate: 1.25%\n",
            "Epoch 8, Batch 200, Loss: 0.0036, Error Rate: 0.00%\n",
            "Epoch 8, Batch 400, Loss: 0.1708, Error Rate: 1.56%\n",
            "Epoch 8, Batch 600, Loss: 0.0027, Error Rate: 0.00%\n",
            "Epoch 8, Batch 800, Loss: 0.0118, Error Rate: 0.00%\n",
            "Validation error rate: 1.29%\n",
            "Epoch 9, Batch 200, Loss: 0.0061, Error Rate: 0.00%\n",
            "Epoch 9, Batch 400, Loss: 0.0138, Error Rate: 1.56%\n",
            "Epoch 9, Batch 600, Loss: 0.0182, Error Rate: 1.56%\n",
            "Epoch 9, Batch 800, Loss: 0.0824, Error Rate: 1.56%\n",
            "Validation error rate: 1.33%\n",
            "Epoch 10, Batch 200, Loss: 0.0294, Error Rate: 1.56%\n",
            "Epoch 10, Batch 400, Loss: 0.0011, Error Rate: 0.00%\n",
            "Epoch 10, Batch 600, Loss: 0.0053, Error Rate: 0.00%\n",
            "Epoch 10, Batch 800, Loss: 0.0004, Error Rate: 0.00%\n",
            "Validation error rate: 1.43%\n",
            "training took 40s.\n"
          ]
        }
      ]
    }
  ],
  "metadata": {
    "accelerator": "GPU",
    "colab": {
      "provenance": [],
      "include_colab_link": true
    },
    "deepnote": {},
    "deepnote_execution_queue": [],
    "deepnote_notebook_id": "ffaf5b3e-ad2e-45f4-b61f-77edfc82388b",
    "kernelspec": {
      "display_name": "Python 3 (ipykernel)",
      "language": "python",
      "name": "python3"
    },
    "language_info": {
      "codemirror_mode": {
        "name": "ipython",
        "version": 3
      },
      "file_extension": ".py",
      "mimetype": "text/x-python",
      "name": "python",
      "nbconvert_exporter": "python",
      "pygments_lexer": "ipython3",
      "version": "3.9.16"
    },
    "widgets": {
      "application/vnd.jupyter.widget-state+json": {
        "7ac3246446cc449d93b5297c89b5eb34": {
          "model_module": "@jupyter-widgets/controls",
          "model_name": "HBoxModel",
          "model_module_version": "1.5.0",
          "state": {
            "_dom_classes": [],
            "_model_module": "@jupyter-widgets/controls",
            "_model_module_version": "1.5.0",
            "_model_name": "HBoxModel",
            "_view_count": null,
            "_view_module": "@jupyter-widgets/controls",
            "_view_module_version": "1.5.0",
            "_view_name": "HBoxView",
            "box_style": "",
            "children": [
              "IPY_MODEL_78ff904230a3414eb1d4b8dc054061a0",
              "IPY_MODEL_c030a12d66644f53adeaf8e905084d0f",
              "IPY_MODEL_ec1e37cdf60a4a9f85ffbc3606335907"
            ],
            "layout": "IPY_MODEL_5d23869ec6904378abd35409d3f9d256"
          }
        },
        "78ff904230a3414eb1d4b8dc054061a0": {
          "model_module": "@jupyter-widgets/controls",
          "model_name": "HTMLModel",
          "model_module_version": "1.5.0",
          "state": {
            "_dom_classes": [],
            "_model_module": "@jupyter-widgets/controls",
            "_model_module_version": "1.5.0",
            "_model_name": "HTMLModel",
            "_view_count": null,
            "_view_module": "@jupyter-widgets/controls",
            "_view_module_version": "1.5.0",
            "_view_name": "HTMLView",
            "description": "",
            "description_tooltip": null,
            "layout": "IPY_MODEL_3b03166f265641508dab5ba83302122c",
            "placeholder": "​",
            "style": "IPY_MODEL_95af11b8e34c43c891d76bba198a8db5",
            "value": "100%"
          }
        },
        "c030a12d66644f53adeaf8e905084d0f": {
          "model_module": "@jupyter-widgets/controls",
          "model_name": "FloatProgressModel",
          "model_module_version": "1.5.0",
          "state": {
            "_dom_classes": [],
            "_model_module": "@jupyter-widgets/controls",
            "_model_module_version": "1.5.0",
            "_model_name": "FloatProgressModel",
            "_view_count": null,
            "_view_module": "@jupyter-widgets/controls",
            "_view_module_version": "1.5.0",
            "_view_name": "ProgressView",
            "bar_style": "success",
            "description": "",
            "description_tooltip": null,
            "layout": "IPY_MODEL_d31b1222392b4ba6a15f9b579e16e4bb",
            "max": 60000,
            "min": 0,
            "orientation": "horizontal",
            "style": "IPY_MODEL_714bb7b95763448396ee2fc37de35e9f",
            "value": 60000
          }
        },
        "ec1e37cdf60a4a9f85ffbc3606335907": {
          "model_module": "@jupyter-widgets/controls",
          "model_name": "HTMLModel",
          "model_module_version": "1.5.0",
          "state": {
            "_dom_classes": [],
            "_model_module": "@jupyter-widgets/controls",
            "_model_module_version": "1.5.0",
            "_model_name": "HTMLModel",
            "_view_count": null,
            "_view_module": "@jupyter-widgets/controls",
            "_view_module_version": "1.5.0",
            "_view_name": "HTMLView",
            "description": "",
            "description_tooltip": null,
            "layout": "IPY_MODEL_152ec9e2566c4fd5848406d2727d65bf",
            "placeholder": "​",
            "style": "IPY_MODEL_1e115e79cc014107bfcba2e4fec9cf85",
            "value": " 60000/60000 [00:18&lt;00:00, 6188.69it/s]"
          }
        },
        "5d23869ec6904378abd35409d3f9d256": {
          "model_module": "@jupyter-widgets/base",
          "model_name": "LayoutModel",
          "model_module_version": "1.2.0",
          "state": {
            "_model_module": "@jupyter-widgets/base",
            "_model_module_version": "1.2.0",
            "_model_name": "LayoutModel",
            "_view_count": null,
            "_view_module": "@jupyter-widgets/base",
            "_view_module_version": "1.2.0",
            "_view_name": "LayoutView",
            "align_content": null,
            "align_items": null,
            "align_self": null,
            "border": null,
            "bottom": null,
            "display": null,
            "flex": null,
            "flex_flow": null,
            "grid_area": null,
            "grid_auto_columns": null,
            "grid_auto_flow": null,
            "grid_auto_rows": null,
            "grid_column": null,
            "grid_gap": null,
            "grid_row": null,
            "grid_template_areas": null,
            "grid_template_columns": null,
            "grid_template_rows": null,
            "height": null,
            "justify_content": null,
            "justify_items": null,
            "left": null,
            "margin": null,
            "max_height": null,
            "max_width": null,
            "min_height": null,
            "min_width": null,
            "object_fit": null,
            "object_position": null,
            "order": null,
            "overflow": null,
            "overflow_x": null,
            "overflow_y": null,
            "padding": null,
            "right": null,
            "top": null,
            "visibility": null,
            "width": null
          }
        },
        "3b03166f265641508dab5ba83302122c": {
          "model_module": "@jupyter-widgets/base",
          "model_name": "LayoutModel",
          "model_module_version": "1.2.0",
          "state": {
            "_model_module": "@jupyter-widgets/base",
            "_model_module_version": "1.2.0",
            "_model_name": "LayoutModel",
            "_view_count": null,
            "_view_module": "@jupyter-widgets/base",
            "_view_module_version": "1.2.0",
            "_view_name": "LayoutView",
            "align_content": null,
            "align_items": null,
            "align_self": null,
            "border": null,
            "bottom": null,
            "display": null,
            "flex": null,
            "flex_flow": null,
            "grid_area": null,
            "grid_auto_columns": null,
            "grid_auto_flow": null,
            "grid_auto_rows": null,
            "grid_column": null,
            "grid_gap": null,
            "grid_row": null,
            "grid_template_areas": null,
            "grid_template_columns": null,
            "grid_template_rows": null,
            "height": null,
            "justify_content": null,
            "justify_items": null,
            "left": null,
            "margin": null,
            "max_height": null,
            "max_width": null,
            "min_height": null,
            "min_width": null,
            "object_fit": null,
            "object_position": null,
            "order": null,
            "overflow": null,
            "overflow_x": null,
            "overflow_y": null,
            "padding": null,
            "right": null,
            "top": null,
            "visibility": null,
            "width": null
          }
        },
        "95af11b8e34c43c891d76bba198a8db5": {
          "model_module": "@jupyter-widgets/controls",
          "model_name": "DescriptionStyleModel",
          "model_module_version": "1.5.0",
          "state": {
            "_model_module": "@jupyter-widgets/controls",
            "_model_module_version": "1.5.0",
            "_model_name": "DescriptionStyleModel",
            "_view_count": null,
            "_view_module": "@jupyter-widgets/base",
            "_view_module_version": "1.2.0",
            "_view_name": "StyleView",
            "description_width": ""
          }
        },
        "d31b1222392b4ba6a15f9b579e16e4bb": {
          "model_module": "@jupyter-widgets/base",
          "model_name": "LayoutModel",
          "model_module_version": "1.2.0",
          "state": {
            "_model_module": "@jupyter-widgets/base",
            "_model_module_version": "1.2.0",
            "_model_name": "LayoutModel",
            "_view_count": null,
            "_view_module": "@jupyter-widgets/base",
            "_view_module_version": "1.2.0",
            "_view_name": "LayoutView",
            "align_content": null,
            "align_items": null,
            "align_self": null,
            "border": null,
            "bottom": null,
            "display": null,
            "flex": null,
            "flex_flow": null,
            "grid_area": null,
            "grid_auto_columns": null,
            "grid_auto_flow": null,
            "grid_auto_rows": null,
            "grid_column": null,
            "grid_gap": null,
            "grid_row": null,
            "grid_template_areas": null,
            "grid_template_columns": null,
            "grid_template_rows": null,
            "height": null,
            "justify_content": null,
            "justify_items": null,
            "left": null,
            "margin": null,
            "max_height": null,
            "max_width": null,
            "min_height": null,
            "min_width": null,
            "object_fit": null,
            "object_position": null,
            "order": null,
            "overflow": null,
            "overflow_x": null,
            "overflow_y": null,
            "padding": null,
            "right": null,
            "top": null,
            "visibility": null,
            "width": null
          }
        },
        "714bb7b95763448396ee2fc37de35e9f": {
          "model_module": "@jupyter-widgets/controls",
          "model_name": "ProgressStyleModel",
          "model_module_version": "1.5.0",
          "state": {
            "_model_module": "@jupyter-widgets/controls",
            "_model_module_version": "1.5.0",
            "_model_name": "ProgressStyleModel",
            "_view_count": null,
            "_view_module": "@jupyter-widgets/base",
            "_view_module_version": "1.2.0",
            "_view_name": "StyleView",
            "bar_color": null,
            "description_width": ""
          }
        },
        "152ec9e2566c4fd5848406d2727d65bf": {
          "model_module": "@jupyter-widgets/base",
          "model_name": "LayoutModel",
          "model_module_version": "1.2.0",
          "state": {
            "_model_module": "@jupyter-widgets/base",
            "_model_module_version": "1.2.0",
            "_model_name": "LayoutModel",
            "_view_count": null,
            "_view_module": "@jupyter-widgets/base",
            "_view_module_version": "1.2.0",
            "_view_name": "LayoutView",
            "align_content": null,
            "align_items": null,
            "align_self": null,
            "border": null,
            "bottom": null,
            "display": null,
            "flex": null,
            "flex_flow": null,
            "grid_area": null,
            "grid_auto_columns": null,
            "grid_auto_flow": null,
            "grid_auto_rows": null,
            "grid_column": null,
            "grid_gap": null,
            "grid_row": null,
            "grid_template_areas": null,
            "grid_template_columns": null,
            "grid_template_rows": null,
            "height": null,
            "justify_content": null,
            "justify_items": null,
            "left": null,
            "margin": null,
            "max_height": null,
            "max_width": null,
            "min_height": null,
            "min_width": null,
            "object_fit": null,
            "object_position": null,
            "order": null,
            "overflow": null,
            "overflow_x": null,
            "overflow_y": null,
            "padding": null,
            "right": null,
            "top": null,
            "visibility": null,
            "width": null
          }
        },
        "1e115e79cc014107bfcba2e4fec9cf85": {
          "model_module": "@jupyter-widgets/controls",
          "model_name": "DescriptionStyleModel",
          "model_module_version": "1.5.0",
          "state": {
            "_model_module": "@jupyter-widgets/controls",
            "_model_module_version": "1.5.0",
            "_model_name": "DescriptionStyleModel",
            "_view_count": null,
            "_view_module": "@jupyter-widgets/base",
            "_view_module_version": "1.2.0",
            "_view_name": "StyleView",
            "description_width": ""
          }
        },
        "befb7932977b420983356b0951167b8e": {
          "model_module": "@jupyter-widgets/controls",
          "model_name": "HBoxModel",
          "model_module_version": "1.5.0",
          "state": {
            "_dom_classes": [],
            "_model_module": "@jupyter-widgets/controls",
            "_model_module_version": "1.5.0",
            "_model_name": "HBoxModel",
            "_view_count": null,
            "_view_module": "@jupyter-widgets/controls",
            "_view_module_version": "1.5.0",
            "_view_name": "HBoxView",
            "box_style": "",
            "children": [
              "IPY_MODEL_260bf0a5695943798c263e6c87e0cfbb",
              "IPY_MODEL_9b8fc8bfc5e3465a864d1e94b2922b07",
              "IPY_MODEL_7f2f3f9feef8426ba19ac8456a834d58"
            ],
            "layout": "IPY_MODEL_26e87858a3954ed5a43d46919f45614f"
          }
        },
        "260bf0a5695943798c263e6c87e0cfbb": {
          "model_module": "@jupyter-widgets/controls",
          "model_name": "HTMLModel",
          "model_module_version": "1.5.0",
          "state": {
            "_dom_classes": [],
            "_model_module": "@jupyter-widgets/controls",
            "_model_module_version": "1.5.0",
            "_model_name": "HTMLModel",
            "_view_count": null,
            "_view_module": "@jupyter-widgets/controls",
            "_view_module_version": "1.5.0",
            "_view_name": "HTMLView",
            "description": "",
            "description_tooltip": null,
            "layout": "IPY_MODEL_9262d41ffe12412a92aedaaaad2eddbe",
            "placeholder": "​",
            "style": "IPY_MODEL_4d09b3d076544432bcdcb7870f9f6311",
            "value": "100%"
          }
        },
        "9b8fc8bfc5e3465a864d1e94b2922b07": {
          "model_module": "@jupyter-widgets/controls",
          "model_name": "FloatProgressModel",
          "model_module_version": "1.5.0",
          "state": {
            "_dom_classes": [],
            "_model_module": "@jupyter-widgets/controls",
            "_model_module_version": "1.5.0",
            "_model_name": "FloatProgressModel",
            "_view_count": null,
            "_view_module": "@jupyter-widgets/controls",
            "_view_module_version": "1.5.0",
            "_view_name": "ProgressView",
            "bar_style": "success",
            "description": "",
            "description_tooltip": null,
            "layout": "IPY_MODEL_27c1265eba09404894eb707ab0d13f0c",
            "max": 10000,
            "min": 0,
            "orientation": "horizontal",
            "style": "IPY_MODEL_e28d5dce53cf484fb6e0b85d03e5791c",
            "value": 10000
          }
        },
        "7f2f3f9feef8426ba19ac8456a834d58": {
          "model_module": "@jupyter-widgets/controls",
          "model_name": "HTMLModel",
          "model_module_version": "1.5.0",
          "state": {
            "_dom_classes": [],
            "_model_module": "@jupyter-widgets/controls",
            "_model_module_version": "1.5.0",
            "_model_name": "HTMLModel",
            "_view_count": null,
            "_view_module": "@jupyter-widgets/controls",
            "_view_module_version": "1.5.0",
            "_view_name": "HTMLView",
            "description": "",
            "description_tooltip": null,
            "layout": "IPY_MODEL_a6a075f1facc4b208eb789f2eee82a89",
            "placeholder": "​",
            "style": "IPY_MODEL_777c920073d741f99c164d95df56a740",
            "value": " 10000/10000 [00:01&lt;00:00, 6962.02it/s]"
          }
        },
        "26e87858a3954ed5a43d46919f45614f": {
          "model_module": "@jupyter-widgets/base",
          "model_name": "LayoutModel",
          "model_module_version": "1.2.0",
          "state": {
            "_model_module": "@jupyter-widgets/base",
            "_model_module_version": "1.2.0",
            "_model_name": "LayoutModel",
            "_view_count": null,
            "_view_module": "@jupyter-widgets/base",
            "_view_module_version": "1.2.0",
            "_view_name": "LayoutView",
            "align_content": null,
            "align_items": null,
            "align_self": null,
            "border": null,
            "bottom": null,
            "display": null,
            "flex": null,
            "flex_flow": null,
            "grid_area": null,
            "grid_auto_columns": null,
            "grid_auto_flow": null,
            "grid_auto_rows": null,
            "grid_column": null,
            "grid_gap": null,
            "grid_row": null,
            "grid_template_areas": null,
            "grid_template_columns": null,
            "grid_template_rows": null,
            "height": null,
            "justify_content": null,
            "justify_items": null,
            "left": null,
            "margin": null,
            "max_height": null,
            "max_width": null,
            "min_height": null,
            "min_width": null,
            "object_fit": null,
            "object_position": null,
            "order": null,
            "overflow": null,
            "overflow_x": null,
            "overflow_y": null,
            "padding": null,
            "right": null,
            "top": null,
            "visibility": null,
            "width": null
          }
        },
        "9262d41ffe12412a92aedaaaad2eddbe": {
          "model_module": "@jupyter-widgets/base",
          "model_name": "LayoutModel",
          "model_module_version": "1.2.0",
          "state": {
            "_model_module": "@jupyter-widgets/base",
            "_model_module_version": "1.2.0",
            "_model_name": "LayoutModel",
            "_view_count": null,
            "_view_module": "@jupyter-widgets/base",
            "_view_module_version": "1.2.0",
            "_view_name": "LayoutView",
            "align_content": null,
            "align_items": null,
            "align_self": null,
            "border": null,
            "bottom": null,
            "display": null,
            "flex": null,
            "flex_flow": null,
            "grid_area": null,
            "grid_auto_columns": null,
            "grid_auto_flow": null,
            "grid_auto_rows": null,
            "grid_column": null,
            "grid_gap": null,
            "grid_row": null,
            "grid_template_areas": null,
            "grid_template_columns": null,
            "grid_template_rows": null,
            "height": null,
            "justify_content": null,
            "justify_items": null,
            "left": null,
            "margin": null,
            "max_height": null,
            "max_width": null,
            "min_height": null,
            "min_width": null,
            "object_fit": null,
            "object_position": null,
            "order": null,
            "overflow": null,
            "overflow_x": null,
            "overflow_y": null,
            "padding": null,
            "right": null,
            "top": null,
            "visibility": null,
            "width": null
          }
        },
        "4d09b3d076544432bcdcb7870f9f6311": {
          "model_module": "@jupyter-widgets/controls",
          "model_name": "DescriptionStyleModel",
          "model_module_version": "1.5.0",
          "state": {
            "_model_module": "@jupyter-widgets/controls",
            "_model_module_version": "1.5.0",
            "_model_name": "DescriptionStyleModel",
            "_view_count": null,
            "_view_module": "@jupyter-widgets/base",
            "_view_module_version": "1.2.0",
            "_view_name": "StyleView",
            "description_width": ""
          }
        },
        "27c1265eba09404894eb707ab0d13f0c": {
          "model_module": "@jupyter-widgets/base",
          "model_name": "LayoutModel",
          "model_module_version": "1.2.0",
          "state": {
            "_model_module": "@jupyter-widgets/base",
            "_model_module_version": "1.2.0",
            "_model_name": "LayoutModel",
            "_view_count": null,
            "_view_module": "@jupyter-widgets/base",
            "_view_module_version": "1.2.0",
            "_view_name": "LayoutView",
            "align_content": null,
            "align_items": null,
            "align_self": null,
            "border": null,
            "bottom": null,
            "display": null,
            "flex": null,
            "flex_flow": null,
            "grid_area": null,
            "grid_auto_columns": null,
            "grid_auto_flow": null,
            "grid_auto_rows": null,
            "grid_column": null,
            "grid_gap": null,
            "grid_row": null,
            "grid_template_areas": null,
            "grid_template_columns": null,
            "grid_template_rows": null,
            "height": null,
            "justify_content": null,
            "justify_items": null,
            "left": null,
            "margin": null,
            "max_height": null,
            "max_width": null,
            "min_height": null,
            "min_width": null,
            "object_fit": null,
            "object_position": null,
            "order": null,
            "overflow": null,
            "overflow_x": null,
            "overflow_y": null,
            "padding": null,
            "right": null,
            "top": null,
            "visibility": null,
            "width": null
          }
        },
        "e28d5dce53cf484fb6e0b85d03e5791c": {
          "model_module": "@jupyter-widgets/controls",
          "model_name": "ProgressStyleModel",
          "model_module_version": "1.5.0",
          "state": {
            "_model_module": "@jupyter-widgets/controls",
            "_model_module_version": "1.5.0",
            "_model_name": "ProgressStyleModel",
            "_view_count": null,
            "_view_module": "@jupyter-widgets/base",
            "_view_module_version": "1.2.0",
            "_view_name": "StyleView",
            "bar_color": null,
            "description_width": ""
          }
        },
        "a6a075f1facc4b208eb789f2eee82a89": {
          "model_module": "@jupyter-widgets/base",
          "model_name": "LayoutModel",
          "model_module_version": "1.2.0",
          "state": {
            "_model_module": "@jupyter-widgets/base",
            "_model_module_version": "1.2.0",
            "_model_name": "LayoutModel",
            "_view_count": null,
            "_view_module": "@jupyter-widgets/base",
            "_view_module_version": "1.2.0",
            "_view_name": "LayoutView",
            "align_content": null,
            "align_items": null,
            "align_self": null,
            "border": null,
            "bottom": null,
            "display": null,
            "flex": null,
            "flex_flow": null,
            "grid_area": null,
            "grid_auto_columns": null,
            "grid_auto_flow": null,
            "grid_auto_rows": null,
            "grid_column": null,
            "grid_gap": null,
            "grid_row": null,
            "grid_template_areas": null,
            "grid_template_columns": null,
            "grid_template_rows": null,
            "height": null,
            "justify_content": null,
            "justify_items": null,
            "left": null,
            "margin": null,
            "max_height": null,
            "max_width": null,
            "min_height": null,
            "min_width": null,
            "object_fit": null,
            "object_position": null,
            "order": null,
            "overflow": null,
            "overflow_x": null,
            "overflow_y": null,
            "padding": null,
            "right": null,
            "top": null,
            "visibility": null,
            "width": null
          }
        },
        "777c920073d741f99c164d95df56a740": {
          "model_module": "@jupyter-widgets/controls",
          "model_name": "DescriptionStyleModel",
          "model_module_version": "1.5.0",
          "state": {
            "_model_module": "@jupyter-widgets/controls",
            "_model_module_version": "1.5.0",
            "_model_name": "DescriptionStyleModel",
            "_view_count": null,
            "_view_module": "@jupyter-widgets/base",
            "_view_module_version": "1.2.0",
            "_view_name": "StyleView",
            "description_width": ""
          }
        },
        "0f5226620b4342d5b7befec87884b3a0": {
          "model_module": "@jupyter-widgets/controls",
          "model_name": "HBoxModel",
          "model_module_version": "1.5.0",
          "state": {
            "_dom_classes": [],
            "_model_module": "@jupyter-widgets/controls",
            "_model_module_version": "1.5.0",
            "_model_name": "HBoxModel",
            "_view_count": null,
            "_view_module": "@jupyter-widgets/controls",
            "_view_module_version": "1.5.0",
            "_view_name": "HBoxView",
            "box_style": "",
            "children": [
              "IPY_MODEL_fde6e5021145403b93d1ee96fcfdeaab",
              "IPY_MODEL_d860e8b9396d45f8b527829f8e828693",
              "IPY_MODEL_cc2c8ed7a750415ca6dc468afc344cb6"
            ],
            "layout": "IPY_MODEL_4ff4e04b90aa40cc800c9a797f23fe6f"
          }
        },
        "fde6e5021145403b93d1ee96fcfdeaab": {
          "model_module": "@jupyter-widgets/controls",
          "model_name": "HTMLModel",
          "model_module_version": "1.5.0",
          "state": {
            "_dom_classes": [],
            "_model_module": "@jupyter-widgets/controls",
            "_model_module_version": "1.5.0",
            "_model_name": "HTMLModel",
            "_view_count": null,
            "_view_module": "@jupyter-widgets/controls",
            "_view_module_version": "1.5.0",
            "_view_name": "HTMLView",
            "description": "",
            "description_tooltip": null,
            "layout": "IPY_MODEL_f5a8aa97101e4b328c4dc0812ab5f02d",
            "placeholder": "​",
            "style": "IPY_MODEL_c9855cf6b4034dcc9139ee4e43712f9f",
            "value": "100%"
          }
        },
        "d860e8b9396d45f8b527829f8e828693": {
          "model_module": "@jupyter-widgets/controls",
          "model_name": "FloatProgressModel",
          "model_module_version": "1.5.0",
          "state": {
            "_dom_classes": [],
            "_model_module": "@jupyter-widgets/controls",
            "_model_module_version": "1.5.0",
            "_model_name": "FloatProgressModel",
            "_view_count": null,
            "_view_module": "@jupyter-widgets/controls",
            "_view_module_version": "1.5.0",
            "_view_name": "ProgressView",
            "bar_style": "success",
            "description": "",
            "description_tooltip": null,
            "layout": "IPY_MODEL_3d061db7e36c48598098d9f0f43bb2f3",
            "max": 60000,
            "min": 0,
            "orientation": "horizontal",
            "style": "IPY_MODEL_958f811694654687942e6e5fcec83fcf",
            "value": 60000
          }
        },
        "cc2c8ed7a750415ca6dc468afc344cb6": {
          "model_module": "@jupyter-widgets/controls",
          "model_name": "HTMLModel",
          "model_module_version": "1.5.0",
          "state": {
            "_dom_classes": [],
            "_model_module": "@jupyter-widgets/controls",
            "_model_module_version": "1.5.0",
            "_model_name": "HTMLModel",
            "_view_count": null,
            "_view_module": "@jupyter-widgets/controls",
            "_view_module_version": "1.5.0",
            "_view_name": "HTMLView",
            "description": "",
            "description_tooltip": null,
            "layout": "IPY_MODEL_90f55941a408492a95b4e55cc2aa93ca",
            "placeholder": "​",
            "style": "IPY_MODEL_3d309ec36c1e46cc875fc91cc494f7b9",
            "value": " 60000/60000 [00:10&lt;00:00, 6592.43it/s]"
          }
        },
        "4ff4e04b90aa40cc800c9a797f23fe6f": {
          "model_module": "@jupyter-widgets/base",
          "model_name": "LayoutModel",
          "model_module_version": "1.2.0",
          "state": {
            "_model_module": "@jupyter-widgets/base",
            "_model_module_version": "1.2.0",
            "_model_name": "LayoutModel",
            "_view_count": null,
            "_view_module": "@jupyter-widgets/base",
            "_view_module_version": "1.2.0",
            "_view_name": "LayoutView",
            "align_content": null,
            "align_items": null,
            "align_self": null,
            "border": null,
            "bottom": null,
            "display": null,
            "flex": null,
            "flex_flow": null,
            "grid_area": null,
            "grid_auto_columns": null,
            "grid_auto_flow": null,
            "grid_auto_rows": null,
            "grid_column": null,
            "grid_gap": null,
            "grid_row": null,
            "grid_template_areas": null,
            "grid_template_columns": null,
            "grid_template_rows": null,
            "height": null,
            "justify_content": null,
            "justify_items": null,
            "left": null,
            "margin": null,
            "max_height": null,
            "max_width": null,
            "min_height": null,
            "min_width": null,
            "object_fit": null,
            "object_position": null,
            "order": null,
            "overflow": null,
            "overflow_x": null,
            "overflow_y": null,
            "padding": null,
            "right": null,
            "top": null,
            "visibility": null,
            "width": null
          }
        },
        "f5a8aa97101e4b328c4dc0812ab5f02d": {
          "model_module": "@jupyter-widgets/base",
          "model_name": "LayoutModel",
          "model_module_version": "1.2.0",
          "state": {
            "_model_module": "@jupyter-widgets/base",
            "_model_module_version": "1.2.0",
            "_model_name": "LayoutModel",
            "_view_count": null,
            "_view_module": "@jupyter-widgets/base",
            "_view_module_version": "1.2.0",
            "_view_name": "LayoutView",
            "align_content": null,
            "align_items": null,
            "align_self": null,
            "border": null,
            "bottom": null,
            "display": null,
            "flex": null,
            "flex_flow": null,
            "grid_area": null,
            "grid_auto_columns": null,
            "grid_auto_flow": null,
            "grid_auto_rows": null,
            "grid_column": null,
            "grid_gap": null,
            "grid_row": null,
            "grid_template_areas": null,
            "grid_template_columns": null,
            "grid_template_rows": null,
            "height": null,
            "justify_content": null,
            "justify_items": null,
            "left": null,
            "margin": null,
            "max_height": null,
            "max_width": null,
            "min_height": null,
            "min_width": null,
            "object_fit": null,
            "object_position": null,
            "order": null,
            "overflow": null,
            "overflow_x": null,
            "overflow_y": null,
            "padding": null,
            "right": null,
            "top": null,
            "visibility": null,
            "width": null
          }
        },
        "c9855cf6b4034dcc9139ee4e43712f9f": {
          "model_module": "@jupyter-widgets/controls",
          "model_name": "DescriptionStyleModel",
          "model_module_version": "1.5.0",
          "state": {
            "_model_module": "@jupyter-widgets/controls",
            "_model_module_version": "1.5.0",
            "_model_name": "DescriptionStyleModel",
            "_view_count": null,
            "_view_module": "@jupyter-widgets/base",
            "_view_module_version": "1.2.0",
            "_view_name": "StyleView",
            "description_width": ""
          }
        },
        "3d061db7e36c48598098d9f0f43bb2f3": {
          "model_module": "@jupyter-widgets/base",
          "model_name": "LayoutModel",
          "model_module_version": "1.2.0",
          "state": {
            "_model_module": "@jupyter-widgets/base",
            "_model_module_version": "1.2.0",
            "_model_name": "LayoutModel",
            "_view_count": null,
            "_view_module": "@jupyter-widgets/base",
            "_view_module_version": "1.2.0",
            "_view_name": "LayoutView",
            "align_content": null,
            "align_items": null,
            "align_self": null,
            "border": null,
            "bottom": null,
            "display": null,
            "flex": null,
            "flex_flow": null,
            "grid_area": null,
            "grid_auto_columns": null,
            "grid_auto_flow": null,
            "grid_auto_rows": null,
            "grid_column": null,
            "grid_gap": null,
            "grid_row": null,
            "grid_template_areas": null,
            "grid_template_columns": null,
            "grid_template_rows": null,
            "height": null,
            "justify_content": null,
            "justify_items": null,
            "left": null,
            "margin": null,
            "max_height": null,
            "max_width": null,
            "min_height": null,
            "min_width": null,
            "object_fit": null,
            "object_position": null,
            "order": null,
            "overflow": null,
            "overflow_x": null,
            "overflow_y": null,
            "padding": null,
            "right": null,
            "top": null,
            "visibility": null,
            "width": null
          }
        },
        "958f811694654687942e6e5fcec83fcf": {
          "model_module": "@jupyter-widgets/controls",
          "model_name": "ProgressStyleModel",
          "model_module_version": "1.5.0",
          "state": {
            "_model_module": "@jupyter-widgets/controls",
            "_model_module_version": "1.5.0",
            "_model_name": "ProgressStyleModel",
            "_view_count": null,
            "_view_module": "@jupyter-widgets/base",
            "_view_module_version": "1.2.0",
            "_view_name": "StyleView",
            "bar_color": null,
            "description_width": ""
          }
        },
        "90f55941a408492a95b4e55cc2aa93ca": {
          "model_module": "@jupyter-widgets/base",
          "model_name": "LayoutModel",
          "model_module_version": "1.2.0",
          "state": {
            "_model_module": "@jupyter-widgets/base",
            "_model_module_version": "1.2.0",
            "_model_name": "LayoutModel",
            "_view_count": null,
            "_view_module": "@jupyter-widgets/base",
            "_view_module_version": "1.2.0",
            "_view_name": "LayoutView",
            "align_content": null,
            "align_items": null,
            "align_self": null,
            "border": null,
            "bottom": null,
            "display": null,
            "flex": null,
            "flex_flow": null,
            "grid_area": null,
            "grid_auto_columns": null,
            "grid_auto_flow": null,
            "grid_auto_rows": null,
            "grid_column": null,
            "grid_gap": null,
            "grid_row": null,
            "grid_template_areas": null,
            "grid_template_columns": null,
            "grid_template_rows": null,
            "height": null,
            "justify_content": null,
            "justify_items": null,
            "left": null,
            "margin": null,
            "max_height": null,
            "max_width": null,
            "min_height": null,
            "min_width": null,
            "object_fit": null,
            "object_position": null,
            "order": null,
            "overflow": null,
            "overflow_x": null,
            "overflow_y": null,
            "padding": null,
            "right": null,
            "top": null,
            "visibility": null,
            "width": null
          }
        },
        "3d309ec36c1e46cc875fc91cc494f7b9": {
          "model_module": "@jupyter-widgets/controls",
          "model_name": "DescriptionStyleModel",
          "model_module_version": "1.5.0",
          "state": {
            "_model_module": "@jupyter-widgets/controls",
            "_model_module_version": "1.5.0",
            "_model_name": "DescriptionStyleModel",
            "_view_count": null,
            "_view_module": "@jupyter-widgets/base",
            "_view_module_version": "1.2.0",
            "_view_name": "StyleView",
            "description_width": ""
          }
        },
        "834df33e87cf4209b31863cd06e03154": {
          "model_module": "@jupyter-widgets/controls",
          "model_name": "HBoxModel",
          "model_module_version": "1.5.0",
          "state": {
            "_dom_classes": [],
            "_model_module": "@jupyter-widgets/controls",
            "_model_module_version": "1.5.0",
            "_model_name": "HBoxModel",
            "_view_count": null,
            "_view_module": "@jupyter-widgets/controls",
            "_view_module_version": "1.5.0",
            "_view_name": "HBoxView",
            "box_style": "",
            "children": [
              "IPY_MODEL_3e16793c8cb9422f95d7119fde2dc020",
              "IPY_MODEL_cb0211732381495ea6ec9f87e9a7294b",
              "IPY_MODEL_a9caeba5500d4f67bba08123aa6b7af5"
            ],
            "layout": "IPY_MODEL_26ac00625cd64958b11e4bbfe9ac0302"
          }
        },
        "3e16793c8cb9422f95d7119fde2dc020": {
          "model_module": "@jupyter-widgets/controls",
          "model_name": "HTMLModel",
          "model_module_version": "1.5.0",
          "state": {
            "_dom_classes": [],
            "_model_module": "@jupyter-widgets/controls",
            "_model_module_version": "1.5.0",
            "_model_name": "HTMLModel",
            "_view_count": null,
            "_view_module": "@jupyter-widgets/controls",
            "_view_module_version": "1.5.0",
            "_view_name": "HTMLView",
            "description": "",
            "description_tooltip": null,
            "layout": "IPY_MODEL_0c13ed16adb041e8bcdadea406cdd8b9",
            "placeholder": "​",
            "style": "IPY_MODEL_7df0c4ba28ea4fbd9be84d7822433f52",
            "value": "100%"
          }
        },
        "cb0211732381495ea6ec9f87e9a7294b": {
          "model_module": "@jupyter-widgets/controls",
          "model_name": "FloatProgressModel",
          "model_module_version": "1.5.0",
          "state": {
            "_dom_classes": [],
            "_model_module": "@jupyter-widgets/controls",
            "_model_module_version": "1.5.0",
            "_model_name": "FloatProgressModel",
            "_view_count": null,
            "_view_module": "@jupyter-widgets/controls",
            "_view_module_version": "1.5.0",
            "_view_name": "ProgressView",
            "bar_style": "success",
            "description": "",
            "description_tooltip": null,
            "layout": "IPY_MODEL_d94ce9cc4d074c0988eccb5b8ed6411e",
            "max": 10000,
            "min": 0,
            "orientation": "horizontal",
            "style": "IPY_MODEL_101d35d845fe498195ecb6c634a4c6c7",
            "value": 10000
          }
        },
        "a9caeba5500d4f67bba08123aa6b7af5": {
          "model_module": "@jupyter-widgets/controls",
          "model_name": "HTMLModel",
          "model_module_version": "1.5.0",
          "state": {
            "_dom_classes": [],
            "_model_module": "@jupyter-widgets/controls",
            "_model_module_version": "1.5.0",
            "_model_name": "HTMLModel",
            "_view_count": null,
            "_view_module": "@jupyter-widgets/controls",
            "_view_module_version": "1.5.0",
            "_view_name": "HTMLView",
            "description": "",
            "description_tooltip": null,
            "layout": "IPY_MODEL_dea0c00c3d9a404ea106069bf6e1faa1",
            "placeholder": "​",
            "style": "IPY_MODEL_556c7ae9e754436ca886341094b3dc8a",
            "value": " 10000/10000 [00:01&lt;00:00, 6910.53it/s]"
          }
        },
        "26ac00625cd64958b11e4bbfe9ac0302": {
          "model_module": "@jupyter-widgets/base",
          "model_name": "LayoutModel",
          "model_module_version": "1.2.0",
          "state": {
            "_model_module": "@jupyter-widgets/base",
            "_model_module_version": "1.2.0",
            "_model_name": "LayoutModel",
            "_view_count": null,
            "_view_module": "@jupyter-widgets/base",
            "_view_module_version": "1.2.0",
            "_view_name": "LayoutView",
            "align_content": null,
            "align_items": null,
            "align_self": null,
            "border": null,
            "bottom": null,
            "display": null,
            "flex": null,
            "flex_flow": null,
            "grid_area": null,
            "grid_auto_columns": null,
            "grid_auto_flow": null,
            "grid_auto_rows": null,
            "grid_column": null,
            "grid_gap": null,
            "grid_row": null,
            "grid_template_areas": null,
            "grid_template_columns": null,
            "grid_template_rows": null,
            "height": null,
            "justify_content": null,
            "justify_items": null,
            "left": null,
            "margin": null,
            "max_height": null,
            "max_width": null,
            "min_height": null,
            "min_width": null,
            "object_fit": null,
            "object_position": null,
            "order": null,
            "overflow": null,
            "overflow_x": null,
            "overflow_y": null,
            "padding": null,
            "right": null,
            "top": null,
            "visibility": null,
            "width": null
          }
        },
        "0c13ed16adb041e8bcdadea406cdd8b9": {
          "model_module": "@jupyter-widgets/base",
          "model_name": "LayoutModel",
          "model_module_version": "1.2.0",
          "state": {
            "_model_module": "@jupyter-widgets/base",
            "_model_module_version": "1.2.0",
            "_model_name": "LayoutModel",
            "_view_count": null,
            "_view_module": "@jupyter-widgets/base",
            "_view_module_version": "1.2.0",
            "_view_name": "LayoutView",
            "align_content": null,
            "align_items": null,
            "align_self": null,
            "border": null,
            "bottom": null,
            "display": null,
            "flex": null,
            "flex_flow": null,
            "grid_area": null,
            "grid_auto_columns": null,
            "grid_auto_flow": null,
            "grid_auto_rows": null,
            "grid_column": null,
            "grid_gap": null,
            "grid_row": null,
            "grid_template_areas": null,
            "grid_template_columns": null,
            "grid_template_rows": null,
            "height": null,
            "justify_content": null,
            "justify_items": null,
            "left": null,
            "margin": null,
            "max_height": null,
            "max_width": null,
            "min_height": null,
            "min_width": null,
            "object_fit": null,
            "object_position": null,
            "order": null,
            "overflow": null,
            "overflow_x": null,
            "overflow_y": null,
            "padding": null,
            "right": null,
            "top": null,
            "visibility": null,
            "width": null
          }
        },
        "7df0c4ba28ea4fbd9be84d7822433f52": {
          "model_module": "@jupyter-widgets/controls",
          "model_name": "DescriptionStyleModel",
          "model_module_version": "1.5.0",
          "state": {
            "_model_module": "@jupyter-widgets/controls",
            "_model_module_version": "1.5.0",
            "_model_name": "DescriptionStyleModel",
            "_view_count": null,
            "_view_module": "@jupyter-widgets/base",
            "_view_module_version": "1.2.0",
            "_view_name": "StyleView",
            "description_width": ""
          }
        },
        "d94ce9cc4d074c0988eccb5b8ed6411e": {
          "model_module": "@jupyter-widgets/base",
          "model_name": "LayoutModel",
          "model_module_version": "1.2.0",
          "state": {
            "_model_module": "@jupyter-widgets/base",
            "_model_module_version": "1.2.0",
            "_model_name": "LayoutModel",
            "_view_count": null,
            "_view_module": "@jupyter-widgets/base",
            "_view_module_version": "1.2.0",
            "_view_name": "LayoutView",
            "align_content": null,
            "align_items": null,
            "align_self": null,
            "border": null,
            "bottom": null,
            "display": null,
            "flex": null,
            "flex_flow": null,
            "grid_area": null,
            "grid_auto_columns": null,
            "grid_auto_flow": null,
            "grid_auto_rows": null,
            "grid_column": null,
            "grid_gap": null,
            "grid_row": null,
            "grid_template_areas": null,
            "grid_template_columns": null,
            "grid_template_rows": null,
            "height": null,
            "justify_content": null,
            "justify_items": null,
            "left": null,
            "margin": null,
            "max_height": null,
            "max_width": null,
            "min_height": null,
            "min_width": null,
            "object_fit": null,
            "object_position": null,
            "order": null,
            "overflow": null,
            "overflow_x": null,
            "overflow_y": null,
            "padding": null,
            "right": null,
            "top": null,
            "visibility": null,
            "width": null
          }
        },
        "101d35d845fe498195ecb6c634a4c6c7": {
          "model_module": "@jupyter-widgets/controls",
          "model_name": "ProgressStyleModel",
          "model_module_version": "1.5.0",
          "state": {
            "_model_module": "@jupyter-widgets/controls",
            "_model_module_version": "1.5.0",
            "_model_name": "ProgressStyleModel",
            "_view_count": null,
            "_view_module": "@jupyter-widgets/base",
            "_view_module_version": "1.2.0",
            "_view_name": "StyleView",
            "bar_color": null,
            "description_width": ""
          }
        },
        "dea0c00c3d9a404ea106069bf6e1faa1": {
          "model_module": "@jupyter-widgets/base",
          "model_name": "LayoutModel",
          "model_module_version": "1.2.0",
          "state": {
            "_model_module": "@jupyter-widgets/base",
            "_model_module_version": "1.2.0",
            "_model_name": "LayoutModel",
            "_view_count": null,
            "_view_module": "@jupyter-widgets/base",
            "_view_module_version": "1.2.0",
            "_view_name": "LayoutView",
            "align_content": null,
            "align_items": null,
            "align_self": null,
            "border": null,
            "bottom": null,
            "display": null,
            "flex": null,
            "flex_flow": null,
            "grid_area": null,
            "grid_auto_columns": null,
            "grid_auto_flow": null,
            "grid_auto_rows": null,
            "grid_column": null,
            "grid_gap": null,
            "grid_row": null,
            "grid_template_areas": null,
            "grid_template_columns": null,
            "grid_template_rows": null,
            "height": null,
            "justify_content": null,
            "justify_items": null,
            "left": null,
            "margin": null,
            "max_height": null,
            "max_width": null,
            "min_height": null,
            "min_width": null,
            "object_fit": null,
            "object_position": null,
            "order": null,
            "overflow": null,
            "overflow_x": null,
            "overflow_y": null,
            "padding": null,
            "right": null,
            "top": null,
            "visibility": null,
            "width": null
          }
        },
        "556c7ae9e754436ca886341094b3dc8a": {
          "model_module": "@jupyter-widgets/controls",
          "model_name": "DescriptionStyleModel",
          "model_module_version": "1.5.0",
          "state": {
            "_model_module": "@jupyter-widgets/controls",
            "_model_module_version": "1.5.0",
            "_model_name": "DescriptionStyleModel",
            "_view_count": null,
            "_view_module": "@jupyter-widgets/base",
            "_view_module_version": "1.2.0",
            "_view_name": "StyleView",
            "description_width": ""
          }
        }
      }
    }
  },
  "nbformat": 4,
  "nbformat_minor": 0
}