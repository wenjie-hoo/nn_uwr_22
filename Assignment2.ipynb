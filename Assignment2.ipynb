{
  "cells": [
    {
      "cell_type": "markdown",
      "metadata": {
        "id": "view-in-github",
        "colab_type": "text"
      },
      "source": [
        "<a href=\"https://colab.research.google.com/github/wenjie-hoo/nn_uwr_22/blob/main/Assignment2.ipynb\" target=\"_parent\"><img src=\"https://colab.research.google.com/assets/colab-badge.svg\" alt=\"Open In Colab\"/></a>"
      ]
    },
    {
      "cell_type": "markdown",
      "metadata": {
        "cell_id": "00001-10528e06-f6bc-4d22-87ba-44ee389423e2",
        "deepnote_cell_height": 513.59375,
        "deepnote_cell_type": "markdown",
        "id": "CzR6cZvYkyl6"
      },
      "source": [
        "## Assignment 2\n",
        "\n",
        "**Submission deadlines:** \n",
        "- get at least 4 points by Tuesday, 30.03.2023\n",
        "- remaining points: last lab session before or on Tuesday, 06.04.2023\n",
        "\n",
        "**Points:** Aim to get 16 out of 20+ possible points\n",
        "\n",
        "## Submission instructions\n",
        "The class is held on-site in lab rooms. Please prepare you notebook on your computer or anywhere in the cloud (try using DeepNote or Google Colab (preferred since one can get free GPUs there)).\n",
        "Make sure you know all the questions and asnwers, and that the notebook contains results; bfore presentation do `Runtime -> Restart and run all`\n",
        "![Picture title](image-20220302-183151.png)\n",
        "\n",
        "We provide starter code, however you are not required to use it as long as you properly solve the tasks.\n",
        "\n",
        "As always, please submit corrections using GitHub's Pull Requests to https://github.com/rnoxy/dl_uwr."
      ]
    },
    {
      "cell_type": "markdown",
      "metadata": {
        "cell_id": "00002-c9d8b5e1-13d2-492d-9ad6-d82d4419394b",
        "deepnote_cell_height": 82,
        "deepnote_cell_type": "markdown",
        "id": "eJ7DqCH7NDlC"
      },
      "source": [
        "# Problems"
      ]
    },
    {
      "cell_type": "markdown",
      "metadata": {
        "cell_id": "00003-48229273-726d-45db-bb12-068773ea6b9c",
        "deepnote_cell_height": 433.421875,
        "deepnote_cell_type": "markdown",
        "id": "YXr1RwyMFITD"
      },
      "source": [
        "\n",
        "## Problem 1 [1p]:\n",
        "\n",
        "Let's see why GPUs are useful in deep learning. Compare matrix multiplication speed for a few matrix shapes when implemented:\n",
        "1. as loops in Python\n",
        "2. using np.einsum\n",
        "3. using numpy on CPU\n",
        "4. using pytorch on CPU\n",
        "5. using pytorch on GPU\n",
        "\n",
        "Finally, consider two square matrices, $A$ and $B$. We have 4 possibilities of multiplying them or their transpositions:\n",
        "1. $AB$\n",
        "2. $A^TB$\n",
        "3. $AB^T$\n",
        "4. $A^TB^T$\n",
        "\n",
        "Which option is the fastest? Why?"
      ]
    },
    {
      "cell_type": "markdown",
      "metadata": {
        "cell_id": "00004-6fcf24af-39f5-4e54-a68e-21493b4f3484",
        "deepnote_cell_height": 313.1875,
        "deepnote_cell_type": "markdown",
        "id": "eQa69LGTaiym"
      },
      "source": [
        "## Problem 2: Stochastic Gradient Descent [3p]\n",
        "\n",
        "We provide below starter code that trains a softmax regression model. Alternatively, implement your own training loop and use it to solve this problem jointly with the next one.\n",
        "\n",
        "Implement the following additions to the SGD code provided:\n",
        "  1. **[1p]** momentum\n",
        "  2. **[1p]** learning rate schedule\n",
        "  3. **[1p]** weight decay, in which we additionally minimize for each weight matrix (but typically not the bias) the sum of its elements squared. One way to implement it is to use the function `model.named_parameters` and select all parameters whose names contain \"`weight`\" rather than \"`bias`\"."
      ]
    },
    {
      "cell_type": "markdown",
      "metadata": {
        "cell_id": "00005-08ef04aa-9e94-4455-bddc-b843562afd3f",
        "deepnote_cell_height": 350,
        "deepnote_cell_type": "markdown",
        "id": "YsLt4dGsaosv"
      },
      "source": [
        "## Problem 3: Tuning the Network for MNIST [4p]\n",
        "\n",
        "Tune the following network to reach **validation error rate below 1.9%**.\n",
        "This should result in a **test error rate below 2%**. To\n",
        "tune the network you will need to:\n",
        "1. Choose the number of layers (more than 1, less than 5);\n",
        "2. Choose the number of neurons in each layer (more than 100,\n",
        "    less than 5000);\n",
        "3. Pick proper weight initialization;\n",
        "4. Pick proper learning rate schedule (need to decay over time,\n",
        "    a good range to check on MNIST is about 1e-2 ... 1e-1 at the beginning and\n",
        "    half of that after 10000 batches);\n",
        "5. Pick a momentum constant (probably a constant one will be OK).\n",
        "\n",
        "\n",
        "Please note: there are many hyperparameter settings that give the desired answer, some may require tuning all hyperparameters, some only a few."
      ]
    },
    {
      "cell_type": "markdown",
      "metadata": {
        "cell_id": "00006-1469d97b-d10e-428a-a29a-f6446ffaa579",
        "deepnote_cell_height": 130.796875,
        "deepnote_cell_type": "markdown",
        "id": "YrUQloaln1UA"
      },
      "source": [
        "## Problem 4: Convolutional Network [2p]\n",
        "\n",
        "Use convolutional and max-pooling layers (`Conv2d`, `Max_pool2d` or their functional variants) and (without dropout) get a test error rate below 1.5%."
      ]
    },
    {
      "cell_type": "markdown",
      "metadata": {
        "cell_id": "00007-c363a8df-405f-4da9-a0ab-59e2fa166b63",
        "deepnote_cell_height": 338.1875,
        "deepnote_cell_type": "markdown",
        "id": "_9DaWUy_atrn"
      },
      "source": [
        "## Problem 5: Dropout [2p]\n",
        "\n",
        "Learn about dropout:\n",
        "\n",
        "- implement a **dropout** layer \n",
        "- or use `nn.Dropout` (then the exercise is worth 1.5 points)\n",
        "\n",
        "and try to train a\n",
        "network getting below 1.5% test error rates with dropout, but no convolutions, or below 1% when dropout is used jointly with convolutions!\n",
        "\n",
        "Remember to turn off dropout during testing, using `model.train()` and `model.eval()`!\n",
        "\n",
        "Hint: Use [torch.nn.functional.dropout](http://pytorch.org/docs/master/nn.html#torch.nn.functional.dropout).\n",
        "\n",
        "Details: http://arxiv.org/pdf/1207.0580.pdf."
      ]
    },
    {
      "cell_type": "markdown",
      "metadata": {
        "cell_id": "00008-b71ece13-36f1-4661-b0c6-3739ba0af279",
        "deepnote_cell_height": 212,
        "deepnote_cell_type": "markdown",
        "id": "mB3T_HuYawyQ"
      },
      "source": [
        "## Problem 6: Data Augmentation [1p]\n",
        "\n",
        "Apply data augmentation methods (e.g. rotations, noise, crops) when training networks on MNIST, to significantly reduce test error rate for your network. You can use functions from the [torchvision.transforms](http://pytorch.org/docs/master/torchvision/transforms.html) module.\n",
        "\n",
        "Please note: when using random transformations during training, make sure they are re-computed in every epoch. Consider applying augmentation either in the training loop or in the `InMemDataLoader`. For the second case, function `InMemDataLoader.__iter__` is a good place to do it."
      ]
    },
    {
      "cell_type": "markdown",
      "metadata": {
        "cell_id": "00009-9efae45c-dfcb-4687-b7c4-98b007244266",
        "deepnote_cell_height": 226,
        "deepnote_cell_type": "markdown",
        "id": "Af7itFE7a0eY"
      },
      "source": [
        "## Problem 7: Batch Normalization [1p]\n",
        "\n",
        "[Batch Normalization](https://arxiv.org/abs/1502.03167) helps training neural networks because it [normalizes layer activation magnitudes](https://papers.nips.cc/paper/7515-how-does-batch-normalization-help-optimization.pdf). It typically allows to train networks faster and/or with higher learning rates, lessens the importance\n",
        "of initialization and might eliminate the need for Dropout.\n",
        "\n",
        "Implement Batch Normalization and compare with regular training of MNIST models.\n",
        "\n",
        "Remember to use the batch statistics during model training and to use an average of training batch statistics during model evaluation. For details please consult the paper."
      ]
    },
    {
      "cell_type": "markdown",
      "metadata": {
        "cell_id": "00010-82d7197f-70be-49e8-8a59-99ea637bf693",
        "deepnote_cell_height": 212,
        "deepnote_cell_type": "markdown",
        "id": "CD1Ke8R4a1-Q"
      },
      "source": [
        "## Problem 8: Norm Constraints [1p]\n",
        "\n",
        "Implement norm constraints, i.e. instead of weight decay, that tries to set all weights to small values, apply a limit on the total\n",
        "norm of connections incoming to a neuron. In our case, this\n",
        "corresponds to clipping the norm of *rows* of weight\n",
        "matrices. An easy way of implementing it is to make a gradient\n",
        "step, then look at the norm of rows and scale down those that are\n",
        "over the threshold (this technique is called \"projected gradient descent\").\n",
        "\n",
        "Please consult the Dropout paper (http://arxiv.org/pdf/1207.0580.pdf) for details."
      ]
    },
    {
      "cell_type": "markdown",
      "metadata": {
        "cell_id": "00011-c12d33a7-8f7d-4d53-b4f4-23f90b3c17ed",
        "deepnote_cell_height": 181.84375,
        "deepnote_cell_type": "markdown",
        "id": "CL3_e1xCa4YG"
      },
      "source": [
        "## Problem 9: Polyak Averaging [1p]\n",
        "\n",
        "Implement Polyak averaging. For each parameter $\\theta$\n",
        "keep a separate, exponentially decayed average of the past values\n",
        "$$\n",
        "\\bar{\\theta}_n = \\alpha_p\\bar{\\theta}_{n-1} + (1-\\alpha_p)\\theta_n.\n",
        "$$\n",
        "Use that average when evaluating the model on the test set.\n",
        "Validate the approach by training a model on the MNIST dataset."
      ]
    },
    {
      "cell_type": "markdown",
      "metadata": {
        "cell_id": "00012-9ad9a7b8-4ee0-4df2-8a0c-6ed0cb246cdc",
        "deepnote_cell_height": 198,
        "deepnote_cell_type": "markdown",
        "id": "w7LoH9DIa88J"
      },
      "source": [
        "## Problem 10: Hyperparameter tuner [1p]\n",
        "\n",
        "Implement a hyper-parameter tuner able to optimize the learning rate schedule, number of neurons, and similar hyperparameters. To start, use a random search (please see http://jmlr.csail.mit.edu/papers/volume13/bergstra12a/bergstra12a.pdf and especially Fig 1. for intuitions on why random search is better than grid search). It may be a good idea to use a fixed maximum number of epochs (or training time) for each optimization trial to prevent selecting hyperparameters that yield slowly converging solutions. A good result will be a set of hyperparameters that reach on MNIST solutions with test errors less than $1.3\\%$ in no more than 50 epochs."
      ]
    },
    {
      "cell_type": "markdown",
      "metadata": {
        "cell_id": "00013-1bb7d06a-33a4-4e1a-9922-d09becbcbddb",
        "deepnote_cell_height": 464.390625,
        "deepnote_cell_type": "markdown",
        "id": "mzJTDu2aE8sk"
      },
      "source": [
        "## Problem 11: Pruning [1p]\n",
        "\n",
        "Prune the MNIST network to retain validation accuracy no worse than 0.1 percentage point at maximum sparsity (maximal number of weights removed from the network).\n",
        "\n",
        "One way to do it is to \n",
        "1. train the network, \n",
        "2. set to zero the smallest weights (typically you can zero up to 50% of weights)\n",
        "3. retrain the network, keeping the zeroed weights zeroed, and repeat"
      ]
    },
    {
      "cell_type": "markdown",
      "metadata": {
        "cell_id": "00014-bfe2d2f2-2578-47ee-9112-5f72785b0778",
        "deepnote_cell_height": 212,
        "deepnote_cell_type": "markdown",
        "id": "7jyEkvsqo2bx"
      },
      "source": [
        "## Problem 12: Extreme Learning Machine (ELM) [2p]\n",
        "\n",
        "Consider a neural network with 1 hidden layer. In the extreme learning approach, the first layer is not trained, but instead, it is randomly set. It is often very large. The second (output) layer weights can then be set using the closed-form formula for linear regression. Thus, training an ELM is fast (there is no iterative optimization) and one can try many different hyperparameters, such as hidden layer size, the random distribution from which weights are sampled, the hidden activation function, and so forth.\n",
        "\n",
        "Task: Implement an ELM for MNIST and try to reach the performance of your backpropagation-trained model."
      ]
    },
    {
      "cell_type": "markdown",
      "metadata": {
        "cell_id": "00015-f8cf66c4-94bb-492c-abb5-845f0be43678",
        "deepnote_cell_height": 130.796875,
        "deepnote_cell_type": "markdown",
        "id": "aotfN2N2FCM6"
      },
      "source": [
        "## Problem 13: Other tricks [1p-many]\n",
        "\n",
        "The neural network literature is full of tricks for training neural networks. Find some and implement them. Please note: the number of points depends on the hardness of the extension you want to implement. If in doubt, consult the TA beforehand"
      ]
    },
    {
      "cell_type": "markdown",
      "metadata": {
        "cell_id": "00016-c2f60d20-e061-443c-a8e3-1713b5192445",
        "deepnote_cell_height": 120.390625,
        "deepnote_cell_type": "markdown",
        "id": "NNfw6pY9sRJe"
      },
      "source": [
        "# Starter code\n",
        "\n",
        "The code below trains a SoftMax regression model in PyTorch. It can easily be extended into a full multilayer neural network."
      ]
    },
    {
      "cell_type": "code",
      "execution_count": 75,
      "metadata": {
        "cell_id": "00017-cf2d5c0e-2979-4394-9d7b-26cf2d6f6225",
        "deepnote_cell_height": 66,
        "deepnote_cell_type": "code",
        "id": "iEUPZksWm9YU"
      },
      "outputs": [],
      "source": [
        "%matplotlib inline"
      ]
    },
    {
      "cell_type": "code",
      "execution_count": 76,
      "metadata": {
        "cell_id": "00018-a007af69-e00b-42a8-8ccd-13a9d5d9f6a5",
        "deepnote_cell_height": 264,
        "deepnote_cell_type": "code",
        "id": "039umgT_lsH2"
      },
      "outputs": [],
      "source": [
        "import os\n",
        "import time\n",
        "\n",
        "import matplotlib.pyplot as plt\n",
        "import numpy as np\n",
        "from IPython.display import clear_output\n",
        "from tqdm.auto import tqdm\n",
        "from torch.utils.data import DataLoader\n",
        "from torchvision import datasets, transforms\n",
        "from torchvision.transforms import ToTensor\n",
        "import torch.optim as optim\n",
        "\n",
        "import torch\n",
        "import torch.nn.functional as F\n",
        "import torchvision.datasets\n",
        "from torch import nn"
      ]
    },
    {
      "cell_type": "code",
      "source": [
        "!pip install -q gdown httpimport\n",
        "!gdown 'https://github.com/wenjie-hoo/nn_uwr_22/raw/main/MNIST.tar.gz'"
      ],
      "metadata": {
        "colab": {
          "base_uri": "https://localhost:8080/"
        },
        "id": "MeMJN3gRvYjq",
        "outputId": "1e273645-78f7-4720-86d4-0e2ea8027687"
      },
      "execution_count": 77,
      "outputs": [
        {
          "output_type": "stream",
          "name": "stdout",
          "text": [
            "Downloading...\n",
            "From: https://github.com/wenjie-hoo/nn_uwr_22/raw/main/MNIST.tar.gz\n",
            "To: /content/MNIST.tar.gz\n",
            "\r  0% 0.00/34.8M [00:00<?, ?B/s]\r100% 34.8M/34.8M [00:00<00:00, 368MB/s]\n"
          ]
        }
      ]
    },
    {
      "cell_type": "markdown",
      "source": [
        "### problem 1"
      ],
      "metadata": {
        "id": "MgzZUDrBuQkj"
      }
    },
    {
      "cell_type": "code",
      "source": [
        "def matmul_loop(a, b):\n",
        "    m, n = a.shape\n",
        "    n, p = b.shape\n",
        "    c = np.zeros((m, p))\n",
        "    for i in range(m):\n",
        "        for j in range(p):\n",
        "            for k in range(n):\n",
        "                c[i,j] += a[i,k] * b[k,j]\n",
        "    return c\n",
        "\n",
        "def matmul_einsum(a, b):\n",
        "    return np.einsum('ik,kj->ij', a, b)\n",
        "\n",
        "def matmul_np(a, b):\n",
        "    return np.matmul(a, b)\n",
        "\n",
        "def matmul_torch_cpu(a, b):\n",
        "    a_t = torch.from_numpy(a)\n",
        "    b_t = torch.from_numpy(b)\n",
        "    return torch.matmul(a_t, b_t).numpy()\n",
        "\n",
        "def matmul_torch_gpu(a, b):\n",
        "    a_t = torch.from_numpy(a).cuda()\n",
        "    b_t = torch.from_numpy(b).cuda()\n",
        "    return torch.matmul(a_t, b_t).cpu().numpy()\n",
        "if torch.cuda.is_available():\n",
        "  shapes = [(100, 100), (500, 500)]\n",
        "  for shape in shapes:\n",
        "      a = np.random.rand(*shape)\n",
        "      b = np.random.rand(*shape)\n",
        "\n",
        "      t0 = time.time()\n",
        "      matmul_loop(a, b)\n",
        "      t1 = time.time()\n",
        "      matmul_einsum(a, b)\n",
        "      t2 = time.time()\n",
        "      matmul_np(a, b)\n",
        "      t3 = time.time()\n",
        "      matmul_torch_cpu(a, b)\n",
        "      t4 = time.time()\n",
        "      matmul_torch_gpu(a, b)\n",
        "      t5 = time.time()\n",
        "\n",
        "      print(f\"Shape: {shape}\")\n",
        "      print(f\"Loop: {t1-t0:.5f}s\")\n",
        "      print(f\"Einsum: {t2-t1:.5f}s\")\n",
        "      print(f\"np.matmul: {t3-t2:.5f}s\")\n",
        "      print(f\"torch.matmul on CPU: {t4-t3:.5f}s\")\n",
        "      print(f\"torch.matmul on GPU: {t5-t4:.5f}s\")\n",
        "    "
      ],
      "metadata": {
        "id": "o7jzKvzWC33c"
      },
      "execution_count": 78,
      "outputs": []
    },
    {
      "cell_type": "code",
      "source": [
        "if torch.cuda.is_available():\n",
        "  A = torch.randn(10000, 10000)\n",
        "  B = torch.randn(10000, 10000)\n",
        "  device =torch.device('cuda')\n",
        "  A_gpu = A.to(device)\n",
        "  B_gpu = B.to(device)\n",
        "\n",
        "  AB_gpu = torch.matmul(A_gpu, B_gpu)\n",
        "  ATB_gpu = torch.matmul(A_gpu.T, B_gpu)\n",
        "  ABT_gpu = torch.matmul(A_gpu, B_gpu.T)\n",
        "  ATBT_gpu = torch.matmul(A_gpu.T, B_gpu.T)\n",
        "\n",
        "  t1 = time.time()\n",
        "  torch.matmul(A_gpu, B_gpu)\n",
        "  t2 = time.time()\n",
        "  torch.matmul(A_gpu.T, B_gpu)\n",
        "  t3 = time.time()\n",
        "  torch.matmul(A_gpu, B_gpu.T)\n",
        "  t4 = time.time()\n",
        "  torch.matmul(A_gpu.T, B_gpu.T)\n",
        "  t5 = time.time()\n",
        "\n",
        "  print(f\"AB on GPU: {t2-t1:.5f}s\")\n",
        "  print(f\"ATB on GPU: {t3-t2:.5f}s\")\n",
        "  print(f\"ABT on GPU: {t4-t3:.5f}s\")\n",
        "  print(f\"ATBT on GPU: {t5-t4:.5f}s\")\n"
      ],
      "metadata": {
        "id": "2thEoz9DTgvo"
      },
      "execution_count": 79,
      "outputs": []
    },
    {
      "cell_type": "markdown",
      "metadata": {
        "cell_id": "00020-12705b84-2e28-4596-878c-69510f5bf058",
        "deepnote_cell_height": 130.796875,
        "deepnote_cell_type": "markdown",
        "id": "OT6R09JnnYs9"
      },
      "source": [
        "## Data loading\n",
        "\n",
        "Training speed is important. By default, data is loaded on the CPU, then shipped in batches to the GPU. For this exercise, we will load the full dataset onto the GPU, which speeds up training."
      ]
    },
    {
      "cell_type": "code",
      "execution_count": 99,
      "metadata": {
        "cell_id": "00021-b3c4901d-b2c9-400d-84d3-667224735d7d",
        "deepnote_cell_height": 1362,
        "deepnote_cell_type": "code",
        "id": "OPh9uR8ZorL7"
      },
      "outputs": [],
      "source": [
        "class InMemDataLoader(object):\n",
        "    \"\"\"\n",
        "    A data loader that keeps all data in CPU or GPU memory.\n",
        "    \"\"\"\n",
        "\n",
        "    __initialized = False\n",
        "\n",
        "    def __init__(\n",
        "        self,\n",
        "        dataset,\n",
        "        batch_size=1,\n",
        "        shuffle=False,\n",
        "        sampler=None,\n",
        "        batch_sampler=None,\n",
        "        drop_last=False,\n",
        "        transform = None\n",
        "    ):\n",
        "        \"\"\"A torch dataloader that fetches data from memory.\"\"\"\n",
        "        batches = []\n",
        "        for i in tqdm(range(len(dataset))):\n",
        "            batch = [torch.tensor(t) for t in dataset[i]]\n",
        "            batches.append(batch)\n",
        "        tensors = [torch.stack(ts) for ts in zip(*batches)]\n",
        "        dataset = torch.utils.data.TensorDataset(*tensors)\n",
        "        self.dataset = dataset\n",
        "        self.batch_size = batch_size\n",
        "        self.drop_last = drop_last\n",
        "        self.transform = transform\n",
        "        if transform is not None:\n",
        "            transform=transforms.Compose([\n",
        "              transforms.RandomHorizontalFlip(),        \n",
        "              transforms.RandomVerticalFlip(),         \n",
        "              transforms.RandomRotation(15),           \n",
        "              transforms.RandomRotation([90, 180]),     \n",
        "              transforms.Resize([32, 32]),             \n",
        "              transforms.RandomCrop([28, 28]),       \n",
        "              transforms.ToTensor(),\n",
        "            # transforms.Normalize((0.1307,), (0.3081,))\n",
        "                    ])\n",
        "        if batch_sampler is not None:\n",
        "            if batch_size > 1 or shuffle or sampler is not None or drop_last:\n",
        "                raise ValueError(\n",
        "                    \"batch_sampler option is mutually exclusive \"\n",
        "                    \"with batch_size, shuffle, sampler, and \"\n",
        "                    \"drop_last\"\n",
        "                )\n",
        "            self.batch_size = None\n",
        "            self.drop_last = None\n",
        "\n",
        "        if sampler is not None and shuffle:\n",
        "            raise ValueError(\"sampler option is mutually exclusive with \" \"shuffle\")\n",
        "\n",
        "        if batch_sampler is None:\n",
        "            if sampler is None:\n",
        "                if shuffle:\n",
        "                    sampler = torch.utils.data.RandomSampler(dataset)\n",
        "                else:\n",
        "                    sampler = torch.utils.data.SequentialSampler(dataset)\n",
        "            batch_sampler = torch.utils.data.BatchSampler(\n",
        "                sampler, batch_size, drop_last\n",
        "            )\n",
        "\n",
        "        self.sampler = sampler\n",
        "        self.batch_sampler = batch_sampler\n",
        "        self.__initialized = True\n",
        "\n",
        "    def __setattr__(self, attr, val):\n",
        "        if self.__initialized and attr in (\"batch_size\", \"sampler\", \"drop_last\"):\n",
        "            raise ValueError(\n",
        "                \"{} attribute should not be set after {} is \"\n",
        "                \"initialized\".format(attr, self.__class__.__name__)\n",
        "            )\n",
        "\n",
        "        super(InMemDataLoader, self).__setattr__(attr, val)\n",
        "\n",
        "    def __iter__(self):\n",
        "        for batch_indices in self.batch_sampler:\n",
        "            yield self.dataset[batch_indices]\n",
        "\n",
        "    def __len__(self):\n",
        "        return len(self.batch_sampler)\n",
        "\n",
        "    def to(self, device):\n",
        "        self.dataset.tensors = tuple(t.to(device) for t in self.dataset.tensors)\n",
        "        return self"
      ]
    },
    {
      "cell_type": "code",
      "execution_count": 81,
      "metadata": {
        "cell_id": "00022-781fa74f-113b-42aa-abad-f98814527964",
        "deepnote_cell_height": 390,
        "deepnote_cell_type": "code",
        "id": "d4RuDI9YpPhe"
      },
      "outputs": [],
      "source": [
        "# Monkey-patch MNIST to use a more robust MIST mirror\n",
        "torchvision.datasets.MNIST.resources = [\n",
        "    (\n",
        "        \"https://web.archive.org/web/20150906081542/http://yann.lecun.com/exdb/mnist/train-images-idx3-ubyte.gz\",\n",
        "        \"f68b3c2dcbeaaa9fbdd348bbdeb94873\",\n",
        "    ),\n",
        "    (\n",
        "        \"https://web.archive.org/web/20150906081542/http://yann.lecun.com/exdb/mnist/train-labels-idx1-ubyte.gz\",\n",
        "        \"d53e105ee54ea40749a09fcbcd1e9432\",\n",
        "    ),\n",
        "    (\n",
        "        \"https://web.archive.org/web/20150906081542/http://yann.lecun.com/exdb/mnist/t10k-images-idx3-ubyte.gz\",\n",
        "        \"9fb629c4189551a2d022fa330f9573f3\",\n",
        "    ),\n",
        "    (\n",
        "        \"https://web.archive.org/web/20150906081542/http://yann.lecun.com/exdb/mnist/t10k-labels-idx1-ubyte.gz\",\n",
        "        \"ec29112dd5afa0611ce80d1b7f02629c\",\n",
        "    ),\n",
        "]"
      ]
    },
    {
      "cell_type": "code",
      "execution_count": 82,
      "metadata": {
        "cell_id": "00023-1ae08eac-ed89-46d5-b212-29029275d401",
        "deepnote_cell_height": 1054.796875,
        "deepnote_cell_type": "code",
        "id": "wDM2KTPQm8V3"
      },
      "outputs": [],
      "source": [
        "# # Load the data\n",
        "\n",
        "# batch_size = 128\n",
        "# data_path = \"./data\"\n",
        "\n",
        "# transform = torchvision.transforms.Compose(\n",
        "#     [\n",
        "#         torchvision.transforms.ToTensor(),\n",
        "#         torchvision.transforms.Normalize((0.1307,), (0.3081,)),\n",
        "#     ]\n",
        "# )\n",
        "\n",
        "# _test = datasets.MNIST(root='./data', train=False, download=True, transform=None)\n",
        "\n",
        "# # Load training data, split into train and valid sets\n",
        "# _train = datasets.MNIST(root='./data', train=True, download=True, transform=None)\n",
        "# _train.data = _train.data[:50000]\n",
        "# _train.targets = _train.targets[:50000]\n",
        "\n",
        "\n",
        "# _valid = datasets.MNIST(root='./data', train=True, download=True, transform=None)\n",
        "# _valid.data = _valid.data[50000:]\n",
        "# _valid.targets = _valid.targets[50000:]\n",
        "\n",
        "# mnist_loaders = {\n",
        "#     \"train\": DataLoader(_train, batch_size=batch_size, shuffle=True),\n",
        "#     \"valid\": DataLoader(_valid, batch_size=batch_size, shuffle=False),\n",
        "#     \"test\": DataLoader(_test, batch_size=batch_size, shuffle=False),\n",
        "# }"
      ]
    },
    {
      "cell_type": "code",
      "source": [
        "# load dataset locally\n",
        "! mkdir ./data\n",
        "! tar -zxvf ./MNIST.tar.gz -C ./data/\n",
        "! ls ./data/"
      ],
      "metadata": {
        "colab": {
          "base_uri": "https://localhost:8080/"
        },
        "id": "nEHdwDTog3LP",
        "outputId": "c15ac9d4-45fa-4075-a9f1-ff5a6f22a1bb"
      },
      "execution_count": 100,
      "outputs": [
        {
          "output_type": "stream",
          "name": "stdout",
          "text": [
            "mkdir: cannot create directory ‘./data’: File exists\n",
            "MNIST/\n",
            "MNIST/raw/\n",
            "MNIST/raw/train-labels-idx1-ubyte\n",
            "MNIST/raw/t10k-labels-idx1-ubyte.gz\n",
            "MNIST/raw/t10k-labels-idx1-ubyte\n",
            "MNIST/raw/t10k-images-idx3-ubyte.gz\n",
            "MNIST/raw/train-images-idx3-ubyte\n",
            "MNIST/raw/train-labels-idx1-ubyte.gz\n",
            "MNIST/raw/t10k-images-idx3-ubyte\n",
            "MNIST/raw/train-images-idx3-ubyte.gz\n",
            "MNIST/processed/\n",
            "MNIST/processed/training.pt\n",
            "MNIST/processed/test.pt\n",
            "MNIST\n"
          ]
        }
      ]
    },
    {
      "cell_type": "code",
      "source": [
        "from torchvision.datasets import MNIST\n",
        "dataset = torchvision.datasets.MNIST('./data')\n",
        "\n",
        "train_dataset = MNIST(root='./data/', train=True, download=False, transform=ToTensor())\n",
        "train_loader = InMemDataLoader(train_dataset,batch_size=64, shuffle=True)\n",
        "# train_loader = DataLoader(train_dataset, batch_size=64, shuffle=True)\n",
        "test_dataset = MNIST(root='./data/', train=False, download=False, transform=ToTensor())\n",
        "test_loader = InMemDataLoader(test_dataset,batch_size=64, shuffle=True)\n",
        "# test_loader = DataLoader(test_dataset, batch_size=64, shuffle=False)"
      ],
      "metadata": {
        "id": "fTj66gaHhbnv",
        "colab": {
          "base_uri": "https://localhost:8080/",
          "height": 137,
          "referenced_widgets": [
            "043ac6e487094d4980860d1048983142",
            "63b8cdd9b22c478ca4984c2793cac6c6",
            "2f30e2fe2baa4b2eac86c8c92fc9a9a6",
            "5fcf432f03844fd5a37aea46d0c804bc",
            "11dfcdbc2e7640439cded5bb33824dbc",
            "2d8daf498bc54f8f872df1872fd008ce",
            "667a9ee51ed34c0ea331766cd536f765",
            "7630313ca5054a74a991c5ad7c7307e5",
            "6afb7ddff07a4f518036233da4f2c39a",
            "b0a26ae8967f4d77b79e0e476236d2c1",
            "f4f6b9799e8545cb98079879b7419a64",
            "bd3c5811f3544ec48412d6a015f0b112",
            "799a360ffd3c478c9c428ac06724d4f2",
            "6b697a4b4f4f4282bce48913c0e8fa47",
            "97e95499fabb4ed8bcfef720363dd423",
            "60f229e638e248a291189bc489acb776",
            "0b43ca34bb8543ad841beb40cf4f31b3",
            "a39de2089d1c41da9fc634e1625ce41c",
            "40aecd71ac8349508442fe60ae9ad24e",
            "ce93742ef35044ddb7f24839eeb4858d",
            "298d5e85a5d5478abb0540d81a9b3d6a",
            "b32ed7089caf4eeeb5b80edb42506183"
          ]
        },
        "outputId": "239c54d0-aa9c-4f47-d321-c97bb5305f89"
      },
      "execution_count": 102,
      "outputs": [
        {
          "output_type": "display_data",
          "data": {
            "text/plain": [
              "  0%|          | 0/60000 [00:00<?, ?it/s]"
            ],
            "application/vnd.jupyter.widget-view+json": {
              "version_major": 2,
              "version_minor": 0,
              "model_id": "043ac6e487094d4980860d1048983142"
            }
          },
          "metadata": {}
        },
        {
          "output_type": "stream",
          "name": "stderr",
          "text": [
            "<ipython-input-99-99d76216e041>:21: UserWarning: To copy construct from a tensor, it is recommended to use sourceTensor.clone().detach() or sourceTensor.clone().detach().requires_grad_(True), rather than torch.tensor(sourceTensor).\n",
            "  batch = [torch.tensor(t) for t in dataset[i]]\n"
          ]
        },
        {
          "output_type": "display_data",
          "data": {
            "text/plain": [
              "  0%|          | 0/10000 [00:00<?, ?it/s]"
            ],
            "application/vnd.jupyter.widget-view+json": {
              "version_major": 2,
              "version_minor": 0,
              "model_id": "bd3c5811f3544ec48412d6a015f0b112"
            }
          },
          "metadata": {}
        }
      ]
    },
    {
      "cell_type": "code",
      "source": [
        "# from torchvision.datasets import MNIST\n",
        "# dataset = MNIST(root = 'data/', download = True)\n",
        "\n",
        "# train_dataset = MNIST(root=\"./data\", train=True, download=True, transform=ToTensor())\n",
        "# train_loader = InMemDataLoader(train_dataset,batch_size=64, shuffle=True)\n",
        "# # train_loader = DataLoader(train_dataset, batch_size=64, shuffle=True)\n",
        "# test_dataset = MNIST(root=\"./data\", train=False, download=True, transform=ToTensor())\n",
        "# test_loader = InMemDataLoader(test_dataset,batch_size=64, shuffle=True)\n",
        "# # test_loader = DataLoader(test_dataset, batch_size=64, shuffle=False)"
      ],
      "metadata": {
        "id": "KxHCqF6nRPUI"
      },
      "execution_count": 85,
      "outputs": []
    },
    {
      "cell_type": "markdown",
      "metadata": {
        "cell_id": "00024-481f7a8f-3abb-4f8f-aaba-951e8e06aafc",
        "deepnote_cell_height": 108.390625,
        "deepnote_cell_type": "markdown",
        "id": "rRYr7XmnnGO_"
      },
      "source": [
        "## SGD implementation\n",
        "\n",
        "We provide below a scaffolding for SGD. You will need to fill the TODOs while solving the assignments."
      ]
    },
    {
      "cell_type": "markdown",
      "source": [
        "### problem 2"
      ],
      "metadata": {
        "id": "lQLnlcdzsp4y"
      }
    },
    {
      "cell_type": "code",
      "source": [
        "def compute_error_rate(model, data_loader, device=\"cpu\"):\n",
        "    \"\"\"Evaluate model on all samples from the data loader.\n",
        "    \"\"\"\n",
        "    # Put the model in eval mode, and move to the evaluation device.\n",
        "    model.eval()\n",
        "    model.to(device)\n",
        "    if isinstance(data_loader, InMemDataLoader):\n",
        "        data_loader.to(device)\n",
        "\n",
        "    num_errs = 0.0\n",
        "    num_examples = 0\n",
        "    # we don't need gradient during eval!\n",
        "    with torch.no_grad():\n",
        "        for x, y in data_loader:\n",
        "            x = x.to(device)\n",
        "            y = y.to(device)\n",
        "            outputs = model.forward(x)\n",
        "            _, predictions = outputs.data.max(dim=1)\n",
        "            num_errs += (predictions != y.data).sum().item()\n",
        "            num_examples += x.size(0)\n",
        "    return num_errs / num_examples\n",
        "\n",
        "\n",
        "def plot_history(history):\n",
        "    \"\"\"Helper to plot the trainig progress over time.\"\"\"\n",
        "    plt.figure(figsize=(16, 4))\n",
        "    plt.subplot(1, 2, 1)\n",
        "    train_loss = np.array(history[\"train_losses\"])\n",
        "    plt.semilogy(np.arange(train_loss.shape[0]), train_loss, label=\"batch train loss\")\n",
        "    plt.legend()\n",
        "\n",
        "    plt.subplot(1, 2, 2)\n",
        "    train_errs = np.array(history[\"train_errs\"])\n",
        "    plt.plot(np.arange(train_errs.shape[0]), train_errs, label=\"batch train error rate\")\n",
        "    val_errs = np.array(history[\"val_errs\"])\n",
        "    plt.plot(val_errs[:, 0], val_errs[:, 1], label=\"validation error rate\", color=\"r\")\n",
        "    plt.ylim(0, 0.20)\n",
        "    plt.legend()"
      ],
      "metadata": {
        "id": "qDzx3PIg8X7q"
      },
      "execution_count": 86,
      "outputs": []
    },
    {
      "cell_type": "code",
      "execution_count": 87,
      "metadata": {
        "cell_id": "00025-2145e55b-7562-438c-bce3-8720962f9bfb",
        "deepnote_cell_height": 2460,
        "deepnote_cell_type": "code",
        "id": "WY1xG-cqnRoE"
      },
      "outputs": [],
      "source": [
        "from matplotlib import parse_version\n",
        "def SGD(model, num_epochs: int\n",
        "):\n",
        "  optimizer = optim.SGD(model.parameters(), lr=0.1, momentum=0.9, weight_decay=0.0001)\n",
        "  # optimizer = torch.optim.Adam(model.parameters( ),lr=0.1, weight_decay=0.001)\n",
        "  history = {\"train_losses\": [], \"train_errs\": [], \"val_errs\": []}\n",
        "  loss_count = []\n",
        "  for epoch in range(num_epochs):\n",
        "      model.train()\n",
        "      for i, (x, y_true) in enumerate(train_loader):\n",
        "          # if torch.cuda.is_available():\n",
        "          x = x.to(device)\n",
        "          y_true = y_true.to(device)\n",
        "          optimizer.zero_grad()\n",
        "          y_pred = model(x)\n",
        "          y_pred = y_pred.to(device)\n",
        "          loss = model.loss(y_pred, y_true)\n",
        "          loss_count.append(loss.item())\n",
        "          loss.backward()\n",
        "          optimizer.step()\n",
        "          _, y_pred_labels = torch.max(y_pred.data, 1)\n",
        "          batch_err_rate = 1.0 - torch.mean((y_pred_labels == y_true).float())\n",
        "          history[\"train_losses\"].append(loss.item())\n",
        "          history[\"train_errs\"].append(batch_err_rate.item())\n",
        "          if (i + 1) % 200 == 0:\n",
        "              print(\n",
        "                  f\"Epoch {epoch+1}, Batch {i+1}, Loss: {loss.item():.4f}, Error Rate: {batch_err_rate.item()*100:.2f}%\"\n",
        "              )\n",
        "      model.eval()\n",
        "      val_err_rate = 0.0\n",
        "      with torch.no_grad():\n",
        "          for x, y_true in test_loader:\n",
        "              y_pred = model(x)\n",
        "              y_true = y_true.to(device)\n",
        "              _, y_pred_labels = torch.max(y_pred.data, 1)\n",
        "              y_pred_labels = y_pred_labels.to(device)\n",
        "              batch_err_rate = 1.0 - torch.mean((y_pred_labels == y_true).float())\n",
        "              val_err_rate += batch_err_rate.item() * x.size(0)\n",
        "      val_err_rate /= len(test_loader.dataset)\n",
        "      history[\"val_errs\"].append((epoch+1, val_err_rate))\n",
        "      print(f\"Validation error rate: {val_err_rate*100:.2f}%\")\n",
        "  plt.figure('PyTorch_CNN_Loss')\n",
        "  plt.plot(loss_count, label='Loss')\n",
        "  plt.legend('Loss') \n",
        "  plt.show()\n"
      ]
    },
    {
      "cell_type": "code",
      "execution_count": 88,
      "metadata": {
        "cell_id": "00026-06863917-ddb1-425f-9d6e-93c06b30e87b",
        "colab": {
          "base_uri": "https://localhost:8080/",
          "height": 1000
        },
        "deepnote_cell_height": 1464.5625,
        "deepnote_cell_type": "code",
        "deepnote_output_heights": [
          null,
          249.5,
          251.078125
        ],
        "id": "2gmDmR2K6CVQ",
        "outputId": "d599686b-5bc1-4d5d-f957-7e9c6ee32e88"
      },
      "outputs": [
        {
          "output_type": "stream",
          "name": "stdout",
          "text": [
            "Epoch 1, Batch 200, Loss: 0.7646, Error Rate: 23.44%\n",
            "Epoch 1, Batch 400, Loss: 0.1693, Error Rate: 6.25%\n",
            "Epoch 1, Batch 600, Loss: 0.1974, Error Rate: 7.81%\n",
            "Epoch 1, Batch 800, Loss: 0.2069, Error Rate: 7.81%\n",
            "Validation error rate: 6.23%\n",
            "Epoch 2, Batch 200, Loss: 0.3338, Error Rate: 9.38%\n",
            "Epoch 2, Batch 400, Loss: 0.1931, Error Rate: 6.25%\n",
            "Epoch 2, Batch 600, Loss: 0.1518, Error Rate: 3.12%\n",
            "Epoch 2, Batch 800, Loss: 0.0715, Error Rate: 1.56%\n",
            "Validation error rate: 5.14%\n",
            "Epoch 3, Batch 200, Loss: 0.0449, Error Rate: 1.56%\n",
            "Epoch 3, Batch 400, Loss: 0.1022, Error Rate: 3.12%\n",
            "Epoch 3, Batch 600, Loss: 0.2439, Error Rate: 3.12%\n",
            "Epoch 3, Batch 800, Loss: 0.1123, Error Rate: 4.69%\n",
            "Validation error rate: 4.42%\n",
            "Epoch 4, Batch 200, Loss: 0.1264, Error Rate: 3.12%\n",
            "Epoch 4, Batch 400, Loss: 0.1861, Error Rate: 4.69%\n",
            "Epoch 4, Batch 600, Loss: 0.1826, Error Rate: 6.25%\n",
            "Epoch 4, Batch 800, Loss: 0.0280, Error Rate: 0.00%\n",
            "Validation error rate: 4.22%\n",
            "Epoch 5, Batch 200, Loss: 0.0554, Error Rate: 1.56%\n",
            "Epoch 5, Batch 400, Loss: 0.0622, Error Rate: 1.56%\n",
            "Epoch 5, Batch 600, Loss: 0.0350, Error Rate: 1.56%\n",
            "Epoch 5, Batch 800, Loss: 0.0467, Error Rate: 1.56%\n",
            "Validation error rate: 3.47%\n",
            "Epoch 6, Batch 200, Loss: 0.0146, Error Rate: 0.00%\n",
            "Epoch 6, Batch 400, Loss: 0.2339, Error Rate: 4.69%\n",
            "Epoch 6, Batch 600, Loss: 0.1400, Error Rate: 6.25%\n",
            "Epoch 6, Batch 800, Loss: 0.1300, Error Rate: 3.12%\n",
            "Validation error rate: 3.47%\n",
            "Epoch 7, Batch 200, Loss: 0.0427, Error Rate: 3.12%\n",
            "Epoch 7, Batch 400, Loss: 0.0709, Error Rate: 1.56%\n",
            "Epoch 7, Batch 600, Loss: 0.0662, Error Rate: 3.12%\n",
            "Epoch 7, Batch 800, Loss: 0.2035, Error Rate: 4.69%\n",
            "Validation error rate: 3.60%\n",
            "Epoch 8, Batch 200, Loss: 0.0390, Error Rate: 1.56%\n",
            "Epoch 8, Batch 400, Loss: 0.0642, Error Rate: 1.56%\n",
            "Epoch 8, Batch 600, Loss: 0.0538, Error Rate: 1.56%\n",
            "Epoch 8, Batch 800, Loss: 0.0415, Error Rate: 1.56%\n",
            "Validation error rate: 3.10%\n",
            "Epoch 9, Batch 200, Loss: 0.1017, Error Rate: 4.69%\n",
            "Epoch 9, Batch 400, Loss: 0.0318, Error Rate: 1.56%\n",
            "Epoch 9, Batch 600, Loss: 0.1841, Error Rate: 6.25%\n",
            "Epoch 9, Batch 800, Loss: 0.1993, Error Rate: 7.81%\n",
            "Validation error rate: 3.49%\n",
            "Epoch 10, Batch 200, Loss: 0.0257, Error Rate: 0.00%\n",
            "Epoch 10, Batch 400, Loss: 0.1192, Error Rate: 3.12%\n",
            "Epoch 10, Batch 600, Loss: 0.0490, Error Rate: 1.56%\n",
            "Epoch 10, Batch 800, Loss: 0.0343, Error Rate: 1.56%\n",
            "Validation error rate: 3.28%\n"
          ]
        },
        {
          "output_type": "display_data",
          "data": {
            "text/plain": [
              "<Figure size 640x480 with 1 Axes>"
            ],
            "image/png": "[encoded data removed]"
          },
          "metadata": {}
        },
        {
          "output_type": "stream",
          "name": "stdout",
          "text": [
            "training took 14s.\n"
          ]
        }
      ],
      "source": [
        "class Model_p2(nn.Module):\n",
        "    def __init__(self):\n",
        "        super(Model_p2, self).__init__()\n",
        "        self.fc1 = torch.nn.Linear(784, 100)\n",
        "        self.fc2 = torch.nn.Linear(100, 10)\n",
        "    def forward(self, X):\n",
        "        X = X.view(-1, 784)\n",
        "        X = X.to(device)\n",
        "        X = F.relu(self.fc1(X))\n",
        "        X = self.fc2(X)\n",
        "        return X\n",
        "    def loss(self, Out, Targets):\n",
        "        return F.cross_entropy(Out, Targets)\n",
        "\n",
        "device = torch.device(\"cuda\" if torch.cuda.is_available() else \"cpu\")\n",
        "model = Model_p2().to(device)\n",
        "# model.to(device)\n",
        "with torch.no_grad():\n",
        "    # Initialize parameters\n",
        "    for name, p in model.named_parameters():\n",
        "        if \"weight\" in name:\n",
        "            p.normal_(0, 0.5)\n",
        "        elif \"bias\" in name:\n",
        "            p.zero_()\n",
        "        else:\n",
        "            raise ValueError('Unknown parameter name \"%s\"' % name)\n",
        "\n",
        "# On GPU enabled devices set device='cuda' else set device='cpu'\n",
        "t_start = time.time()\n",
        "SGD(model,num_epochs = 10)\n",
        "print(f\"training took {time.time() - t_start:.0f}s.\")\n"
      ]
    },
    {
      "cell_type": "code",
      "source": [
        "class Model_p3(nn.Module):\n",
        "    def __init__(self):\n",
        "        super(Model_p3, self).__init__()\n",
        "        self.hidden1 = nn.Sequential(nn.Linear(28*28, 200), nn.BatchNorm1d(200), nn.ReLU(True))\n",
        "        self.hidden2 = nn.Sequential(nn.Linear(200, 200), nn.BatchNorm1d(200), nn.ReLU(True))\n",
        "        self.hidden3 = nn.Sequential(nn.Linear(200, 200), nn.BatchNorm1d(200), nn.ReLU(True))\n",
        "        self.predict = nn.Linear(200, 10)\n",
        "    def forward(self, x):\n",
        "        x = x.view(x.size(0), -1)\n",
        "        x = x.to(device)\n",
        "        x = self.hidden1(x)\n",
        "        x = self.hidden2(x)\n",
        "        x = self.hidden3(x)\n",
        "        x = self.predict(x)\n",
        "        return x\n",
        "    def loss(self, Out, Targets):\n",
        "        return F.cross_entropy(Out, Targets)\n",
        "\n",
        "device = torch.device(\"cuda\" if torch.cuda.is_available() else \"cpu\")\n",
        "net_mnist = Model_p3()\n",
        "net_mnist.to(device)\n",
        "\n",
        "\n",
        "t_start = time.time()\n",
        "SGD(net_mnist,num_epochs =10)\n",
        "print(f\"training took {time.time() - t_start:.0f}s.\")\n"
      ],
      "metadata": {
        "colab": {
          "base_uri": "https://localhost:8080/",
          "height": 1000
        },
        "id": "lLXF5M-4yOlN",
        "outputId": "54b8ef1a-0e59-45e6-ec5b-b56d54cc1f1b"
      },
      "execution_count": 89,
      "outputs": [
        {
          "output_type": "stream",
          "name": "stdout",
          "text": [
            "Epoch 1, Batch 200, Loss: 0.3589, Error Rate: 7.81%\n",
            "Epoch 1, Batch 400, Loss: 0.0574, Error Rate: 1.56%\n",
            "Epoch 1, Batch 600, Loss: 0.1305, Error Rate: 6.25%\n",
            "Epoch 1, Batch 800, Loss: 0.0989, Error Rate: 3.12%\n",
            "Validation error rate: 3.06%\n",
            "Epoch 2, Batch 200, Loss: 0.1086, Error Rate: 3.12%\n",
            "Epoch 2, Batch 400, Loss: 0.1462, Error Rate: 3.12%\n",
            "Epoch 2, Batch 600, Loss: 0.1158, Error Rate: 1.56%\n",
            "Epoch 2, Batch 800, Loss: 0.1777, Error Rate: 3.12%\n",
            "Validation error rate: 2.63%\n",
            "Epoch 3, Batch 200, Loss: 0.0466, Error Rate: 3.12%\n",
            "Epoch 3, Batch 400, Loss: 0.0414, Error Rate: 1.56%\n",
            "Epoch 3, Batch 600, Loss: 0.0293, Error Rate: 0.00%\n",
            "Epoch 3, Batch 800, Loss: 0.1041, Error Rate: 3.12%\n",
            "Validation error rate: 2.30%\n",
            "Epoch 4, Batch 200, Loss: 0.0250, Error Rate: 0.00%\n",
            "Epoch 4, Batch 400, Loss: 0.1308, Error Rate: 3.12%\n",
            "Epoch 4, Batch 600, Loss: 0.0432, Error Rate: 1.56%\n",
            "Epoch 4, Batch 800, Loss: 0.0141, Error Rate: 0.00%\n",
            "Validation error rate: 2.19%\n",
            "Epoch 5, Batch 200, Loss: 0.0207, Error Rate: 1.56%\n",
            "Epoch 5, Batch 400, Loss: 0.0262, Error Rate: 1.56%\n",
            "Epoch 5, Batch 600, Loss: 0.1333, Error Rate: 4.69%\n",
            "Epoch 5, Batch 800, Loss: 0.1781, Error Rate: 4.69%\n",
            "Validation error rate: 2.03%\n",
            "Epoch 6, Batch 200, Loss: 0.1151, Error Rate: 3.12%\n",
            "Epoch 6, Batch 400, Loss: 0.0745, Error Rate: 4.69%\n",
            "Epoch 6, Batch 600, Loss: 0.1044, Error Rate: 3.12%\n",
            "Epoch 6, Batch 800, Loss: 0.0037, Error Rate: 0.00%\n",
            "Validation error rate: 2.04%\n",
            "Epoch 7, Batch 200, Loss: 0.0269, Error Rate: 1.56%\n",
            "Epoch 7, Batch 400, Loss: 0.0215, Error Rate: 0.00%\n",
            "Epoch 7, Batch 600, Loss: 0.0202, Error Rate: 1.56%\n",
            "Epoch 7, Batch 800, Loss: 0.0932, Error Rate: 3.12%\n",
            "Validation error rate: 1.97%\n",
            "Epoch 8, Batch 200, Loss: 0.0132, Error Rate: 0.00%\n",
            "Epoch 8, Batch 400, Loss: 0.0333, Error Rate: 1.56%\n",
            "Epoch 8, Batch 600, Loss: 0.0463, Error Rate: 1.56%\n",
            "Epoch 8, Batch 800, Loss: 0.0084, Error Rate: 0.00%\n",
            "Validation error rate: 2.11%\n",
            "Epoch 9, Batch 200, Loss: 0.1525, Error Rate: 6.25%\n",
            "Epoch 9, Batch 400, Loss: 0.0049, Error Rate: 0.00%\n",
            "Epoch 9, Batch 600, Loss: 0.0299, Error Rate: 1.56%\n",
            "Epoch 9, Batch 800, Loss: 0.0608, Error Rate: 1.56%\n",
            "Validation error rate: 2.28%\n",
            "Epoch 10, Batch 200, Loss: 0.0145, Error Rate: 0.00%\n",
            "Epoch 10, Batch 400, Loss: 0.0153, Error Rate: 0.00%\n",
            "Epoch 10, Batch 600, Loss: 0.0820, Error Rate: 3.12%\n",
            "Epoch 10, Batch 800, Loss: 0.0251, Error Rate: 1.56%\n",
            "Validation error rate: 1.74%\n"
          ]
        },
        {
          "output_type": "display_data",
          "data": {
            "text/plain": [
              "<Figure size 640x480 with 1 Axes>"
            ],
            "image/png": "[encoded data removed]"
          },
          "metadata": {}
        },
        {
          "output_type": "stream",
          "name": "stdout",
          "text": [
            "training took 34s.\n"
          ]
        }
      ]
    },
    {
      "cell_type": "markdown",
      "source": [
        "### problem 4 cnn"
      ],
      "metadata": {
        "id": "JT2D8GiFztQh"
      }
    },
    {
      "cell_type": "code",
      "source": [
        "class CNNnet(torch.nn.Module):\n",
        "    def __init__(self):\n",
        "        super(CNNnet,self).__init__()\n",
        "        self.conv1 = torch.nn.Sequential(torch.nn.Conv2d(in_channels=1,\n",
        "                            out_channels=16,\n",
        "                            kernel_size=3,\n",
        "                            stride=2,\n",
        "                            padding=1), torch.nn.ReLU())\n",
        "        self.conv2 = torch.nn.Sequential(torch.nn.Conv2d(16,32,3,2,1),torch.nn.ReLU())\n",
        "        self.conv3 = torch.nn.Sequential(torch.nn.Conv2d(32,64,3,2,1),torch.nn.ReLU())\n",
        "        self.conv4 = torch.nn.Sequential(torch.nn.Conv2d(64,64,2,2,0),torch.nn.ReLU())\n",
        "        self.mlp1 = torch.nn.Linear(2*2*64,100)\n",
        "        self.mlp2 = torch.nn.Linear(100,10)\n",
        "    def forward(self,x):\n",
        "        x = x.to(device)\n",
        "        x = self.conv1(x)\n",
        "        x = self.conv2(x)\n",
        "        x = self.conv3(x)\n",
        "        x = self.conv4(x)\n",
        "        x = self.mlp1(x.view(x.size(0),-1))\n",
        "        x = self.mlp2(x)\n",
        "        return x\n",
        "    def loss(self, Out, Targets):\n",
        "        return F.cross_entropy(Out, Targets)"
      ],
      "metadata": {
        "id": "S390xdTFzvF8"
      },
      "execution_count": 90,
      "outputs": []
    },
    {
      "cell_type": "code",
      "source": [
        "def cnn_train(model, num_epochs:int, train_loader, test_loader) :\n",
        "    model = CNNnet()\n",
        "    model.to(device)\n",
        "    # opt = torch.optim.Adam(model.parameters( ),lr=0.001)\n",
        "    # opt = torch.optim.SGD(model.parameters( ), lr=0.001, momentum=0.8)\n",
        "    opt = torch.optim.RMSprop(model.parameters( ), lr=0.001, alpha=0.9)\n",
        "    history = {\"train_losses\": [], \"train_errs\": [], \"val_errs\": []}\n",
        "    loss_count = [] \n",
        "    loss_func = torch.nn.CrossEntropyLoss( )\n",
        "    for epoch in range(num_epochs):\n",
        "        for i, (x, y_true) in enumerate(train_loader):\n",
        "            x = x.to(device) \n",
        "            y_true = y_true.to(device) \n",
        "            out = model(x) \n",
        "            y_pred = model(x)\n",
        "            y_pred = y_pred.to(device)\n",
        "            loss = loss_func(out, y_true)\n",
        "            opt.zero_grad()  \n",
        "            loss.backward() \n",
        "            opt.step()   \n",
        "            _, y_pred_labels = torch.max(y_pred.data, 1)\n",
        "            batch_err_rate = 1.0 - torch.mean((y_pred_labels == y_true).float())\n",
        "            history[\"train_losses\"].append(loss.item())\n",
        "            history[\"train_errs\"].append(batch_err_rate.item())\n",
        "            if (i + 1) % 200 == 0:\n",
        "              print(\n",
        "                  f\"Epoch {epoch+1}, Batch {i+1}, Loss: {loss.item():.4f}, Error Rate: {batch_err_rate.item()*100:.2f}%\"\n",
        "              )\n",
        "        model.eval()\n",
        "        val_err_rate = 0.0\n",
        "        with torch.no_grad():\n",
        "            for x, y_true in test_loader:\n",
        "                y_pred = model(x)\n",
        "                y_true = y_true.to(device)\n",
        "                _, y_pred_labels = torch.max(y_pred.data, 1)\n",
        "                y_pred_labels = y_pred_labels.to(device)\n",
        "                batch_err_rate = 1.0 - torch.mean((y_pred_labels == y_true).float())\n",
        "                val_err_rate += batch_err_rate.item() * x.size(0)\n",
        "        val_err_rate /= len(test_loader.dataset)\n",
        "        history[\"val_errs\"].append((epoch+1, val_err_rate))\n",
        "        print(f\"Validation error rate: {val_err_rate*100:.2f}%\")"
      ],
      "metadata": {
        "id": "lNzDijQX0Czw"
      },
      "execution_count": 91,
      "outputs": []
    },
    {
      "cell_type": "code",
      "source": [
        "CNNmodel = CNNnet()\n",
        "CNNmodel = CNNmodel.to(device)\n",
        "t_start = time.time()\n",
        "cnn_train(CNNmodel, 10, train_loader, test_loader)\n",
        "print(f\"training took {time.time() - t_start:.0f}s.\")\n"
      ],
      "metadata": {
        "colab": {
          "base_uri": "https://localhost:8080/"
        },
        "id": "xO8ht5jO0OQG",
        "outputId": "342b1242-eb57-4796-8105-42c8c43f427e"
      },
      "execution_count": 92,
      "outputs": [
        {
          "output_type": "stream",
          "name": "stdout",
          "text": [
            "Epoch 1, Batch 200, Loss: 0.5342, Error Rate: 18.75%\n",
            "Epoch 1, Batch 400, Loss: 0.1645, Error Rate: 4.69%\n",
            "Epoch 1, Batch 600, Loss: 0.2233, Error Rate: 4.69%\n",
            "Epoch 1, Batch 800, Loss: 0.3881, Error Rate: 12.50%\n",
            "Validation error rate: 2.63%\n",
            "Epoch 2, Batch 200, Loss: 0.0366, Error Rate: 3.12%\n",
            "Epoch 2, Batch 400, Loss: 0.1353, Error Rate: 4.69%\n",
            "Epoch 2, Batch 600, Loss: 0.0341, Error Rate: 1.56%\n",
            "Epoch 2, Batch 800, Loss: 0.1950, Error Rate: 4.69%\n",
            "Validation error rate: 2.01%\n",
            "Epoch 3, Batch 200, Loss: 0.0029, Error Rate: 0.00%\n",
            "Epoch 3, Batch 400, Loss: 0.0584, Error Rate: 1.56%\n",
            "Epoch 3, Batch 600, Loss: 0.0172, Error Rate: 1.56%\n",
            "Epoch 3, Batch 800, Loss: 0.0330, Error Rate: 1.56%\n",
            "Validation error rate: 1.72%\n",
            "Epoch 4, Batch 200, Loss: 0.1038, Error Rate: 3.12%\n",
            "Epoch 4, Batch 400, Loss: 0.0258, Error Rate: 1.56%\n",
            "Epoch 4, Batch 600, Loss: 0.0425, Error Rate: 1.56%\n",
            "Epoch 4, Batch 800, Loss: 0.0057, Error Rate: 0.00%\n",
            "Validation error rate: 1.42%\n",
            "Epoch 5, Batch 200, Loss: 0.0102, Error Rate: 0.00%\n",
            "Epoch 5, Batch 400, Loss: 0.0051, Error Rate: 0.00%\n",
            "Epoch 5, Batch 600, Loss: 0.0170, Error Rate: 0.00%\n",
            "Epoch 5, Batch 800, Loss: 0.1275, Error Rate: 1.56%\n",
            "Validation error rate: 1.31%\n",
            "Epoch 6, Batch 200, Loss: 0.0325, Error Rate: 3.12%\n",
            "Epoch 6, Batch 400, Loss: 0.0024, Error Rate: 0.00%\n",
            "Epoch 6, Batch 600, Loss: 0.0465, Error Rate: 1.56%\n",
            "Epoch 6, Batch 800, Loss: 0.2180, Error Rate: 1.56%\n",
            "Validation error rate: 1.22%\n",
            "Epoch 7, Batch 200, Loss: 0.0029, Error Rate: 0.00%\n",
            "Epoch 7, Batch 400, Loss: 0.1381, Error Rate: 1.56%\n",
            "Epoch 7, Batch 600, Loss: 0.0304, Error Rate: 1.56%\n",
            "Epoch 7, Batch 800, Loss: 0.0133, Error Rate: 0.00%\n",
            "Validation error rate: 1.62%\n",
            "Epoch 8, Batch 200, Loss: 0.0190, Error Rate: 1.56%\n",
            "Epoch 8, Batch 400, Loss: 0.0038, Error Rate: 0.00%\n",
            "Epoch 8, Batch 600, Loss: 0.0531, Error Rate: 3.12%\n",
            "Epoch 8, Batch 800, Loss: 0.0053, Error Rate: 0.00%\n",
            "Validation error rate: 1.25%\n",
            "Epoch 9, Batch 200, Loss: 0.0011, Error Rate: 0.00%\n",
            "Epoch 9, Batch 400, Loss: 0.0485, Error Rate: 1.56%\n",
            "Epoch 9, Batch 600, Loss: 0.0076, Error Rate: 0.00%\n",
            "Epoch 9, Batch 800, Loss: 0.0326, Error Rate: 1.56%\n",
            "Validation error rate: 1.18%\n",
            "Epoch 10, Batch 200, Loss: 0.0131, Error Rate: 1.56%\n",
            "Epoch 10, Batch 400, Loss: 0.0060, Error Rate: 0.00%\n",
            "Epoch 10, Batch 600, Loss: 0.0044, Error Rate: 0.00%\n",
            "Epoch 10, Batch 800, Loss: 0.0024, Error Rate: 0.00%\n",
            "Validation error rate: 1.56%\n",
            "training took 133s.\n"
          ]
        }
      ]
    },
    {
      "cell_type": "markdown",
      "source": [
        "# Problem 5 dropout"
      ],
      "metadata": {
        "id": "Au_cycprDzga"
      }
    },
    {
      "cell_type": "code",
      "source": [
        "class cnnNet2(torch.nn.Module):\n",
        "    def __init__(self):\n",
        "        super(cnnNet2, self).__init__()\n",
        "        self.conv1 = torch.nn.Conv2d(1, 32, kernel_size=(3, 3), stride=(1, 1))\n",
        "        self.conv2 = torch.nn.Conv2d(32, 64, kernel_size=(3, 3), stride=(1, 1))\n",
        "        self.dropout1 = torch.nn.Dropout(0.25)\n",
        "        self.dropout2 = torch.nn.Dropout(0.5)\n",
        "        self.fc1 = torch.nn.Linear(9216, 128)\n",
        "        self.fc2 = torch.nn.Linear(128, 10)\n",
        "\n",
        "    def forward(self, x):\n",
        "        x = x.to(device)\n",
        "        x = self.conv1(x)\n",
        "        x = F.relu(x)\n",
        "        x = self.conv2(x)\n",
        "        x = F.relu(x)\n",
        "        x = F.max_pool2d(x, 2)\n",
        "        x = self.dropout1(x)\n",
        "        x = torch.flatten(x, 1)\n",
        "        x = self.fc1(x)\n",
        "        x = F.relu(x)\n",
        "        x = self.dropout2(x)\n",
        "        x = self.fc2(x)\n",
        "        x = F.log_softmax(x, dim=1)\n",
        "        return x\n"
      ],
      "metadata": {
        "id": "KN0I9NKcD3z4"
      },
      "execution_count": 93,
      "outputs": []
    },
    {
      "cell_type": "code",
      "source": [
        "CNNmodel2 = cnnNet2()\n",
        "CNNmodel2 = CNNmodel2.to(device)\n",
        "t_start = time.time()\n",
        "cnn_train(CNNmodel2,10,train_loader,test_loader)\n",
        "print(f\"training took {time.time() - t_start:.0f}s.\")\n"
      ],
      "metadata": {
        "colab": {
          "base_uri": "https://localhost:8080/"
        },
        "id": "9Gz1qA-dEgHv",
        "outputId": "20886cf8-d58f-4e5b-b1a6-2151d49e4541"
      },
      "execution_count": 94,
      "outputs": [
        {
          "output_type": "stream",
          "name": "stdout",
          "text": [
            "Epoch 1, Batch 200, Loss: 0.2349, Error Rate: 10.94%\n",
            "Epoch 1, Batch 400, Loss: 0.2099, Error Rate: 6.25%\n",
            "Epoch 1, Batch 600, Loss: 0.0836, Error Rate: 1.56%\n",
            "Epoch 1, Batch 800, Loss: 0.1258, Error Rate: 6.25%\n",
            "Validation error rate: 3.08%\n",
            "Epoch 2, Batch 200, Loss: 0.0335, Error Rate: 0.00%\n",
            "Epoch 2, Batch 400, Loss: 0.0423, Error Rate: 1.56%\n",
            "Epoch 2, Batch 600, Loss: 0.0114, Error Rate: 0.00%\n",
            "Epoch 2, Batch 800, Loss: 0.1323, Error Rate: 4.69%\n",
            "Validation error rate: 1.64%\n",
            "Epoch 3, Batch 200, Loss: 0.0242, Error Rate: 1.56%\n",
            "Epoch 3, Batch 400, Loss: 0.0368, Error Rate: 1.56%\n",
            "Epoch 3, Batch 600, Loss: 0.0995, Error Rate: 1.56%\n",
            "Epoch 3, Batch 800, Loss: 0.0283, Error Rate: 1.56%\n",
            "Validation error rate: 1.63%\n",
            "Epoch 4, Batch 200, Loss: 0.0159, Error Rate: 0.00%\n",
            "Epoch 4, Batch 400, Loss: 0.0388, Error Rate: 1.56%\n",
            "Epoch 4, Batch 600, Loss: 0.1498, Error Rate: 3.12%\n",
            "Epoch 4, Batch 800, Loss: 0.0079, Error Rate: 0.00%\n",
            "Validation error rate: 1.70%\n",
            "Epoch 5, Batch 200, Loss: 0.1137, Error Rate: 3.12%\n",
            "Epoch 5, Batch 400, Loss: 0.0013, Error Rate: 0.00%\n",
            "Epoch 5, Batch 600, Loss: 0.0133, Error Rate: 1.56%\n",
            "Epoch 5, Batch 800, Loss: 0.0256, Error Rate: 1.56%\n",
            "Validation error rate: 1.53%\n",
            "Epoch 6, Batch 200, Loss: 0.0191, Error Rate: 1.56%\n",
            "Epoch 6, Batch 400, Loss: 0.0247, Error Rate: 1.56%\n",
            "Epoch 6, Batch 600, Loss: 0.0317, Error Rate: 1.56%\n",
            "Epoch 6, Batch 800, Loss: 0.0078, Error Rate: 0.00%\n",
            "Validation error rate: 1.17%\n",
            "Epoch 7, Batch 200, Loss: 0.0035, Error Rate: 0.00%\n",
            "Epoch 7, Batch 400, Loss: 0.0044, Error Rate: 0.00%\n",
            "Epoch 7, Batch 600, Loss: 0.0124, Error Rate: 0.00%\n",
            "Epoch 7, Batch 800, Loss: 0.0018, Error Rate: 0.00%\n",
            "Validation error rate: 1.40%\n",
            "Epoch 8, Batch 200, Loss: 0.0002, Error Rate: 0.00%\n",
            "Epoch 8, Batch 400, Loss: 0.0005, Error Rate: 0.00%\n",
            "Epoch 8, Batch 600, Loss: 0.0009, Error Rate: 0.00%\n",
            "Epoch 8, Batch 800, Loss: 0.0233, Error Rate: 1.56%\n",
            "Validation error rate: 1.10%\n",
            "Epoch 9, Batch 200, Loss: 0.0682, Error Rate: 3.12%\n",
            "Epoch 9, Batch 400, Loss: 0.0103, Error Rate: 0.00%\n",
            "Epoch 9, Batch 600, Loss: 0.0035, Error Rate: 0.00%\n",
            "Epoch 9, Batch 800, Loss: 0.0009, Error Rate: 0.00%\n",
            "Validation error rate: 1.25%\n",
            "Epoch 10, Batch 200, Loss: 0.0097, Error Rate: 0.00%\n",
            "Epoch 10, Batch 400, Loss: 0.0007, Error Rate: 0.00%\n",
            "Epoch 10, Batch 600, Loss: 0.0009, Error Rate: 0.00%\n",
            "Epoch 10, Batch 800, Loss: 0.0170, Error Rate: 1.56%\n",
            "Validation error rate: 1.28%\n",
            "training took 134s.\n"
          ]
        }
      ]
    },
    {
      "cell_type": "markdown",
      "source": [
        "# problem 6"
      ],
      "metadata": {
        "id": "SXjCQfvCnLaM"
      }
    },
    {
      "cell_type": "code",
      "source": [
        "dataset = torchvision.datasets.MNIST('./data')\n",
        "\n",
        "train_dataset = MNIST(root='./data/', train=True, download=False,  transform=ToTensor())\n",
        "train_loader = InMemDataLoader(train_dataset,batch_size=64, shuffle=True, transform = True)\n",
        "test_dataset = MNIST(root='./data/', train=False, download=False, transform=ToTensor())\n",
        "test_loader = InMemDataLoader(test_dataset,batch_size=64, shuffle=True, transform = True)\n"
      ],
      "metadata": {
        "colab": {
          "base_uri": "https://localhost:8080/",
          "height": 477,
          "referenced_widgets": [
            "78c11872245b42ae803e07cbcb3e0114",
            "00720132ffda49a583b0ca8d62db5ff1",
            "88ef6a1f7b7c4bc59e0e1531a821f3a6",
            "d8398016792543808ed11869c4103c1d",
            "e5563ddaff1c43fa81d1d852e1f8b833",
            "4f087211399443ae95031e085240b63d",
            "2613d805b653464e8990c94b0dbab802",
            "b97cbe3e1442452cac3c36c3ab63654e",
            "e479392d00de44269f69ed971a910e42",
            "2cc17d98ed0b4296b685f0ee40fceac1",
            "cfcd02368b3a4c2097f7485e15da57df"
          ]
        },
        "id": "Yvn_UGeDzzOT",
        "outputId": "8bfb07e4-40db-4ec8-8849-bfcd0112022f"
      },
      "execution_count": 103,
      "outputs": [
        {
          "output_type": "display_data",
          "data": {
            "text/plain": [
              "  0%|          | 0/60000 [00:00<?, ?it/s]"
            ],
            "application/vnd.jupyter.widget-view+json": {
              "version_major": 2,
              "version_minor": 0,
              "model_id": "78c11872245b42ae803e07cbcb3e0114"
            }
          },
          "metadata": {}
        },
        {
          "output_type": "stream",
          "name": "stderr",
          "text": [
            "<ipython-input-99-99d76216e041>:21: UserWarning: To copy construct from a tensor, it is recommended to use sourceTensor.clone().detach() or sourceTensor.clone().detach().requires_grad_(True), rather than torch.tensor(sourceTensor).\n",
            "  batch = [torch.tensor(t) for t in dataset[i]]\n"
          ]
        },
        {
          "output_type": "error",
          "ename": "KeyboardInterrupt",
          "evalue": "ignored",
          "traceback": [
            "\u001b[0;31m---------------------------------------------------------------------------\u001b[0m",
            "\u001b[0;31mKeyboardInterrupt\u001b[0m                         Traceback (most recent call last)",
            "\u001b[0;32m<ipython-input-103-9e5003938ecf>\u001b[0m in \u001b[0;36m<cell line: 4>\u001b[0;34m()\u001b[0m\n\u001b[1;32m      2\u001b[0m \u001b[0;34m\u001b[0m\u001b[0m\n\u001b[1;32m      3\u001b[0m \u001b[0mtrain_dataset\u001b[0m \u001b[0;34m=\u001b[0m \u001b[0mMNIST\u001b[0m\u001b[0;34m(\u001b[0m\u001b[0mroot\u001b[0m\u001b[0;34m=\u001b[0m\u001b[0;34m'./data/'\u001b[0m\u001b[0;34m,\u001b[0m \u001b[0mtrain\u001b[0m\u001b[0;34m=\u001b[0m\u001b[0;32mTrue\u001b[0m\u001b[0;34m,\u001b[0m \u001b[0mdownload\u001b[0m\u001b[0;34m=\u001b[0m\u001b[0;32mFalse\u001b[0m\u001b[0;34m,\u001b[0m  \u001b[0mtransform\u001b[0m\u001b[0;34m=\u001b[0m\u001b[0mToTensor\u001b[0m\u001b[0;34m(\u001b[0m\u001b[0;34m)\u001b[0m\u001b[0;34m)\u001b[0m\u001b[0;34m\u001b[0m\u001b[0;34m\u001b[0m\u001b[0m\n\u001b[0;32m----> 4\u001b[0;31m \u001b[0mtrain_loader\u001b[0m \u001b[0;34m=\u001b[0m \u001b[0mInMemDataLoader\u001b[0m\u001b[0;34m(\u001b[0m\u001b[0mtrain_dataset\u001b[0m\u001b[0;34m,\u001b[0m\u001b[0mbatch_size\u001b[0m\u001b[0;34m=\u001b[0m\u001b[0;36m64\u001b[0m\u001b[0;34m,\u001b[0m \u001b[0mshuffle\u001b[0m\u001b[0;34m=\u001b[0m\u001b[0;32mTrue\u001b[0m\u001b[0;34m,\u001b[0m \u001b[0mtransform\u001b[0m \u001b[0;34m=\u001b[0m \u001b[0;32mTrue\u001b[0m\u001b[0;34m)\u001b[0m\u001b[0;34m\u001b[0m\u001b[0;34m\u001b[0m\u001b[0m\n\u001b[0m\u001b[1;32m      5\u001b[0m \u001b[0mtest_dataset\u001b[0m \u001b[0;34m=\u001b[0m \u001b[0mMNIST\u001b[0m\u001b[0;34m(\u001b[0m\u001b[0mroot\u001b[0m\u001b[0;34m=\u001b[0m\u001b[0;34m'./data/'\u001b[0m\u001b[0;34m,\u001b[0m \u001b[0mtrain\u001b[0m\u001b[0;34m=\u001b[0m\u001b[0;32mFalse\u001b[0m\u001b[0;34m,\u001b[0m \u001b[0mdownload\u001b[0m\u001b[0;34m=\u001b[0m\u001b[0;32mFalse\u001b[0m\u001b[0;34m,\u001b[0m \u001b[0mtransform\u001b[0m\u001b[0;34m=\u001b[0m\u001b[0mToTensor\u001b[0m\u001b[0;34m(\u001b[0m\u001b[0;34m)\u001b[0m\u001b[0;34m)\u001b[0m\u001b[0;34m\u001b[0m\u001b[0;34m\u001b[0m\u001b[0m\n\u001b[1;32m      6\u001b[0m \u001b[0mtest_loader\u001b[0m \u001b[0;34m=\u001b[0m \u001b[0mInMemDataLoader\u001b[0m\u001b[0;34m(\u001b[0m\u001b[0mtest_dataset\u001b[0m\u001b[0;34m,\u001b[0m\u001b[0mbatch_size\u001b[0m\u001b[0;34m=\u001b[0m\u001b[0;36m64\u001b[0m\u001b[0;34m,\u001b[0m \u001b[0mshuffle\u001b[0m\u001b[0;34m=\u001b[0m\u001b[0;32mTrue\u001b[0m\u001b[0;34m,\u001b[0m \u001b[0mtransform\u001b[0m \u001b[0;34m=\u001b[0m \u001b[0;32mTrue\u001b[0m\u001b[0;34m)\u001b[0m\u001b[0;34m\u001b[0m\u001b[0;34m\u001b[0m\u001b[0m\n",
            "\u001b[0;32m<ipython-input-99-99d76216e041>\u001b[0m in \u001b[0;36m__init__\u001b[0;34m(self, dataset, batch_size, shuffle, sampler, batch_sampler, drop_last, transform)\u001b[0m\n\u001b[1;32m     19\u001b[0m         \u001b[0mbatches\u001b[0m \u001b[0;34m=\u001b[0m \u001b[0;34m[\u001b[0m\u001b[0;34m]\u001b[0m\u001b[0;34m\u001b[0m\u001b[0;34m\u001b[0m\u001b[0m\n\u001b[1;32m     20\u001b[0m         \u001b[0;32mfor\u001b[0m \u001b[0mi\u001b[0m \u001b[0;32min\u001b[0m \u001b[0mtqdm\u001b[0m\u001b[0;34m(\u001b[0m\u001b[0mrange\u001b[0m\u001b[0;34m(\u001b[0m\u001b[0mlen\u001b[0m\u001b[0;34m(\u001b[0m\u001b[0mdataset\u001b[0m\u001b[0;34m)\u001b[0m\u001b[0;34m)\u001b[0m\u001b[0;34m)\u001b[0m\u001b[0;34m:\u001b[0m\u001b[0;34m\u001b[0m\u001b[0;34m\u001b[0m\u001b[0m\n\u001b[0;32m---> 21\u001b[0;31m             \u001b[0mbatch\u001b[0m \u001b[0;34m=\u001b[0m \u001b[0;34m[\u001b[0m\u001b[0mtorch\u001b[0m\u001b[0;34m.\u001b[0m\u001b[0mtensor\u001b[0m\u001b[0;34m(\u001b[0m\u001b[0mt\u001b[0m\u001b[0;34m)\u001b[0m \u001b[0;32mfor\u001b[0m \u001b[0mt\u001b[0m \u001b[0;32min\u001b[0m \u001b[0mdataset\u001b[0m\u001b[0;34m[\u001b[0m\u001b[0mi\u001b[0m\u001b[0;34m]\u001b[0m\u001b[0;34m]\u001b[0m\u001b[0;34m\u001b[0m\u001b[0;34m\u001b[0m\u001b[0m\n\u001b[0m\u001b[1;32m     22\u001b[0m             \u001b[0mbatches\u001b[0m\u001b[0;34m.\u001b[0m\u001b[0mappend\u001b[0m\u001b[0;34m(\u001b[0m\u001b[0mbatch\u001b[0m\u001b[0;34m)\u001b[0m\u001b[0;34m\u001b[0m\u001b[0;34m\u001b[0m\u001b[0m\n\u001b[1;32m     23\u001b[0m         \u001b[0mtensors\u001b[0m \u001b[0;34m=\u001b[0m \u001b[0;34m[\u001b[0m\u001b[0mtorch\u001b[0m\u001b[0;34m.\u001b[0m\u001b[0mstack\u001b[0m\u001b[0;34m(\u001b[0m\u001b[0mts\u001b[0m\u001b[0;34m)\u001b[0m \u001b[0;32mfor\u001b[0m \u001b[0mts\u001b[0m \u001b[0;32min\u001b[0m \u001b[0mzip\u001b[0m\u001b[0;34m(\u001b[0m\u001b[0;34m*\u001b[0m\u001b[0mbatches\u001b[0m\u001b[0;34m)\u001b[0m\u001b[0;34m]\u001b[0m\u001b[0;34m\u001b[0m\u001b[0;34m\u001b[0m\u001b[0m\n",
            "\u001b[0;32m<ipython-input-99-99d76216e041>\u001b[0m in \u001b[0;36m<listcomp>\u001b[0;34m(.0)\u001b[0m\n\u001b[1;32m     19\u001b[0m         \u001b[0mbatches\u001b[0m \u001b[0;34m=\u001b[0m \u001b[0;34m[\u001b[0m\u001b[0;34m]\u001b[0m\u001b[0;34m\u001b[0m\u001b[0;34m\u001b[0m\u001b[0m\n\u001b[1;32m     20\u001b[0m         \u001b[0;32mfor\u001b[0m \u001b[0mi\u001b[0m \u001b[0;32min\u001b[0m \u001b[0mtqdm\u001b[0m\u001b[0;34m(\u001b[0m\u001b[0mrange\u001b[0m\u001b[0;34m(\u001b[0m\u001b[0mlen\u001b[0m\u001b[0;34m(\u001b[0m\u001b[0mdataset\u001b[0m\u001b[0;34m)\u001b[0m\u001b[0;34m)\u001b[0m\u001b[0;34m)\u001b[0m\u001b[0;34m:\u001b[0m\u001b[0;34m\u001b[0m\u001b[0;34m\u001b[0m\u001b[0m\n\u001b[0;32m---> 21\u001b[0;31m             \u001b[0mbatch\u001b[0m \u001b[0;34m=\u001b[0m \u001b[0;34m[\u001b[0m\u001b[0mtorch\u001b[0m\u001b[0;34m.\u001b[0m\u001b[0mtensor\u001b[0m\u001b[0;34m(\u001b[0m\u001b[0mt\u001b[0m\u001b[0;34m)\u001b[0m \u001b[0;32mfor\u001b[0m \u001b[0mt\u001b[0m \u001b[0;32min\u001b[0m \u001b[0mdataset\u001b[0m\u001b[0;34m[\u001b[0m\u001b[0mi\u001b[0m\u001b[0;34m]\u001b[0m\u001b[0;34m]\u001b[0m\u001b[0;34m\u001b[0m\u001b[0;34m\u001b[0m\u001b[0m\n\u001b[0m\u001b[1;32m     22\u001b[0m             \u001b[0mbatches\u001b[0m\u001b[0;34m.\u001b[0m\u001b[0mappend\u001b[0m\u001b[0;34m(\u001b[0m\u001b[0mbatch\u001b[0m\u001b[0;34m)\u001b[0m\u001b[0;34m\u001b[0m\u001b[0;34m\u001b[0m\u001b[0m\n\u001b[1;32m     23\u001b[0m         \u001b[0mtensors\u001b[0m \u001b[0;34m=\u001b[0m \u001b[0;34m[\u001b[0m\u001b[0mtorch\u001b[0m\u001b[0;34m.\u001b[0m\u001b[0mstack\u001b[0m\u001b[0;34m(\u001b[0m\u001b[0mts\u001b[0m\u001b[0;34m)\u001b[0m \u001b[0;32mfor\u001b[0m \u001b[0mts\u001b[0m \u001b[0;32min\u001b[0m \u001b[0mzip\u001b[0m\u001b[0;34m(\u001b[0m\u001b[0;34m*\u001b[0m\u001b[0mbatches\u001b[0m\u001b[0;34m)\u001b[0m\u001b[0;34m]\u001b[0m\u001b[0;34m\u001b[0m\u001b[0;34m\u001b[0m\u001b[0m\n",
            "\u001b[0;31mKeyboardInterrupt\u001b[0m: "
          ]
        }
      ]
    },
    {
      "cell_type": "code",
      "source": [
        "CNNmodel2 = cnnNet2()\n",
        "CNNmodel2 = CNNmodel2.to(device)\n",
        "t_start = time.time()\n",
        "cnn_train(CNNmodel2,10,train_loader,test_loader)\n",
        "print(f\"training took {time.time() - t_start:.0f}s.\")"
      ],
      "metadata": {
        "id": "WeP78aoQz1ot"
      },
      "execution_count": null,
      "outputs": []
    }
  ],
  "metadata": {
    "accelerator": "GPU",
    "colab": {
      "provenance": [],
      "include_colab_link": true
    },
    "deepnote": {},
    "deepnote_execution_queue": [],
    "deepnote_notebook_id": "ffaf5b3e-ad2e-45f4-b61f-77edfc82388b",
    "kernelspec": {
      "display_name": "Python 3 (ipykernel)",
      "language": "python",
      "name": "python3"
    },
    "language_info": {
      "codemirror_mode": {
        "name": "ipython",
        "version": 3
      },
      "file_extension": ".py",
      "mimetype": "text/x-python",
      "name": "python",
      "nbconvert_exporter": "python",
      "pygments_lexer": "ipython3",
      "version": "3.9.16"
    },
    "widgets": {
      "application/vnd.jupyter.widget-state+json": {
        "043ac6e487094d4980860d1048983142": {
          "model_module": "@jupyter-widgets/controls",
          "model_name": "HBoxModel",
          "model_module_version": "1.5.0",
          "state": {
            "_dom_classes": [],
            "_model_module": "@jupyter-widgets/controls",
            "_model_module_version": "1.5.0",
            "_model_name": "HBoxModel",
            "_view_count": null,
            "_view_module": "@jupyter-widgets/controls",
            "_view_module_version": "1.5.0",
            "_view_name": "HBoxView",
            "box_style": "",
            "children": [
              "IPY_MODEL_63b8cdd9b22c478ca4984c2793cac6c6",
              "IPY_MODEL_2f30e2fe2baa4b2eac86c8c92fc9a9a6",
              "IPY_MODEL_5fcf432f03844fd5a37aea46d0c804bc"
            ],
            "layout": "IPY_MODEL_11dfcdbc2e7640439cded5bb33824dbc"
          }
        },
        "63b8cdd9b22c478ca4984c2793cac6c6": {
          "model_module": "@jupyter-widgets/controls",
          "model_name": "HTMLModel",
          "model_module_version": "1.5.0",
          "state": {
            "_dom_classes": [],
            "_model_module": "@jupyter-widgets/controls",
            "_model_module_version": "1.5.0",
            "_model_name": "HTMLModel",
            "_view_count": null,
            "_view_module": "@jupyter-widgets/controls",
            "_view_module_version": "1.5.0",
            "_view_name": "HTMLView",
            "description": "",
            "description_tooltip": null,
            "layout": "IPY_MODEL_2d8daf498bc54f8f872df1872fd008ce",
            "placeholder": "​",
            "style": "IPY_MODEL_667a9ee51ed34c0ea331766cd536f765",
            "value": "100%"
          }
        },
        "2f30e2fe2baa4b2eac86c8c92fc9a9a6": {
          "model_module": "@jupyter-widgets/controls",
          "model_name": "FloatProgressModel",
          "model_module_version": "1.5.0",
          "state": {
            "_dom_classes": [],
            "_model_module": "@jupyter-widgets/controls",
            "_model_module_version": "1.5.0",
            "_model_name": "FloatProgressModel",
            "_view_count": null,
            "_view_module": "@jupyter-widgets/controls",
            "_view_module_version": "1.5.0",
            "_view_name": "ProgressView",
            "bar_style": "success",
            "description": "",
            "description_tooltip": null,
            "layout": "IPY_MODEL_7630313ca5054a74a991c5ad7c7307e5",
            "max": 60000,
            "min": 0,
            "orientation": "horizontal",
            "style": "IPY_MODEL_6afb7ddff07a4f518036233da4f2c39a",
            "value": 60000
          }
        },
        "5fcf432f03844fd5a37aea46d0c804bc": {
          "model_module": "@jupyter-widgets/controls",
          "model_name": "HTMLModel",
          "model_module_version": "1.5.0",
          "state": {
            "_dom_classes": [],
            "_model_module": "@jupyter-widgets/controls",
            "_model_module_version": "1.5.0",
            "_model_name": "HTMLModel",
            "_view_count": null,
            "_view_module": "@jupyter-widgets/controls",
            "_view_module_version": "1.5.0",
            "_view_name": "HTMLView",
            "description": "",
            "description_tooltip": null,
            "layout": "IPY_MODEL_b0a26ae8967f4d77b79e0e476236d2c1",
            "placeholder": "​",
            "style": "IPY_MODEL_f4f6b9799e8545cb98079879b7419a64",
            "value": " 60000/60000 [00:13&lt;00:00, 4363.35it/s]"
          }
        },
        "11dfcdbc2e7640439cded5bb33824dbc": {
          "model_module": "@jupyter-widgets/base",
          "model_name": "LayoutModel",
          "model_module_version": "1.2.0",
          "state": {
            "_model_module": "@jupyter-widgets/base",
            "_model_module_version": "1.2.0",
            "_model_name": "LayoutModel",
            "_view_count": null,
            "_view_module": "@jupyter-widgets/base",
            "_view_module_version": "1.2.0",
            "_view_name": "LayoutView",
            "align_content": null,
            "align_items": null,
            "align_self": null,
            "border": null,
            "bottom": null,
            "display": null,
            "flex": null,
            "flex_flow": null,
            "grid_area": null,
            "grid_auto_columns": null,
            "grid_auto_flow": null,
            "grid_auto_rows": null,
            "grid_column": null,
            "grid_gap": null,
            "grid_row": null,
            "grid_template_areas": null,
            "grid_template_columns": null,
            "grid_template_rows": null,
            "height": null,
            "justify_content": null,
            "justify_items": null,
            "left": null,
            "margin": null,
            "max_height": null,
            "max_width": null,
            "min_height": null,
            "min_width": null,
            "object_fit": null,
            "object_position": null,
            "order": null,
            "overflow": null,
            "overflow_x": null,
            "overflow_y": null,
            "padding": null,
            "right": null,
            "top": null,
            "visibility": null,
            "width": null
          }
        },
        "2d8daf498bc54f8f872df1872fd008ce": {
          "model_module": "@jupyter-widgets/base",
          "model_name": "LayoutModel",
          "model_module_version": "1.2.0",
          "state": {
            "_model_module": "@jupyter-widgets/base",
            "_model_module_version": "1.2.0",
            "_model_name": "LayoutModel",
            "_view_count": null,
            "_view_module": "@jupyter-widgets/base",
            "_view_module_version": "1.2.0",
            "_view_name": "LayoutView",
            "align_content": null,
            "align_items": null,
            "align_self": null,
            "border": null,
            "bottom": null,
            "display": null,
            "flex": null,
            "flex_flow": null,
            "grid_area": null,
            "grid_auto_columns": null,
            "grid_auto_flow": null,
            "grid_auto_rows": null,
            "grid_column": null,
            "grid_gap": null,
            "grid_row": null,
            "grid_template_areas": null,
            "grid_template_columns": null,
            "grid_template_rows": null,
            "height": null,
            "justify_content": null,
            "justify_items": null,
            "left": null,
            "margin": null,
            "max_height": null,
            "max_width": null,
            "min_height": null,
            "min_width": null,
            "object_fit": null,
            "object_position": null,
            "order": null,
            "overflow": null,
            "overflow_x": null,
            "overflow_y": null,
            "padding": null,
            "right": null,
            "top": null,
            "visibility": null,
            "width": null
          }
        },
        "667a9ee51ed34c0ea331766cd536f765": {
          "model_module": "@jupyter-widgets/controls",
          "model_name": "DescriptionStyleModel",
          "model_module_version": "1.5.0",
          "state": {
            "_model_module": "@jupyter-widgets/controls",
            "_model_module_version": "1.5.0",
            "_model_name": "DescriptionStyleModel",
            "_view_count": null,
            "_view_module": "@jupyter-widgets/base",
            "_view_module_version": "1.2.0",
            "_view_name": "StyleView",
            "description_width": ""
          }
        },
        "7630313ca5054a74a991c5ad7c7307e5": {
          "model_module": "@jupyter-widgets/base",
          "model_name": "LayoutModel",
          "model_module_version": "1.2.0",
          "state": {
            "_model_module": "@jupyter-widgets/base",
            "_model_module_version": "1.2.0",
            "_model_name": "LayoutModel",
            "_view_count": null,
            "_view_module": "@jupyter-widgets/base",
            "_view_module_version": "1.2.0",
            "_view_name": "LayoutView",
            "align_content": null,
            "align_items": null,
            "align_self": null,
            "border": null,
            "bottom": null,
            "display": null,
            "flex": null,
            "flex_flow": null,
            "grid_area": null,
            "grid_auto_columns": null,
            "grid_auto_flow": null,
            "grid_auto_rows": null,
            "grid_column": null,
            "grid_gap": null,
            "grid_row": null,
            "grid_template_areas": null,
            "grid_template_columns": null,
            "grid_template_rows": null,
            "height": null,
            "justify_content": null,
            "justify_items": null,
            "left": null,
            "margin": null,
            "max_height": null,
            "max_width": null,
            "min_height": null,
            "min_width": null,
            "object_fit": null,
            "object_position": null,
            "order": null,
            "overflow": null,
            "overflow_x": null,
            "overflow_y": null,
            "padding": null,
            "right": null,
            "top": null,
            "visibility": null,
            "width": null
          }
        },
        "6afb7ddff07a4f518036233da4f2c39a": {
          "model_module": "@jupyter-widgets/controls",
          "model_name": "ProgressStyleModel",
          "model_module_version": "1.5.0",
          "state": {
            "_model_module": "@jupyter-widgets/controls",
            "_model_module_version": "1.5.0",
            "_model_name": "ProgressStyleModel",
            "_view_count": null,
            "_view_module": "@jupyter-widgets/base",
            "_view_module_version": "1.2.0",
            "_view_name": "StyleView",
            "bar_color": null,
            "description_width": ""
          }
        },
        "b0a26ae8967f4d77b79e0e476236d2c1": {
          "model_module": "@jupyter-widgets/base",
          "model_name": "LayoutModel",
          "model_module_version": "1.2.0",
          "state": {
            "_model_module": "@jupyter-widgets/base",
            "_model_module_version": "1.2.0",
            "_model_name": "LayoutModel",
            "_view_count": null,
            "_view_module": "@jupyter-widgets/base",
            "_view_module_version": "1.2.0",
            "_view_name": "LayoutView",
            "align_content": null,
            "align_items": null,
            "align_self": null,
            "border": null,
            "bottom": null,
            "display": null,
            "flex": null,
            "flex_flow": null,
            "grid_area": null,
            "grid_auto_columns": null,
            "grid_auto_flow": null,
            "grid_auto_rows": null,
            "grid_column": null,
            "grid_gap": null,
            "grid_row": null,
            "grid_template_areas": null,
            "grid_template_columns": null,
            "grid_template_rows": null,
            "height": null,
            "justify_content": null,
            "justify_items": null,
            "left": null,
            "margin": null,
            "max_height": null,
            "max_width": null,
            "min_height": null,
            "min_width": null,
            "object_fit": null,
            "object_position": null,
            "order": null,
            "overflow": null,
            "overflow_x": null,
            "overflow_y": null,
            "padding": null,
            "right": null,
            "top": null,
            "visibility": null,
            "width": null
          }
        },
        "f4f6b9799e8545cb98079879b7419a64": {
          "model_module": "@jupyter-widgets/controls",
          "model_name": "DescriptionStyleModel",
          "model_module_version": "1.5.0",
          "state": {
            "_model_module": "@jupyter-widgets/controls",
            "_model_module_version": "1.5.0",
            "_model_name": "DescriptionStyleModel",
            "_view_count": null,
            "_view_module": "@jupyter-widgets/base",
            "_view_module_version": "1.2.0",
            "_view_name": "StyleView",
            "description_width": ""
          }
        },
        "bd3c5811f3544ec48412d6a015f0b112": {
          "model_module": "@jupyter-widgets/controls",
          "model_name": "HBoxModel",
          "model_module_version": "1.5.0",
          "state": {
            "_dom_classes": [],
            "_model_module": "@jupyter-widgets/controls",
            "_model_module_version": "1.5.0",
            "_model_name": "HBoxModel",
            "_view_count": null,
            "_view_module": "@jupyter-widgets/controls",
            "_view_module_version": "1.5.0",
            "_view_name": "HBoxView",
            "box_style": "",
            "children": [
              "IPY_MODEL_799a360ffd3c478c9c428ac06724d4f2",
              "IPY_MODEL_6b697a4b4f4f4282bce48913c0e8fa47",
              "IPY_MODEL_97e95499fabb4ed8bcfef720363dd423"
            ],
            "layout": "IPY_MODEL_60f229e638e248a291189bc489acb776"
          }
        },
        "799a360ffd3c478c9c428ac06724d4f2": {
          "model_module": "@jupyter-widgets/controls",
          "model_name": "HTMLModel",
          "model_module_version": "1.5.0",
          "state": {
            "_dom_classes": [],
            "_model_module": "@jupyter-widgets/controls",
            "_model_module_version": "1.5.0",
            "_model_name": "HTMLModel",
            "_view_count": null,
            "_view_module": "@jupyter-widgets/controls",
            "_view_module_version": "1.5.0",
            "_view_name": "HTMLView",
            "description": "",
            "description_tooltip": null,
            "layout": "IPY_MODEL_0b43ca34bb8543ad841beb40cf4f31b3",
            "placeholder": "​",
            "style": "IPY_MODEL_a39de2089d1c41da9fc634e1625ce41c",
            "value": "100%"
          }
        },
        "6b697a4b4f4f4282bce48913c0e8fa47": {
          "model_module": "@jupyter-widgets/controls",
          "model_name": "FloatProgressModel",
          "model_module_version": "1.5.0",
          "state": {
            "_dom_classes": [],
            "_model_module": "@jupyter-widgets/controls",
            "_model_module_version": "1.5.0",
            "_model_name": "FloatProgressModel",
            "_view_count": null,
            "_view_module": "@jupyter-widgets/controls",
            "_view_module_version": "1.5.0",
            "_view_name": "ProgressView",
            "bar_style": "success",
            "description": "",
            "description_tooltip": null,
            "layout": "IPY_MODEL_40aecd71ac8349508442fe60ae9ad24e",
            "max": 10000,
            "min": 0,
            "orientation": "horizontal",
            "style": "IPY_MODEL_ce93742ef35044ddb7f24839eeb4858d",
            "value": 10000
          }
        },
        "97e95499fabb4ed8bcfef720363dd423": {
          "model_module": "@jupyter-widgets/controls",
          "model_name": "HTMLModel",
          "model_module_version": "1.5.0",
          "state": {
            "_dom_classes": [],
            "_model_module": "@jupyter-widgets/controls",
            "_model_module_version": "1.5.0",
            "_model_name": "HTMLModel",
            "_view_count": null,
            "_view_module": "@jupyter-widgets/controls",
            "_view_module_version": "1.5.0",
            "_view_name": "HTMLView",
            "description": "",
            "description_tooltip": null,
            "layout": "IPY_MODEL_298d5e85a5d5478abb0540d81a9b3d6a",
            "placeholder": "​",
            "style": "IPY_MODEL_b32ed7089caf4eeeb5b80edb42506183",
            "value": " 10000/10000 [00:02&lt;00:00, 5394.44it/s]"
          }
        },
        "60f229e638e248a291189bc489acb776": {
          "model_module": "@jupyter-widgets/base",
          "model_name": "LayoutModel",
          "model_module_version": "1.2.0",
          "state": {
            "_model_module": "@jupyter-widgets/base",
            "_model_module_version": "1.2.0",
            "_model_name": "LayoutModel",
            "_view_count": null,
            "_view_module": "@jupyter-widgets/base",
            "_view_module_version": "1.2.0",
            "_view_name": "LayoutView",
            "align_content": null,
            "align_items": null,
            "align_self": null,
            "border": null,
            "bottom": null,
            "display": null,
            "flex": null,
            "flex_flow": null,
            "grid_area": null,
            "grid_auto_columns": null,
            "grid_auto_flow": null,
            "grid_auto_rows": null,
            "grid_column": null,
            "grid_gap": null,
            "grid_row": null,
            "grid_template_areas": null,
            "grid_template_columns": null,
            "grid_template_rows": null,
            "height": null,
            "justify_content": null,
            "justify_items": null,
            "left": null,
            "margin": null,
            "max_height": null,
            "max_width": null,
            "min_height": null,
            "min_width": null,
            "object_fit": null,
            "object_position": null,
            "order": null,
            "overflow": null,
            "overflow_x": null,
            "overflow_y": null,
            "padding": null,
            "right": null,
            "top": null,
            "visibility": null,
            "width": null
          }
        },
        "0b43ca34bb8543ad841beb40cf4f31b3": {
          "model_module": "@jupyter-widgets/base",
          "model_name": "LayoutModel",
          "model_module_version": "1.2.0",
          "state": {
            "_model_module": "@jupyter-widgets/base",
            "_model_module_version": "1.2.0",
            "_model_name": "LayoutModel",
            "_view_count": null,
            "_view_module": "@jupyter-widgets/base",
            "_view_module_version": "1.2.0",
            "_view_name": "LayoutView",
            "align_content": null,
            "align_items": null,
            "align_self": null,
            "border": null,
            "bottom": null,
            "display": null,
            "flex": null,
            "flex_flow": null,
            "grid_area": null,
            "grid_auto_columns": null,
            "grid_auto_flow": null,
            "grid_auto_rows": null,
            "grid_column": null,
            "grid_gap": null,
            "grid_row": null,
            "grid_template_areas": null,
            "grid_template_columns": null,
            "grid_template_rows": null,
            "height": null,
            "justify_content": null,
            "justify_items": null,
            "left": null,
            "margin": null,
            "max_height": null,
            "max_width": null,
            "min_height": null,
            "min_width": null,
            "object_fit": null,
            "object_position": null,
            "order": null,
            "overflow": null,
            "overflow_x": null,
            "overflow_y": null,
            "padding": null,
            "right": null,
            "top": null,
            "visibility": null,
            "width": null
          }
        },
        "a39de2089d1c41da9fc634e1625ce41c": {
          "model_module": "@jupyter-widgets/controls",
          "model_name": "DescriptionStyleModel",
          "model_module_version": "1.5.0",
          "state": {
            "_model_module": "@jupyter-widgets/controls",
            "_model_module_version": "1.5.0",
            "_model_name": "DescriptionStyleModel",
            "_view_count": null,
            "_view_module": "@jupyter-widgets/base",
            "_view_module_version": "1.2.0",
            "_view_name": "StyleView",
            "description_width": ""
          }
        },
        "40aecd71ac8349508442fe60ae9ad24e": {
          "model_module": "@jupyter-widgets/base",
          "model_name": "LayoutModel",
          "model_module_version": "1.2.0",
          "state": {
            "_model_module": "@jupyter-widgets/base",
            "_model_module_version": "1.2.0",
            "_model_name": "LayoutModel",
            "_view_count": null,
            "_view_module": "@jupyter-widgets/base",
            "_view_module_version": "1.2.0",
            "_view_name": "LayoutView",
            "align_content": null,
            "align_items": null,
            "align_self": null,
            "border": null,
            "bottom": null,
            "display": null,
            "flex": null,
            "flex_flow": null,
            "grid_area": null,
            "grid_auto_columns": null,
            "grid_auto_flow": null,
            "grid_auto_rows": null,
            "grid_column": null,
            "grid_gap": null,
            "grid_row": null,
            "grid_template_areas": null,
            "grid_template_columns": null,
            "grid_template_rows": null,
            "height": null,
            "justify_content": null,
            "justify_items": null,
            "left": null,
            "margin": null,
            "max_height": null,
            "max_width": null,
            "min_height": null,
            "min_width": null,
            "object_fit": null,
            "object_position": null,
            "order": null,
            "overflow": null,
            "overflow_x": null,
            "overflow_y": null,
            "padding": null,
            "right": null,
            "top": null,
            "visibility": null,
            "width": null
          }
        },
        "ce93742ef35044ddb7f24839eeb4858d": {
          "model_module": "@jupyter-widgets/controls",
          "model_name": "ProgressStyleModel",
          "model_module_version": "1.5.0",
          "state": {
            "_model_module": "@jupyter-widgets/controls",
            "_model_module_version": "1.5.0",
            "_model_name": "ProgressStyleModel",
            "_view_count": null,
            "_view_module": "@jupyter-widgets/base",
            "_view_module_version": "1.2.0",
            "_view_name": "StyleView",
            "bar_color": null,
            "description_width": ""
          }
        },
        "298d5e85a5d5478abb0540d81a9b3d6a": {
          "model_module": "@jupyter-widgets/base",
          "model_name": "LayoutModel",
          "model_module_version": "1.2.0",
          "state": {
            "_model_module": "@jupyter-widgets/base",
            "_model_module_version": "1.2.0",
            "_model_name": "LayoutModel",
            "_view_count": null,
            "_view_module": "@jupyter-widgets/base",
            "_view_module_version": "1.2.0",
            "_view_name": "LayoutView",
            "align_content": null,
            "align_items": null,
            "align_self": null,
            "border": null,
            "bottom": null,
            "display": null,
            "flex": null,
            "flex_flow": null,
            "grid_area": null,
            "grid_auto_columns": null,
            "grid_auto_flow": null,
            "grid_auto_rows": null,
            "grid_column": null,
            "grid_gap": null,
            "grid_row": null,
            "grid_template_areas": null,
            "grid_template_columns": null,
            "grid_template_rows": null,
            "height": null,
            "justify_content": null,
            "justify_items": null,
            "left": null,
            "margin": null,
            "max_height": null,
            "max_width": null,
            "min_height": null,
            "min_width": null,
            "object_fit": null,
            "object_position": null,
            "order": null,
            "overflow": null,
            "overflow_x": null,
            "overflow_y": null,
            "padding": null,
            "right": null,
            "top": null,
            "visibility": null,
            "width": null
          }
        },
        "b32ed7089caf4eeeb5b80edb42506183": {
          "model_module": "@jupyter-widgets/controls",
          "model_name": "DescriptionStyleModel",
          "model_module_version": "1.5.0",
          "state": {
            "_model_module": "@jupyter-widgets/controls",
            "_model_module_version": "1.5.0",
            "_model_name": "DescriptionStyleModel",
            "_view_count": null,
            "_view_module": "@jupyter-widgets/base",
            "_view_module_version": "1.2.0",
            "_view_name": "StyleView",
            "description_width": ""
          }
        },
        "78c11872245b42ae803e07cbcb3e0114": {
          "model_module": "@jupyter-widgets/controls",
          "model_name": "HBoxModel",
          "model_module_version": "1.5.0",
          "state": {
            "_dom_classes": [],
            "_model_module": "@jupyter-widgets/controls",
            "_model_module_version": "1.5.0",
            "_model_name": "HBoxModel",
            "_view_count": null,
            "_view_module": "@jupyter-widgets/controls",
            "_view_module_version": "1.5.0",
            "_view_name": "HBoxView",
            "box_style": "",
            "children": [
              "IPY_MODEL_00720132ffda49a583b0ca8d62db5ff1",
              "IPY_MODEL_88ef6a1f7b7c4bc59e0e1531a821f3a6",
              "IPY_MODEL_d8398016792543808ed11869c4103c1d"
            ],
            "layout": "IPY_MODEL_e5563ddaff1c43fa81d1d852e1f8b833"
          }
        },
        "00720132ffda49a583b0ca8d62db5ff1": {
          "model_module": "@jupyter-widgets/controls",
          "model_name": "HTMLModel",
          "model_module_version": "1.5.0",
          "state": {
            "_dom_classes": [],
            "_model_module": "@jupyter-widgets/controls",
            "_model_module_version": "1.5.0",
            "_model_name": "HTMLModel",
            "_view_count": null,
            "_view_module": "@jupyter-widgets/controls",
            "_view_module_version": "1.5.0",
            "_view_name": "HTMLView",
            "description": "",
            "description_tooltip": null,
            "layout": "IPY_MODEL_4f087211399443ae95031e085240b63d",
            "placeholder": "​",
            "style": "IPY_MODEL_2613d805b653464e8990c94b0dbab802",
            "value": " 35%"
          }
        },
        "88ef6a1f7b7c4bc59e0e1531a821f3a6": {
          "model_module": "@jupyter-widgets/controls",
          "model_name": "FloatProgressModel",
          "model_module_version": "1.5.0",
          "state": {
            "_dom_classes": [],
            "_model_module": "@jupyter-widgets/controls",
            "_model_module_version": "1.5.0",
            "_model_name": "FloatProgressModel",
            "_view_count": null,
            "_view_module": "@jupyter-widgets/controls",
            "_view_module_version": "1.5.0",
            "_view_name": "ProgressView",
            "bar_style": "danger",
            "description": "",
            "description_tooltip": null,
            "layout": "IPY_MODEL_b97cbe3e1442452cac3c36c3ab63654e",
            "max": 60000,
            "min": 0,
            "orientation": "horizontal",
            "style": "IPY_MODEL_e479392d00de44269f69ed971a910e42",
            "value": 20910
          }
        },
        "d8398016792543808ed11869c4103c1d": {
          "model_module": "@jupyter-widgets/controls",
          "model_name": "HTMLModel",
          "model_module_version": "1.5.0",
          "state": {
            "_dom_classes": [],
            "_model_module": "@jupyter-widgets/controls",
            "_model_module_version": "1.5.0",
            "_model_name": "HTMLModel",
            "_view_count": null,
            "_view_module": "@jupyter-widgets/controls",
            "_view_module_version": "1.5.0",
            "_view_name": "HTMLView",
            "description": "",
            "description_tooltip": null,
            "layout": "IPY_MODEL_2cc17d98ed0b4296b685f0ee40fceac1",
            "placeholder": "​",
            "style": "IPY_MODEL_cfcd02368b3a4c2097f7485e15da57df",
            "value": " 20910/60000 [00:03&lt;00:07, 5236.10it/s]"
          }
        },
        "e5563ddaff1c43fa81d1d852e1f8b833": {
          "model_module": "@jupyter-widgets/base",
          "model_name": "LayoutModel",
          "model_module_version": "1.2.0",
          "state": {
            "_model_module": "@jupyter-widgets/base",
            "_model_module_version": "1.2.0",
            "_model_name": "LayoutModel",
            "_view_count": null,
            "_view_module": "@jupyter-widgets/base",
            "_view_module_version": "1.2.0",
            "_view_name": "LayoutView",
            "align_content": null,
            "align_items": null,
            "align_self": null,
            "border": null,
            "bottom": null,
            "display": null,
            "flex": null,
            "flex_flow": null,
            "grid_area": null,
            "grid_auto_columns": null,
            "grid_auto_flow": null,
            "grid_auto_rows": null,
            "grid_column": null,
            "grid_gap": null,
            "grid_row": null,
            "grid_template_areas": null,
            "grid_template_columns": null,
            "grid_template_rows": null,
            "height": null,
            "justify_content": null,
            "justify_items": null,
            "left": null,
            "margin": null,
            "max_height": null,
            "max_width": null,
            "min_height": null,
            "min_width": null,
            "object_fit": null,
            "object_position": null,
            "order": null,
            "overflow": null,
            "overflow_x": null,
            "overflow_y": null,
            "padding": null,
            "right": null,
            "top": null,
            "visibility": null,
            "width": null
          }
        },
        "4f087211399443ae95031e085240b63d": {
          "model_module": "@jupyter-widgets/base",
          "model_name": "LayoutModel",
          "model_module_version": "1.2.0",
          "state": {
            "_model_module": "@jupyter-widgets/base",
            "_model_module_version": "1.2.0",
            "_model_name": "LayoutModel",
            "_view_count": null,
            "_view_module": "@jupyter-widgets/base",
            "_view_module_version": "1.2.0",
            "_view_name": "LayoutView",
            "align_content": null,
            "align_items": null,
            "align_self": null,
            "border": null,
            "bottom": null,
            "display": null,
            "flex": null,
            "flex_flow": null,
            "grid_area": null,
            "grid_auto_columns": null,
            "grid_auto_flow": null,
            "grid_auto_rows": null,
            "grid_column": null,
            "grid_gap": null,
            "grid_row": null,
            "grid_template_areas": null,
            "grid_template_columns": null,
            "grid_template_rows": null,
            "height": null,
            "justify_content": null,
            "justify_items": null,
            "left": null,
            "margin": null,
            "max_height": null,
            "max_width": null,
            "min_height": null,
            "min_width": null,
            "object_fit": null,
            "object_position": null,
            "order": null,
            "overflow": null,
            "overflow_x": null,
            "overflow_y": null,
            "padding": null,
            "right": null,
            "top": null,
            "visibility": null,
            "width": null
          }
        },
        "2613d805b653464e8990c94b0dbab802": {
          "model_module": "@jupyter-widgets/controls",
          "model_name": "DescriptionStyleModel",
          "model_module_version": "1.5.0",
          "state": {
            "_model_module": "@jupyter-widgets/controls",
            "_model_module_version": "1.5.0",
            "_model_name": "DescriptionStyleModel",
            "_view_count": null,
            "_view_module": "@jupyter-widgets/base",
            "_view_module_version": "1.2.0",
            "_view_name": "StyleView",
            "description_width": ""
          }
        },
        "b97cbe3e1442452cac3c36c3ab63654e": {
          "model_module": "@jupyter-widgets/base",
          "model_name": "LayoutModel",
          "model_module_version": "1.2.0",
          "state": {
            "_model_module": "@jupyter-widgets/base",
            "_model_module_version": "1.2.0",
            "_model_name": "LayoutModel",
            "_view_count": null,
            "_view_module": "@jupyter-widgets/base",
            "_view_module_version": "1.2.0",
            "_view_name": "LayoutView",
            "align_content": null,
            "align_items": null,
            "align_self": null,
            "border": null,
            "bottom": null,
            "display": null,
            "flex": null,
            "flex_flow": null,
            "grid_area": null,
            "grid_auto_columns": null,
            "grid_auto_flow": null,
            "grid_auto_rows": null,
            "grid_column": null,
            "grid_gap": null,
            "grid_row": null,
            "grid_template_areas": null,
            "grid_template_columns": null,
            "grid_template_rows": null,
            "height": null,
            "justify_content": null,
            "justify_items": null,
            "left": null,
            "margin": null,
            "max_height": null,
            "max_width": null,
            "min_height": null,
            "min_width": null,
            "object_fit": null,
            "object_position": null,
            "order": null,
            "overflow": null,
            "overflow_x": null,
            "overflow_y": null,
            "padding": null,
            "right": null,
            "top": null,
            "visibility": null,
            "width": null
          }
        },
        "e479392d00de44269f69ed971a910e42": {
          "model_module": "@jupyter-widgets/controls",
          "model_name": "ProgressStyleModel",
          "model_module_version": "1.5.0",
          "state": {
            "_model_module": "@jupyter-widgets/controls",
            "_model_module_version": "1.5.0",
            "_model_name": "ProgressStyleModel",
            "_view_count": null,
            "_view_module": "@jupyter-widgets/base",
            "_view_module_version": "1.2.0",
            "_view_name": "StyleView",
            "bar_color": null,
            "description_width": ""
          }
        },
        "2cc17d98ed0b4296b685f0ee40fceac1": {
          "model_module": "@jupyter-widgets/base",
          "model_name": "LayoutModel",
          "model_module_version": "1.2.0",
          "state": {
            "_model_module": "@jupyter-widgets/base",
            "_model_module_version": "1.2.0",
            "_model_name": "LayoutModel",
            "_view_count": null,
            "_view_module": "@jupyter-widgets/base",
            "_view_module_version": "1.2.0",
            "_view_name": "LayoutView",
            "align_content": null,
            "align_items": null,
            "align_self": null,
            "border": null,
            "bottom": null,
            "display": null,
            "flex": null,
            "flex_flow": null,
            "grid_area": null,
            "grid_auto_columns": null,
            "grid_auto_flow": null,
            "grid_auto_rows": null,
            "grid_column": null,
            "grid_gap": null,
            "grid_row": null,
            "grid_template_areas": null,
            "grid_template_columns": null,
            "grid_template_rows": null,
            "height": null,
            "justify_content": null,
            "justify_items": null,
            "left": null,
            "margin": null,
            "max_height": null,
            "max_width": null,
            "min_height": null,
            "min_width": null,
            "object_fit": null,
            "object_position": null,
            "order": null,
            "overflow": null,
            "overflow_x": null,
            "overflow_y": null,
            "padding": null,
            "right": null,
            "top": null,
            "visibility": null,
            "width": null
          }
        },
        "cfcd02368b3a4c2097f7485e15da57df": {
          "model_module": "@jupyter-widgets/controls",
          "model_name": "DescriptionStyleModel",
          "model_module_version": "1.5.0",
          "state": {
            "_model_module": "@jupyter-widgets/controls",
            "_model_module_version": "1.5.0",
            "_model_name": "DescriptionStyleModel",
            "_view_count": null,
            "_view_module": "@jupyter-widgets/base",
            "_view_module_version": "1.2.0",
            "_view_name": "StyleView",
            "description_width": ""
          }
        }
      }
    }
  },
  "nbformat": 4,
  "nbformat_minor": 0
}