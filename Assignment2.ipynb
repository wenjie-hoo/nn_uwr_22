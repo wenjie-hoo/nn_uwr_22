{
  "cells": [
    {
      "cell_type": "markdown",
      "metadata": {
        "id": "view-in-github",
        "colab_type": "text"
      },
      "source": [
        "<a href=\"https://colab.research.google.com/github/wenjie-hoo/nn_uwr_22/blob/main/Assignment2.ipynb\" target=\"_parent\"><img src=\"https://colab.research.google.com/assets/colab-badge.svg\" alt=\"Open In Colab\"/></a>"
      ]
    },
    {
      "cell_type": "markdown",
      "metadata": {
        "cell_id": "00001-10528e06-f6bc-4d22-87ba-44ee389423e2",
        "deepnote_cell_height": 513.59375,
        "deepnote_cell_type": "markdown",
        "id": "CzR6cZvYkyl6"
      },
      "source": [
        "## Assignment 2\n",
        "\n",
        "**Submission deadlines:** \n",
        "- get at least 4 points by Tuesday, 30.03.2023\n",
        "- remaining points: last lab session before or on Tuesday, 06.04.2023\n",
        "\n",
        "**Points:** Aim to get 16 out of 20+ possible points\n",
        "\n",
        "## Submission instructions\n",
        "The class is held on-site in lab rooms. Please prepare you notebook on your computer or anywhere in the cloud (try using DeepNote or Google Colab (preferred since one can get free GPUs there)).\n",
        "Make sure you know all the questions and asnwers, and that the notebook contains results; bfore presentation do `Runtime -> Restart and run all`\n",
        "![Picture title](image-20220302-183151.png)\n",
        "\n",
        "We provide starter code, however you are not required to use it as long as you properly solve the tasks.\n",
        "\n",
        "As always, please submit corrections using GitHub's Pull Requests to https://github.com/rnoxy/dl_uwr."
      ]
    },
    {
      "cell_type": "markdown",
      "metadata": {
        "cell_id": "00002-c9d8b5e1-13d2-492d-9ad6-d82d4419394b",
        "deepnote_cell_height": 82,
        "deepnote_cell_type": "markdown",
        "id": "eJ7DqCH7NDlC"
      },
      "source": [
        "# Problems"
      ]
    },
    {
      "cell_type": "markdown",
      "metadata": {
        "cell_id": "00003-48229273-726d-45db-bb12-068773ea6b9c",
        "deepnote_cell_height": 433.421875,
        "deepnote_cell_type": "markdown",
        "id": "YXr1RwyMFITD"
      },
      "source": [
        "\n",
        "## Problem 1 [1p]:\n",
        "\n",
        "Let's see why GPUs are useful in deep learning. Compare matrix multiplication speed for a few matrix shapes when implemented:\n",
        "1. as loops in Python\n",
        "2. using np.einsum\n",
        "3. using numpy on CPU\n",
        "4. using pytorch on CPU\n",
        "5. using pytorch on GPU\n",
        "\n",
        "Finally, consider two square matrices, $A$ and $B$. We have 4 possibilities of multiplying them or their transpositions:\n",
        "1. $AB$\n",
        "2. $A^TB$\n",
        "3. $AB^T$\n",
        "4. $A^TB^T$\n",
        "\n",
        "Which option is the fastest? Why?"
      ]
    },
    {
      "cell_type": "markdown",
      "metadata": {
        "cell_id": "00004-6fcf24af-39f5-4e54-a68e-21493b4f3484",
        "deepnote_cell_height": 313.1875,
        "deepnote_cell_type": "markdown",
        "id": "eQa69LGTaiym"
      },
      "source": [
        "## Problem 2: Stochastic Gradient Descent [3p]\n",
        "\n",
        "We provide below starter code that trains a softmax regression model. Alternatively, implement your own training loop and use it to solve this problem jointly with the next one.\n",
        "\n",
        "Implement the following additions to the SGD code provided:\n",
        "  1. **[1p]** momentum\n",
        "  2. **[1p]** learning rate schedule\n",
        "  3. **[1p]** weight decay, in which we additionally minimize for each weight matrix (but typically not the bias) the sum of its elements squared. One way to implement it is to use the function `model.named_parameters` and select all parameters whose names contain \"`weight`\" rather than \"`bias`\"."
      ]
    },
    {
      "cell_type": "markdown",
      "metadata": {
        "cell_id": "00005-08ef04aa-9e94-4455-bddc-b843562afd3f",
        "deepnote_cell_height": 350,
        "deepnote_cell_type": "markdown",
        "id": "YsLt4dGsaosv"
      },
      "source": [
        "## Problem 3: Tuning the Network for MNIST [4p]\n",
        "\n",
        "Tune the following network to reach **validation error rate below 1.9%**.\n",
        "This should result in a **test error rate below 2%**. To\n",
        "tune the network you will need to:\n",
        "1. Choose the number of layers (more than 1, less than 5);\n",
        "2. Choose the number of neurons in each layer (more than 100,\n",
        "    less than 5000);\n",
        "3. Pick proper weight initialization;\n",
        "4. Pick proper learning rate schedule (need to decay over time,\n",
        "    a good range to check on MNIST is about 1e-2 ... 1e-1 at the beginning and\n",
        "    half of that after 10000 batches);\n",
        "5. Pick a momentum constant (probably a constant one will be OK).\n",
        "\n",
        "\n",
        "Please note: there are many hyperparameter settings that give the desired answer, some may require tuning all hyperparameters, some only a few."
      ]
    },
    {
      "cell_type": "markdown",
      "metadata": {
        "cell_id": "00006-1469d97b-d10e-428a-a29a-f6446ffaa579",
        "deepnote_cell_height": 130.796875,
        "deepnote_cell_type": "markdown",
        "id": "YrUQloaln1UA"
      },
      "source": [
        "## Problem 4: Convolutional Network [2p]\n",
        "\n",
        "Use convolutional and max-pooling layers (`Conv2d`, `Max_pool2d` or their functional variants) and (without dropout) get a test error rate below 1.5%."
      ]
    },
    {
      "cell_type": "markdown",
      "metadata": {
        "cell_id": "00007-c363a8df-405f-4da9-a0ab-59e2fa166b63",
        "deepnote_cell_height": 338.1875,
        "deepnote_cell_type": "markdown",
        "id": "_9DaWUy_atrn"
      },
      "source": [
        "## Problem 5: Dropout [2p]\n",
        "\n",
        "Learn about dropout:\n",
        "\n",
        "- implement a **dropout** layer \n",
        "- or use `nn.Dropout` (then the exercise is worth 1.5 points)\n",
        "\n",
        "and try to train a\n",
        "network getting below 1.5% test error rates with dropout, but no convolutions, or below 1% when dropout is used jointly with convolutions!\n",
        "\n",
        "Remember to turn off dropout during testing, using `model.train()` and `model.eval()`!\n",
        "\n",
        "Hint: Use [torch.nn.functional.dropout](http://pytorch.org/docs/master/nn.html#torch.nn.functional.dropout).\n",
        "\n",
        "Details: http://arxiv.org/pdf/1207.0580.pdf."
      ]
    },
    {
      "cell_type": "markdown",
      "metadata": {
        "cell_id": "00008-b71ece13-36f1-4661-b0c6-3739ba0af279",
        "deepnote_cell_height": 212,
        "deepnote_cell_type": "markdown",
        "id": "mB3T_HuYawyQ"
      },
      "source": [
        "## Problem 6: Data Augmentation [1p]\n",
        "\n",
        "Apply data augmentation methods (e.g. rotations, noise, crops) when training networks on MNIST, to significantly reduce test error rate for your network. You can use functions from the [torchvision.transforms](http://pytorch.org/docs/master/torchvision/transforms.html) module.\n",
        "\n",
        "Please note: when using random transformations during training, make sure they are re-computed in every epoch. Consider applying augmentation either in the training loop or in the `InMemDataLoader`. For the second case, function `InMemDataLoader.__iter__` is a good place to do it."
      ]
    },
    {
      "cell_type": "markdown",
      "metadata": {
        "cell_id": "00009-9efae45c-dfcb-4687-b7c4-98b007244266",
        "deepnote_cell_height": 226,
        "deepnote_cell_type": "markdown",
        "id": "Af7itFE7a0eY"
      },
      "source": [
        "## Problem 7: Batch Normalization [1p]\n",
        "\n",
        "[Batch Normalization](https://arxiv.org/abs/1502.03167) helps training neural networks because it [normalizes layer activation magnitudes](https://papers.nips.cc/paper/7515-how-does-batch-normalization-help-optimization.pdf). It typically allows to train networks faster and/or with higher learning rates, lessens the importance\n",
        "of initialization and might eliminate the need for Dropout.\n",
        "\n",
        "Implement Batch Normalization and compare with regular training of MNIST models.\n",
        "\n",
        "Remember to use the batch statistics during model training and to use an average of training batch statistics during model evaluation. For details please consult the paper."
      ]
    },
    {
      "cell_type": "markdown",
      "metadata": {
        "cell_id": "00010-82d7197f-70be-49e8-8a59-99ea637bf693",
        "deepnote_cell_height": 212,
        "deepnote_cell_type": "markdown",
        "id": "CD1Ke8R4a1-Q"
      },
      "source": [
        "## Problem 8: Norm Constraints [1p]\n",
        "\n",
        "Implement norm constraints, i.e. instead of weight decay, that tries to set all weights to small values, apply a limit on the total\n",
        "norm of connections incoming to a neuron. In our case, this\n",
        "corresponds to clipping the norm of *rows* of weight\n",
        "matrices. An easy way of implementing it is to make a gradient\n",
        "step, then look at the norm of rows and scale down those that are\n",
        "over the threshold (this technique is called \"projected gradient descent\").\n",
        "\n",
        "Please consult the Dropout paper (http://arxiv.org/pdf/1207.0580.pdf) for details."
      ]
    },
    {
      "cell_type": "markdown",
      "metadata": {
        "cell_id": "00011-c12d33a7-8f7d-4d53-b4f4-23f90b3c17ed",
        "deepnote_cell_height": 181.84375,
        "deepnote_cell_type": "markdown",
        "id": "CL3_e1xCa4YG"
      },
      "source": [
        "## Problem 9: Polyak Averaging [1p]\n",
        "\n",
        "Implement Polyak averaging. For each parameter $\\theta$\n",
        "keep a separate, exponentially decayed average of the past values\n",
        "$$\n",
        "\\bar{\\theta}_n = \\alpha_p\\bar{\\theta}_{n-1} + (1-\\alpha_p)\\theta_n.\n",
        "$$\n",
        "Use that average when evaluating the model on the test set.\n",
        "Validate the approach by training a model on the MNIST dataset."
      ]
    },
    {
      "cell_type": "markdown",
      "metadata": {
        "cell_id": "00012-9ad9a7b8-4ee0-4df2-8a0c-6ed0cb246cdc",
        "deepnote_cell_height": 198,
        "deepnote_cell_type": "markdown",
        "id": "w7LoH9DIa88J"
      },
      "source": [
        "## Problem 10: Hyperparameter tuner [1p]\n",
        "\n",
        "Implement a hyper-parameter tuner able to optimize the learning rate schedule, number of neurons, and similar hyperparameters. To start, use a random search (please see http://jmlr.csail.mit.edu/papers/volume13/bergstra12a/bergstra12a.pdf and especially Fig 1. for intuitions on why random search is better than grid search). It may be a good idea to use a fixed maximum number of epochs (or training time) for each optimization trial to prevent selecting hyperparameters that yield slowly converging solutions. A good result will be a set of hyperparameters that reach on MNIST solutions with test errors less than $1.3\\%$ in no more than 50 epochs."
      ]
    },
    {
      "cell_type": "markdown",
      "metadata": {
        "cell_id": "00013-1bb7d06a-33a4-4e1a-9922-d09becbcbddb",
        "deepnote_cell_height": 464.390625,
        "deepnote_cell_type": "markdown",
        "id": "mzJTDu2aE8sk"
      },
      "source": [
        "## Problem 11: Pruning [1p]\n",
        "\n",
        "Prune the MNIST network to retain validation accuracy no worse than 0.1 percentage point at maximum sparsity (maximal number of weights removed from the network).\n",
        "\n",
        "One way to do it is to \n",
        "1. train the network, \n",
        "2. set to zero the smallest weights (typically you can zero up to 50% of weights)\n",
        "3. retrain the network, keeping the zeroed weights zeroed, and repeat"
      ]
    },
    {
      "cell_type": "markdown",
      "metadata": {
        "cell_id": "00014-bfe2d2f2-2578-47ee-9112-5f72785b0778",
        "deepnote_cell_height": 212,
        "deepnote_cell_type": "markdown",
        "id": "7jyEkvsqo2bx"
      },
      "source": [
        "## Problem 12: Extreme Learning Machine (ELM) [2p]\n",
        "\n",
        "Consider a neural network with 1 hidden layer. In the extreme learning approach, the first layer is not trained, but instead, it is randomly set. It is often very large. The second (output) layer weights can then be set using the closed-form formula for linear regression. Thus, training an ELM is fast (there is no iterative optimization) and one can try many different hyperparameters, such as hidden layer size, the random distribution from which weights are sampled, the hidden activation function, and so forth.\n",
        "\n",
        "Task: Implement an ELM for MNIST and try to reach the performance of your backpropagation-trained model."
      ]
    },
    {
      "cell_type": "markdown",
      "metadata": {
        "cell_id": "00015-f8cf66c4-94bb-492c-abb5-845f0be43678",
        "deepnote_cell_height": 130.796875,
        "deepnote_cell_type": "markdown",
        "id": "aotfN2N2FCM6"
      },
      "source": [
        "## Problem 13: Other tricks [1p-many]\n",
        "\n",
        "The neural network literature is full of tricks for training neural networks. Find some and implement them. Please note: the number of points depends on the hardness of the extension you want to implement. If in doubt, consult the TA beforehand"
      ]
    },
    {
      "cell_type": "markdown",
      "metadata": {
        "cell_id": "00016-c2f60d20-e061-443c-a8e3-1713b5192445",
        "deepnote_cell_height": 120.390625,
        "deepnote_cell_type": "markdown",
        "id": "NNfw6pY9sRJe"
      },
      "source": [
        "# Starter code\n",
        "\n",
        "The code below trains a SoftMax regression model in PyTorch. It can easily be extended into a full multilayer neural network."
      ]
    },
    {
      "cell_type": "code",
      "execution_count": 11,
      "metadata": {
        "cell_id": "00017-cf2d5c0e-2979-4394-9d7b-26cf2d6f6225",
        "deepnote_cell_height": 66,
        "deepnote_cell_type": "code",
        "id": "iEUPZksWm9YU"
      },
      "outputs": [],
      "source": [
        "%matplotlib inline"
      ]
    },
    {
      "cell_type": "code",
      "execution_count": 12,
      "metadata": {
        "cell_id": "00018-a007af69-e00b-42a8-8ccd-13a9d5d9f6a5",
        "deepnote_cell_height": 264,
        "deepnote_cell_type": "code",
        "id": "039umgT_lsH2"
      },
      "outputs": [],
      "source": [
        "import os\n",
        "import time\n",
        "\n",
        "import matplotlib.pyplot as plt\n",
        "import numpy as np\n",
        "from IPython.display import clear_output\n",
        "from tqdm.auto import tqdm\n",
        "from torch.utils.data import DataLoader\n",
        "from torchvision import datasets, transforms\n",
        "from torchvision.transforms import ToTensor\n",
        "import torch.optim as optim\n",
        "\n",
        "import torch\n",
        "import torch.nn.functional as F\n",
        "import torchvision.datasets\n",
        "from torch import nn"
      ]
    },
    {
      "cell_type": "markdown",
      "source": [
        "### problem 1"
      ],
      "metadata": {
        "id": "MgzZUDrBuQkj"
      }
    },
    {
      "cell_type": "code",
      "source": [
        "def matmul_loop(a, b):\n",
        "    m, n = a.shape\n",
        "    n, p = b.shape\n",
        "    c = np.zeros((m, p))\n",
        "    for i in range(m):\n",
        "        for j in range(p):\n",
        "            for k in range(n):\n",
        "                c[i,j] += a[i,k] * b[k,j]\n",
        "    return c\n",
        "\n",
        "def matmul_einsum(a, b):\n",
        "    return np.einsum('ik,kj->ij', a, b)\n",
        "\n",
        "def matmul_np(a, b):\n",
        "    return np.matmul(a, b)\n",
        "\n",
        "def matmul_torch_cpu(a, b):\n",
        "    a_t = torch.from_numpy(a)\n",
        "    b_t = torch.from_numpy(b)\n",
        "    return torch.matmul(a_t, b_t).numpy()\n",
        "\n",
        "def matmul_torch_gpu(a, b):\n",
        "    a_t = torch.from_numpy(a).cuda()\n",
        "    b_t = torch.from_numpy(b).cuda()\n",
        "    return torch.matmul(a_t, b_t).cpu().numpy()\n",
        "\n",
        "shapes = [(100, 100), (500, 500)]\n",
        "for shape in shapes:\n",
        "    a = np.random.rand(*shape)\n",
        "    b = np.random.rand(*shape)\n",
        "\n",
        "    t0 = time.time()\n",
        "    matmul_loop(a, b)\n",
        "    t1 = time.time()\n",
        "    matmul_einsum(a, b)\n",
        "    t2 = time.time()\n",
        "    matmul_np(a, b)\n",
        "    t3 = time.time()\n",
        "    matmul_torch_cpu(a, b)\n",
        "    t4 = time.time()\n",
        "    matmul_torch_gpu(a, b)\n",
        "    t5 = time.time()\n",
        "\n",
        "    print(f\"Shape: {shape}\")\n",
        "    print(f\"Loop: {t1-t0:.5f}s\")\n",
        "    print(f\"Einsum: {t2-t1:.5f}s\")\n",
        "    print(f\"np.matmul: {t3-t2:.5f}s\")\n",
        "    print(f\"torch.matmul on CPU: {t4-t3:.5f}s\")\n",
        "    print(f\"torch.matmul on GPU: {t5-t4:.5f}s\")\n",
        "  "
      ],
      "metadata": {
        "colab": {
          "base_uri": "https://localhost:8080/"
        },
        "id": "o7jzKvzWC33c",
        "outputId": "0d168d13-d289-4d9f-9e15-2ff4dfb62059"
      },
      "execution_count": 13,
      "outputs": [
        {
          "output_type": "stream",
          "name": "stdout",
          "text": [
            "Shape: (100, 100)\n",
            "Loop: 0.90520s\n",
            "Einsum: 0.00050s\n",
            "np.matmul: 0.00032s\n",
            "torch.matmul on CPU: 0.00045s\n",
            "torch.matmul on GPU: 0.00110s\n",
            "Shape: (500, 500)\n",
            "Loop: 81.74506s\n",
            "Einsum: 0.04414s\n",
            "np.matmul: 0.00730s\n",
            "torch.matmul on CPU: 0.01139s\n",
            "torch.matmul on GPU: 0.00565s\n"
          ]
        }
      ]
    },
    {
      "cell_type": "code",
      "source": [
        "A = torch.randn(10000, 10000)\n",
        "B = torch.randn(10000, 10000)\n",
        "device =torch.device('cuda')\n",
        "A_gpu = A.to(device)\n",
        "B_gpu = B.to(device)\n",
        "\n",
        "AB_gpu = torch.matmul(A_gpu, B_gpu)\n",
        "ATB_gpu = torch.matmul(A_gpu.T, B_gpu)\n",
        "ABT_gpu = torch.matmul(A_gpu, B_gpu.T)\n",
        "ATBT_gpu = torch.matmul(A_gpu.T, B_gpu.T)\n",
        "\n",
        "t1 = time.time()\n",
        "torch.matmul(A_gpu, B_gpu)\n",
        "t2 = time.time()\n",
        "torch.matmul(A_gpu.T, B_gpu)\n",
        "t3 = time.time()\n",
        "torch.matmul(A_gpu, B_gpu.T)\n",
        "t4 = time.time()\n",
        "torch.matmul(A_gpu.T, B_gpu.T)\n",
        "t5 = time.time()\n",
        "\n",
        "print(f\"AB on GPU: {t2-t1:.5f}s\")\n",
        "print(f\"ATB on GPU: {t3-t2:.5f}s\")\n",
        "print(f\"ABT on GPU: {t4-t3:.5f}s\")\n",
        "print(f\"ATBT on GPU: {t5-t4:.5f}s\")\n"
      ],
      "metadata": {
        "colab": {
          "base_uri": "https://localhost:8080/"
        },
        "id": "2thEoz9DTgvo",
        "outputId": "0fdcf7e9-a96a-47c5-a888-6d69a2f614d4"
      },
      "execution_count": 14,
      "outputs": [
        {
          "output_type": "stream",
          "name": "stdout",
          "text": [
            "AB on GPU: 0.00096s\n",
            "ATB on GPU: 0.00020s\n",
            "ABT on GPU: 0.00020s\n",
            "ATBT on GPU: 0.00018s\n"
          ]
        }
      ]
    },
    {
      "cell_type": "markdown",
      "metadata": {
        "cell_id": "00020-12705b84-2e28-4596-878c-69510f5bf058",
        "deepnote_cell_height": 130.796875,
        "deepnote_cell_type": "markdown",
        "id": "OT6R09JnnYs9"
      },
      "source": [
        "## Data loading\n",
        "\n",
        "Training speed is important. By default, data is loaded on the CPU, then shipped in batches to the GPU. For this exercise, we will load the full dataset onto the GPU, which speeds up training."
      ]
    },
    {
      "cell_type": "code",
      "execution_count": 54,
      "metadata": {
        "cell_id": "00021-b3c4901d-b2c9-400d-84d3-667224735d7d",
        "deepnote_cell_height": 1362,
        "deepnote_cell_type": "code",
        "id": "OPh9uR8ZorL7"
      },
      "outputs": [],
      "source": [
        "class InMemDataLoader(object):\n",
        "    \"\"\"\n",
        "    A data loader that keeps all data in CPU or GPU memory.\n",
        "    \"\"\"\n",
        "\n",
        "    __initialized = False\n",
        "\n",
        "    def __init__(\n",
        "        self,\n",
        "        dataset,\n",
        "        batch_size=1,\n",
        "        shuffle=False,\n",
        "        sampler=None,\n",
        "        batch_sampler=None,\n",
        "        drop_last=False,\n",
        "        transform =None,\n",
        "    ):\n",
        "        \"\"\"A torch dataloader that fetches data from memory.\"\"\"\n",
        "        batches = []\n",
        "        for i in tqdm(range(len(dataset))):\n",
        "            batch = [torch.tensor(t) for t in dataset[i]]\n",
        "            batches.append(batch)\n",
        "        tensors = [torch.stack(ts) for ts in zip(*batches)]\n",
        "        dataset = torch.utils.data.TensorDataset(*tensors)\n",
        "        self.dataset = dataset\n",
        "        self.batch_size = batch_size\n",
        "        self.drop_last = drop_last\n",
        "        self.transform = transform\n",
        "        if transform is not None:\n",
        "            img = self.transform(img)\n",
        "            img =transforms.ToTensor()(img)\n",
        "        if batch_sampler is not None:\n",
        "            if batch_size > 1 or shuffle or sampler is not None or drop_last:\n",
        "                raise ValueError(\n",
        "                    \"batch_sampler option is mutually exclusive \"\n",
        "                    \"with batch_size, shuffle, sampler, and \"\n",
        "                    \"drop_last\"\n",
        "                )\n",
        "            self.batch_size = None\n",
        "            self.drop_last = None\n",
        "\n",
        "        if sampler is not None and shuffle:\n",
        "            raise ValueError(\"sampler option is mutually exclusive with \" \"shuffle\")\n",
        "\n",
        "        if batch_sampler is None:\n",
        "            if sampler is None:\n",
        "                if shuffle:\n",
        "                    sampler = torch.utils.data.RandomSampler(dataset)\n",
        "                else:\n",
        "                    sampler = torch.utils.data.SequentialSampler(dataset)\n",
        "            batch_sampler = torch.utils.data.BatchSampler(\n",
        "                sampler, batch_size, drop_last\n",
        "            )\n",
        "\n",
        "        self.sampler = sampler\n",
        "        self.batch_sampler = batch_sampler\n",
        "        self.__initialized = True\n",
        "\n",
        "    def __setattr__(self, attr, val):\n",
        "        if self.__initialized and attr in (\"batch_size\", \"sampler\", \"drop_last\"):\n",
        "            raise ValueError(\n",
        "                \"{} attribute should not be set after {} is \"\n",
        "                \"initialized\".format(attr, self.__class__.__name__)\n",
        "            )\n",
        "\n",
        "        super(InMemDataLoader, self).__setattr__(attr, val)\n",
        "\n",
        "    def __iter__(self):\n",
        "        for batch_indices in self.batch_sampler:\n",
        "            yield self.dataset[batch_indices]\n",
        "\n",
        "    def __len__(self):\n",
        "        return len(self.batch_sampler)\n",
        "\n",
        "    def to(self, device):\n",
        "        self.dataset.tensors = tuple(t.to(device) for t in self.dataset.tensors)\n",
        "        return self"
      ]
    },
    {
      "cell_type": "code",
      "execution_count": 16,
      "metadata": {
        "cell_id": "00022-781fa74f-113b-42aa-abad-f98814527964",
        "deepnote_cell_height": 390,
        "deepnote_cell_type": "code",
        "id": "d4RuDI9YpPhe"
      },
      "outputs": [],
      "source": [
        "# Monkey-patch MNIST to use a more robust MIST mirror\n",
        "torchvision.datasets.MNIST.resources = [\n",
        "    (\n",
        "        \"https://web.archive.org/web/20150906081542/http://yann.lecun.com/exdb/mnist/train-images-idx3-ubyte.gz\",\n",
        "        \"f68b3c2dcbeaaa9fbdd348bbdeb94873\",\n",
        "    ),\n",
        "    (\n",
        "        \"https://web.archive.org/web/20150906081542/http://yann.lecun.com/exdb/mnist/train-labels-idx1-ubyte.gz\",\n",
        "        \"d53e105ee54ea40749a09fcbcd1e9432\",\n",
        "    ),\n",
        "    (\n",
        "        \"https://web.archive.org/web/20150906081542/http://yann.lecun.com/exdb/mnist/t10k-images-idx3-ubyte.gz\",\n",
        "        \"9fb629c4189551a2d022fa330f9573f3\",\n",
        "    ),\n",
        "    (\n",
        "        \"https://web.archive.org/web/20150906081542/http://yann.lecun.com/exdb/mnist/t10k-labels-idx1-ubyte.gz\",\n",
        "        \"ec29112dd5afa0611ce80d1b7f02629c\",\n",
        "    ),\n",
        "]"
      ]
    },
    {
      "cell_type": "code",
      "execution_count": 17,
      "metadata": {
        "cell_id": "00023-1ae08eac-ed89-46d5-b212-29029275d401",
        "deepnote_cell_height": 1054.796875,
        "deepnote_cell_type": "code",
        "id": "wDM2KTPQm8V3"
      },
      "outputs": [],
      "source": [
        "# # Load the data\n",
        "\n",
        "# batch_size = 128\n",
        "# data_path = \"./data\"\n",
        "\n",
        "# transform = torchvision.transforms.Compose(\n",
        "#     [\n",
        "#         torchvision.transforms.ToTensor(),\n",
        "#         torchvision.transforms.Normalize((0.1307,), (0.3081,)),\n",
        "#     ]\n",
        "# )\n",
        "\n",
        "# _test = datasets.MNIST(root='./data', train=False, download=True, transform=None)\n",
        "\n",
        "# # Load training data, split into train and valid sets\n",
        "# _train = datasets.MNIST(root='./data', train=True, download=True, transform=None)\n",
        "# _train.data = _train.data[:50000]\n",
        "# _train.targets = _train.targets[:50000]\n",
        "\n",
        "\n",
        "# _valid = datasets.MNIST(root='./data', train=True, download=True, transform=None)\n",
        "# _valid.data = _valid.data[50000:]\n",
        "# _valid.targets = _valid.targets[50000:]\n",
        "\n",
        "# mnist_loaders = {\n",
        "#     \"train\": DataLoader(_train, batch_size=batch_size, shuffle=True),\n",
        "#     \"valid\": DataLoader(_valid, batch_size=batch_size, shuffle=False),\n",
        "#     \"test\": DataLoader(_test, batch_size=batch_size, shuffle=False),\n",
        "# }"
      ]
    },
    {
      "cell_type": "code",
      "source": [
        "# load dataset locally\n",
        "! mkdir ./data\n",
        "! tar -zxvf ./MNIST.tar.gz -C ./data/\n",
        "! ls ./data/"
      ],
      "metadata": {
        "colab": {
          "base_uri": "https://localhost:8080/"
        },
        "id": "nEHdwDTog3LP",
        "outputId": "4302124f-ef28-4ec2-c924-8fcec589b7ba"
      },
      "execution_count": 18,
      "outputs": [
        {
          "output_type": "stream",
          "name": "stdout",
          "text": [
            "mkdir: cannot create directory ‘./data’: File exists\n",
            "MNIST/\n",
            "MNIST/raw/\n",
            "MNIST/raw/train-labels-idx1-ubyte\n",
            "MNIST/raw/t10k-labels-idx1-ubyte.gz\n",
            "MNIST/raw/t10k-labels-idx1-ubyte\n",
            "MNIST/raw/t10k-images-idx3-ubyte.gz\n",
            "MNIST/raw/train-images-idx3-ubyte\n",
            "MNIST/raw/train-labels-idx1-ubyte.gz\n",
            "MNIST/raw/t10k-images-idx3-ubyte\n",
            "MNIST/raw/train-images-idx3-ubyte.gz\n",
            "MNIST/processed/\n",
            "MNIST/processed/training.pt\n",
            "MNIST/processed/test.pt\n",
            "MNIST\n"
          ]
        }
      ]
    },
    {
      "cell_type": "code",
      "source": [
        "from torchvision.datasets import MNIST\n",
        "dataset = torchvision.datasets.MNIST('./data')\n",
        "\n",
        "train_dataset = MNIST(root='./data/', train=True, download=False, transform=ToTensor())\n",
        "train_loader = InMemDataLoader(train_dataset,batch_size=64, shuffle=True)\n",
        "# train_loader = DataLoader(train_dataset, batch_size=64, shuffle=True)\n",
        "test_dataset = MNIST(root='./data/', train=False, download=False, transform=ToTensor())\n",
        "test_loader = InMemDataLoader(test_dataset,batch_size=64, shuffle=True)\n",
        "# test_loader = DataLoader(test_dataset, batch_size=64, shuffle=False)"
      ],
      "metadata": {
        "id": "fTj66gaHhbnv",
        "colab": {
          "base_uri": "https://localhost:8080/",
          "height": 137,
          "referenced_widgets": [
            "6b620f43d935497b90fae9c9a5213311",
            "a0f447bfe59f42839366a214c16bcf8a",
            "3b1f6ab2eaab431599bb67efaf0b8b99",
            "a7eeff06155643f9a59d5424eef11718",
            "4f9f92d31e084e20ac7b971ad9bcf3e7",
            "aba99a7486ff40a3807f69500fa3f0a1",
            "751acbc63ca14659ac6bbee63eea9b06",
            "45bf87e97ee64867a87907c49c8f1191",
            "4297375b0f0c453092dcc5f86e765832",
            "ab2f0cd0122f4caebddf26eff6df69ec",
            "76e2baf5dea54ae6a4dbbf7765415f81",
            "fdd24c9cb7df4fceba882e1a79c2d9c8",
            "066a0bc0a6914479a22ac586b24cbc07",
            "2185f5bb103e43dc8f8896dfb67601af",
            "09398729823e46a1b6794ed06b97b4e4",
            "a091540261f846fa9988f8a7e409ea67",
            "fd04425dbb844124b02c8e118e16ca13",
            "2d4db90ffa584c139a29e17ebf39012d",
            "791965db049e45a8bccb02006f29946d",
            "748ce7924ffd49cebd22cecf0028eb1a",
            "a1774abf8cba447ab22a3e7dc2e2b0a9",
            "ee12351790ae4e45ab525dd3b638b1f6"
          ]
        },
        "outputId": "0ff87d69-76b0-4461-849d-264b53526eab"
      },
      "execution_count": 53,
      "outputs": [
        {
          "output_type": "display_data",
          "data": {
            "text/plain": [
              "  0%|          | 0/60000 [00:00<?, ?it/s]"
            ],
            "application/vnd.jupyter.widget-view+json": {
              "version_major": 2,
              "version_minor": 0,
              "model_id": "6b620f43d935497b90fae9c9a5213311"
            }
          },
          "metadata": {}
        },
        {
          "output_type": "stream",
          "name": "stderr",
          "text": [
            "<ipython-input-43-a2372c108748>:20: UserWarning: To copy construct from a tensor, it is recommended to use sourceTensor.clone().detach() or sourceTensor.clone().detach().requires_grad_(True), rather than torch.tensor(sourceTensor).\n",
            "  batch = [torch.tensor(t) for t in dataset[i]]\n"
          ]
        },
        {
          "output_type": "display_data",
          "data": {
            "text/plain": [
              "  0%|          | 0/10000 [00:00<?, ?it/s]"
            ],
            "application/vnd.jupyter.widget-view+json": {
              "version_major": 2,
              "version_minor": 0,
              "model_id": "fdd24c9cb7df4fceba882e1a79c2d9c8"
            }
          },
          "metadata": {}
        }
      ]
    },
    {
      "cell_type": "code",
      "source": [
        "# from torchvision.datasets import MNIST\n",
        "# dataset = MNIST(root = 'data/', download = True)\n",
        "\n",
        "# train_dataset = MNIST(root=\"./data\", train=True, download=True, transform=ToTensor())\n",
        "# train_loader = InMemDataLoader(train_dataset,batch_size=64, shuffle=True)\n",
        "# # train_loader = DataLoader(train_dataset, batch_size=64, shuffle=True)\n",
        "# test_dataset = MNIST(root=\"./data\", train=False, download=True, transform=ToTensor())\n",
        "# test_loader = InMemDataLoader(test_dataset,batch_size=64, shuffle=True)\n",
        "# # test_loader = DataLoader(test_dataset, batch_size=64, shuffle=False)"
      ],
      "metadata": {
        "id": "KxHCqF6nRPUI"
      },
      "execution_count": 20,
      "outputs": []
    },
    {
      "cell_type": "markdown",
      "metadata": {
        "cell_id": "00024-481f7a8f-3abb-4f8f-aaba-951e8e06aafc",
        "deepnote_cell_height": 108.390625,
        "deepnote_cell_type": "markdown",
        "id": "rRYr7XmnnGO_"
      },
      "source": [
        "## SGD implementation\n",
        "\n",
        "We provide below a scaffolding for SGD. You will need to fill the TODOs while solving the assignments."
      ]
    },
    {
      "cell_type": "markdown",
      "source": [
        "### problem 2"
      ],
      "metadata": {
        "id": "lQLnlcdzsp4y"
      }
    },
    {
      "cell_type": "code",
      "source": [
        "def compute_error_rate(model, data_loader, device=\"cpu\"):\n",
        "    \"\"\"Evaluate model on all samples from the data loader.\n",
        "    \"\"\"\n",
        "    # Put the model in eval mode, and move to the evaluation device.\n",
        "    model.eval()\n",
        "    model.to(device)\n",
        "    if isinstance(data_loader, InMemDataLoader):\n",
        "        data_loader.to(device)\n",
        "\n",
        "    num_errs = 0.0\n",
        "    num_examples = 0\n",
        "    # we don't need gradient during eval!\n",
        "    with torch.no_grad():\n",
        "        for x, y in data_loader:\n",
        "            x = x.to(device)\n",
        "            y = y.to(device)\n",
        "            outputs = model.forward(x)\n",
        "            _, predictions = outputs.data.max(dim=1)\n",
        "            num_errs += (predictions != y.data).sum().item()\n",
        "            num_examples += x.size(0)\n",
        "    return num_errs / num_examples\n",
        "\n",
        "\n",
        "def plot_history(history):\n",
        "    \"\"\"Helper to plot the trainig progress over time.\"\"\"\n",
        "    plt.figure(figsize=(16, 4))\n",
        "    plt.subplot(1, 2, 1)\n",
        "    train_loss = np.array(history[\"train_losses\"])\n",
        "    plt.semilogy(np.arange(train_loss.shape[0]), train_loss, label=\"batch train loss\")\n",
        "    plt.legend()\n",
        "\n",
        "    plt.subplot(1, 2, 2)\n",
        "    train_errs = np.array(history[\"train_errs\"])\n",
        "    plt.plot(np.arange(train_errs.shape[0]), train_errs, label=\"batch train error rate\")\n",
        "    val_errs = np.array(history[\"val_errs\"])\n",
        "    plt.plot(val_errs[:, 0], val_errs[:, 1], label=\"validation error rate\", color=\"r\")\n",
        "    plt.ylim(0, 0.20)\n",
        "    plt.legend()"
      ],
      "metadata": {
        "id": "qDzx3PIg8X7q"
      },
      "execution_count": 37,
      "outputs": []
    },
    {
      "cell_type": "code",
      "execution_count": 40,
      "metadata": {
        "cell_id": "00025-2145e55b-7562-438c-bce3-8720962f9bfb",
        "deepnote_cell_height": 2460,
        "deepnote_cell_type": "code",
        "id": "WY1xG-cqnRoE"
      },
      "outputs": [],
      "source": [
        "from matplotlib import parse_version\n",
        "def SGD(model, num_epochs: int\n",
        "):\n",
        "  optimizer = optim.SGD(model.parameters(), lr=0.1, momentum=0.9, weight_decay=0.0001)\n",
        "  # optimizer = torch.optim.Adam(model.parameters( ),lr=0.1, weight_decay=0.001)\n",
        "  history = {\"train_losses\": [], \"train_errs\": [], \"val_errs\": []}\n",
        "  loss_count = []\n",
        "  for epoch in range(num_epochs):\n",
        "      model.train()\n",
        "      for i, (x, y_true) in enumerate(train_loader):\n",
        "          # if torch.cuda.is_available():\n",
        "          x = x.to(device)\n",
        "          y_true = y_true.to(device)\n",
        "          optimizer.zero_grad()\n",
        "          y_pred = model(x)\n",
        "          y_pred = y_pred.to(device)\n",
        "          loss = model.loss(y_pred, y_true)\n",
        "          loss_count.append(loss.item())\n",
        "          loss.backward()\n",
        "          optimizer.step()\n",
        "          _, y_pred_labels = torch.max(y_pred.data, 1)\n",
        "          batch_err_rate = 1.0 - torch.mean((y_pred_labels == y_true).float())\n",
        "          history[\"train_losses\"].append(loss.item())\n",
        "          history[\"train_errs\"].append(batch_err_rate.item())\n",
        "          if (i + 1) % 200 == 0:\n",
        "              print(\n",
        "                  f\"Epoch {epoch+1}, Batch {i+1}, Loss: {loss.item():.4f}, Error Rate: {batch_err_rate.item()*100:.2f}%\"\n",
        "              )\n",
        "      model.eval()\n",
        "      val_err_rate = 0.0\n",
        "      with torch.no_grad():\n",
        "          for x, y_true in test_loader:\n",
        "              y_pred = model(x)\n",
        "              y_true = y_true.to(device)\n",
        "              _, y_pred_labels = torch.max(y_pred.data, 1)\n",
        "              y_pred_labels = y_pred_labels.to(device)\n",
        "              batch_err_rate = 1.0 - torch.mean((y_pred_labels == y_true).float())\n",
        "              val_err_rate += batch_err_rate.item() * x.size(0)\n",
        "      val_err_rate /= len(test_loader.dataset)\n",
        "      history[\"val_errs\"].append((epoch+1, val_err_rate))\n",
        "      print(f\"Validation error rate: {val_err_rate*100:.2f}%\")\n",
        "  plt.figure('PyTorch_CNN_Loss')\n",
        "  plt.plot(loss_count, label='Loss')\n",
        "  plt.legend('Loss') \n",
        "  plt.show()\n"
      ]
    },
    {
      "cell_type": "code",
      "execution_count": 45,
      "metadata": {
        "cell_id": "00026-06863917-ddb1-425f-9d6e-93c06b30e87b",
        "colab": {
          "base_uri": "https://localhost:8080/",
          "height": 1000
        },
        "deepnote_cell_height": 1464.5625,
        "deepnote_cell_type": "code",
        "deepnote_output_heights": [
          null,
          249.5,
          251.078125
        ],
        "id": "2gmDmR2K6CVQ",
        "outputId": "b5e552b9-5e05-474f-f438-baa9195ad9e6"
      },
      "outputs": [
        {
          "output_type": "stream",
          "name": "stdout",
          "text": [
            "Epoch 1, Batch 200, Loss: 0.6450, Error Rate: 18.75%\n",
            "Epoch 1, Batch 400, Loss: 0.4112, Error Rate: 9.38%\n",
            "Epoch 1, Batch 600, Loss: 0.3652, Error Rate: 10.94%\n",
            "Epoch 1, Batch 800, Loss: 0.2278, Error Rate: 7.81%\n",
            "Validation error rate: 7.67%\n",
            "Epoch 2, Batch 200, Loss: 0.1117, Error Rate: 4.69%\n",
            "Epoch 2, Batch 400, Loss: 0.3264, Error Rate: 3.12%\n",
            "Epoch 2, Batch 600, Loss: 0.1296, Error Rate: 3.12%\n",
            "Epoch 2, Batch 800, Loss: 0.0594, Error Rate: 1.56%\n",
            "Validation error rate: 6.63%\n",
            "Epoch 3, Batch 200, Loss: 0.0600, Error Rate: 3.12%\n",
            "Epoch 3, Batch 400, Loss: 0.3312, Error Rate: 3.12%\n",
            "Epoch 3, Batch 600, Loss: 0.1264, Error Rate: 4.69%\n",
            "Epoch 3, Batch 800, Loss: 0.0474, Error Rate: 3.12%\n",
            "Validation error rate: 6.71%\n",
            "Epoch 4, Batch 200, Loss: 0.0369, Error Rate: 1.56%\n",
            "Epoch 4, Batch 400, Loss: 0.2819, Error Rate: 3.12%\n",
            "Epoch 4, Batch 600, Loss: 0.0659, Error Rate: 4.69%\n",
            "Epoch 4, Batch 800, Loss: 0.0417, Error Rate: 3.12%\n",
            "Validation error rate: 5.76%\n",
            "Epoch 5, Batch 200, Loss: 0.0218, Error Rate: 0.00%\n",
            "Epoch 5, Batch 400, Loss: 0.2685, Error Rate: 3.12%\n",
            "Epoch 5, Batch 600, Loss: 0.0773, Error Rate: 4.69%\n",
            "Epoch 5, Batch 800, Loss: 0.0457, Error Rate: 1.56%\n",
            "Validation error rate: 4.76%\n",
            "Epoch 6, Batch 200, Loss: 0.0218, Error Rate: 0.00%\n",
            "Epoch 6, Batch 400, Loss: 0.2121, Error Rate: 3.12%\n",
            "Epoch 6, Batch 600, Loss: 0.0829, Error Rate: 4.69%\n",
            "Epoch 6, Batch 800, Loss: 0.0234, Error Rate: 0.00%\n",
            "Validation error rate: 5.11%\n",
            "Epoch 7, Batch 200, Loss: 0.0270, Error Rate: 0.00%\n",
            "Epoch 7, Batch 400, Loss: 0.2129, Error Rate: 3.12%\n",
            "Epoch 7, Batch 600, Loss: 0.0900, Error Rate: 3.12%\n",
            "Epoch 7, Batch 800, Loss: 0.0343, Error Rate: 1.56%\n",
            "Validation error rate: 4.25%\n",
            "Epoch 8, Batch 200, Loss: 0.0110, Error Rate: 0.00%\n",
            "Epoch 8, Batch 400, Loss: 0.1914, Error Rate: 3.12%\n",
            "Epoch 8, Batch 600, Loss: 0.0740, Error Rate: 3.12%\n",
            "Epoch 8, Batch 800, Loss: 0.0552, Error Rate: 1.56%\n",
            "Validation error rate: 4.64%\n",
            "Epoch 9, Batch 200, Loss: 0.0155, Error Rate: 0.00%\n",
            "Epoch 9, Batch 400, Loss: 0.1353, Error Rate: 3.12%\n",
            "Epoch 9, Batch 600, Loss: 0.0657, Error Rate: 4.69%\n",
            "Epoch 9, Batch 800, Loss: 0.0228, Error Rate: 0.00%\n",
            "Validation error rate: 4.00%\n",
            "Epoch 10, Batch 200, Loss: 0.0103, Error Rate: 0.00%\n",
            "Epoch 10, Batch 400, Loss: 0.1032, Error Rate: 3.12%\n",
            "Epoch 10, Batch 600, Loss: 0.0575, Error Rate: 3.12%\n",
            "Epoch 10, Batch 800, Loss: 0.0326, Error Rate: 1.56%\n",
            "Validation error rate: 3.97%\n"
          ]
        },
        {
          "output_type": "display_data",
          "data": {
            "text/plain": [
              "<Figure size 640x480 with 1 Axes>"
            ],
            "image/png": "[encoded data removed]"
          },
          "metadata": {}
        },
        {
          "output_type": "stream",
          "name": "stdout",
          "text": [
            "training took 15s.\n"
          ]
        }
      ],
      "source": [
        "class Model_p2(nn.Module):\n",
        "    def __init__(self):\n",
        "        super(Model_p2, self).__init__()\n",
        "        self.fc1 = torch.nn.Linear(784, 100)\n",
        "        self.fc2 = torch.nn.Linear(100, 10)\n",
        "    def forward(self, X):\n",
        "        X = X.view(-1, 784)\n",
        "        X = X.to(device)\n",
        "        X = F.relu(self.fc1(X))\n",
        "        X = self.fc2(X)\n",
        "        return X\n",
        "    def loss(self, Out, Targets):\n",
        "        return F.cross_entropy(Out, Targets)\n",
        "\n",
        "device = torch.device(\"cuda\" if torch.cuda.is_available() else \"cpu\")\n",
        "model = Model_p2().to(device)\n",
        "# model.to(device)\n",
        "with torch.no_grad():\n",
        "    # Initialize parameters\n",
        "    for name, p in model.named_parameters():\n",
        "        if \"weight\" in name:\n",
        "            p.normal_(0, 0.5)\n",
        "        elif \"bias\" in name:\n",
        "            p.zero_()\n",
        "        else:\n",
        "            raise ValueError('Unknown parameter name \"%s\"' % name)\n",
        "\n",
        "# On GPU enabled devices set device='cuda' else set device='cpu'\n",
        "t_start = time.time()\n",
        "SGD(model,num_epochs = 10)\n",
        "print(f\"training took {time.time() - t_start:.0f}s.\")\n"
      ]
    },
    {
      "cell_type": "code",
      "source": [
        "class Model_p3(nn.Module):\n",
        "    def __init__(self):\n",
        "        super(Model_p3, self).__init__()\n",
        "        self.hidden1 = nn.Sequential(nn.Linear(28*28, 200), nn.BatchNorm1d(200), nn.ReLU(True))\n",
        "        self.hidden2 = nn.Sequential(nn.Linear(200, 200), nn.BatchNorm1d(200), nn.ReLU(True))\n",
        "        self.hidden3 = nn.Sequential(nn.Linear(200, 200), nn.BatchNorm1d(200), nn.ReLU(True))\n",
        "        self.predict = nn.Linear(200, 10)\n",
        "    def forward(self, x):\n",
        "        x = x.view(x.size(0), -1)\n",
        "        x = x.to(device)\n",
        "        x = self.hidden1(x)\n",
        "        x = self.hidden2(x)\n",
        "        x = self.hidden3(x)\n",
        "        x = self.predict(x)\n",
        "        return x\n",
        "    def loss(self, Out, Targets):\n",
        "        return F.cross_entropy(Out, Targets)\n",
        "\n",
        "device = torch.device(\"cuda\" if torch.cuda.is_available() else \"cpu\")\n",
        "net_mnist = Model_p3()\n",
        "net_mnist.to(device)\n",
        "\n",
        "\n",
        "t_start = time.time()\n",
        "SGD(net_mnist,num_epochs =10)\n",
        "print(f\"training took {time.time() - t_start:.0f}s.\")\n"
      ],
      "metadata": {
        "colab": {
          "base_uri": "https://localhost:8080/",
          "height": 1000
        },
        "id": "lLXF5M-4yOlN",
        "outputId": "786d13fe-0fd0-4434-93bd-93ff491564f9"
      },
      "execution_count": 47,
      "outputs": [
        {
          "output_type": "stream",
          "name": "stdout",
          "text": [
            "Epoch 1, Batch 200, Loss: 0.2789, Error Rate: 4.69%\n",
            "Epoch 1, Batch 400, Loss: 0.2030, Error Rate: 3.12%\n",
            "Epoch 1, Batch 600, Loss: 0.1969, Error Rate: 7.81%\n",
            "Epoch 1, Batch 800, Loss: 0.1162, Error Rate: 3.12%\n",
            "Validation error rate: 4.22%\n",
            "Epoch 2, Batch 200, Loss: 0.0547, Error Rate: 1.56%\n",
            "Epoch 2, Batch 400, Loss: 0.1751, Error Rate: 4.69%\n",
            "Epoch 2, Batch 600, Loss: 0.1019, Error Rate: 6.25%\n",
            "Epoch 2, Batch 800, Loss: 0.0868, Error Rate: 3.12%\n",
            "Validation error rate: 3.38%\n",
            "Epoch 3, Batch 200, Loss: 0.0732, Error Rate: 3.12%\n",
            "Epoch 3, Batch 400, Loss: 0.1508, Error Rate: 3.12%\n",
            "Epoch 3, Batch 600, Loss: 0.0197, Error Rate: 0.00%\n",
            "Epoch 3, Batch 800, Loss: 0.0460, Error Rate: 1.56%\n",
            "Validation error rate: 4.03%\n",
            "Epoch 4, Batch 200, Loss: 0.0235, Error Rate: 0.00%\n",
            "Epoch 4, Batch 400, Loss: 0.0817, Error Rate: 3.12%\n",
            "Epoch 4, Batch 600, Loss: 0.0290, Error Rate: 1.56%\n",
            "Epoch 4, Batch 800, Loss: 0.0163, Error Rate: 0.00%\n",
            "Validation error rate: 3.26%\n",
            "Epoch 5, Batch 200, Loss: 0.0720, Error Rate: 1.56%\n",
            "Epoch 5, Batch 400, Loss: 0.0518, Error Rate: 1.56%\n",
            "Epoch 5, Batch 600, Loss: 0.0272, Error Rate: 0.00%\n",
            "Epoch 5, Batch 800, Loss: 0.0328, Error Rate: 1.56%\n",
            "Validation error rate: 3.84%\n",
            "Epoch 6, Batch 200, Loss: 0.0303, Error Rate: 1.56%\n",
            "Epoch 6, Batch 400, Loss: 0.0301, Error Rate: 1.56%\n",
            "Epoch 6, Batch 600, Loss: 0.0568, Error Rate: 1.56%\n",
            "Epoch 6, Batch 800, Loss: 0.0200, Error Rate: 1.56%\n",
            "Validation error rate: 3.03%\n",
            "Epoch 7, Batch 200, Loss: 0.0250, Error Rate: 1.56%\n",
            "Epoch 7, Batch 400, Loss: 0.0825, Error Rate: 3.12%\n",
            "Epoch 7, Batch 600, Loss: 0.0423, Error Rate: 3.12%\n",
            "Epoch 7, Batch 800, Loss: 0.0061, Error Rate: 0.00%\n",
            "Validation error rate: 3.17%\n",
            "Epoch 8, Batch 200, Loss: 0.0079, Error Rate: 0.00%\n",
            "Epoch 8, Batch 400, Loss: 0.0576, Error Rate: 1.56%\n",
            "Epoch 8, Batch 600, Loss: 0.0097, Error Rate: 0.00%\n",
            "Epoch 8, Batch 800, Loss: 0.0230, Error Rate: 0.00%\n",
            "Validation error rate: 3.55%\n",
            "Epoch 9, Batch 200, Loss: 0.0135, Error Rate: 0.00%\n",
            "Epoch 9, Batch 400, Loss: 0.0137, Error Rate: 0.00%\n",
            "Epoch 9, Batch 600, Loss: 0.0338, Error Rate: 1.56%\n",
            "Epoch 9, Batch 800, Loss: 0.0063, Error Rate: 0.00%\n",
            "Validation error rate: 2.73%\n",
            "Epoch 10, Batch 200, Loss: 0.0248, Error Rate: 1.56%\n",
            "Epoch 10, Batch 400, Loss: 0.0687, Error Rate: 3.12%\n",
            "Epoch 10, Batch 600, Loss: 0.0126, Error Rate: 0.00%\n",
            "Epoch 10, Batch 800, Loss: 0.0431, Error Rate: 1.56%\n",
            "Validation error rate: 2.83%\n"
          ]
        },
        {
          "output_type": "display_data",
          "data": {
            "text/plain": [
              "<Figure size 640x480 with 1 Axes>"
            ],
            "image/png": "[encoded data removed]"
          },
          "metadata": {}
        },
        {
          "output_type": "stream",
          "name": "stdout",
          "text": [
            "training took 29s.\n"
          ]
        }
      ]
    },
    {
      "cell_type": "markdown",
      "source": [
        "### problem 4 cnn"
      ],
      "metadata": {
        "id": "JT2D8GiFztQh"
      }
    },
    {
      "cell_type": "code",
      "source": [
        "class CNNnet(torch.nn.Module):\n",
        "    def __init__(self):\n",
        "        super(CNNnet,self).__init__()\n",
        "        self.conv1 = torch.nn.Sequential(torch.nn.Conv2d(in_channels=1,\n",
        "                            out_channels=16,\n",
        "                            kernel_size=3,\n",
        "                            stride=2,\n",
        "                            padding=1), torch.nn.ReLU())\n",
        "        self.conv2 = torch.nn.Sequential(torch.nn.Conv2d(16,32,3,2,1),torch.nn.ReLU())\n",
        "        self.conv3 = torch.nn.Sequential(torch.nn.Conv2d(32,64,3,2,1),torch.nn.ReLU())\n",
        "        self.conv4 = torch.nn.Sequential(torch.nn.Conv2d(64,64,2,2,0),torch.nn.ReLU())\n",
        "        self.mlp1 = torch.nn.Linear(2*2*64,100)\n",
        "        self.mlp2 = torch.nn.Linear(100,10)\n",
        "    def forward(self,x):\n",
        "        x = x.to(device)\n",
        "        x = self.conv1(x)\n",
        "        x = self.conv2(x)\n",
        "        x = self.conv3(x)\n",
        "        x = self.conv4(x)\n",
        "        x = self.mlp1(x.view(x.size(0),-1))\n",
        "        x = self.mlp2(x)\n",
        "        return x\n",
        "    def loss(self, Out, Targets):\n",
        "        return F.cross_entropy(Out, Targets)"
      ],
      "metadata": {
        "id": "S390xdTFzvF8"
      },
      "execution_count": 48,
      "outputs": []
    },
    {
      "cell_type": "code",
      "source": [
        "def cnn_train(model,num_epochs:int, train_loader, test_loader) :\n",
        "    model = CNNnet()\n",
        "    model.to(device)\n",
        "    # opt = torch.optim.Adam(model.parameters( ),lr=0.001)\n",
        "    # opt = torch.optim.SGD(model.parameters( ), lr=0.001, momentum=0.8)\n",
        "    opt = torch.optim.RMSprop(model.parameters( ), lr=0.001, alpha=0.9)\n",
        "    history = {\"train_losses\": [], \"train_errs\": [], \"val_errs\": []}\n",
        "    loss_count = [] \n",
        "    loss_func = torch.nn.CrossEntropyLoss( )\n",
        "    for epoch in range(num_epochs):\n",
        "        for i, (x, y_true) in enumerate(train_loader):\n",
        "            x = x.to(device) \n",
        "            y_true = y_true.to(device) \n",
        "            out = model(x) \n",
        "            y_pred = model(x)\n",
        "            y_pred = y_pred.to(device)\n",
        "            loss = loss_func(out, y_true)\n",
        "            opt.zero_grad()  \n",
        "            loss.backward() \n",
        "            opt.step()   \n",
        "            _, y_pred_labels = torch.max(y_pred.data, 1)\n",
        "            batch_err_rate = 1.0 - torch.mean((y_pred_labels == y_true).float())\n",
        "            history[\"train_losses\"].append(loss.item())\n",
        "            history[\"train_errs\"].append(batch_err_rate.item())\n",
        "            if (i + 1) % 200 == 0:\n",
        "              print(\n",
        "                  f\"Epoch {epoch+1}, Batch {i+1}, Loss: {loss.item():.4f}, Error Rate: {batch_err_rate.item()*100:.2f}%\"\n",
        "              )\n",
        "        model.eval()\n",
        "        val_err_rate = 0.0\n",
        "        with torch.no_grad():\n",
        "            for x, y_true in test_loader:\n",
        "                y_pred = model(x)\n",
        "                y_true = y_true.to(device)\n",
        "                _, y_pred_labels = torch.max(y_pred.data, 1)\n",
        "                y_pred_labels = y_pred_labels.to(device)\n",
        "                batch_err_rate = 1.0 - torch.mean((y_pred_labels == y_true).float())\n",
        "                val_err_rate += batch_err_rate.item() * x.size(0)\n",
        "        val_err_rate /= len(test_loader.dataset)\n",
        "        history[\"val_errs\"].append((epoch+1, val_err_rate))\n",
        "        print(f\"Validation error rate: {val_err_rate*100:.2f}%\")"
      ],
      "metadata": {
        "id": "lNzDijQX0Czw"
      },
      "execution_count": 49,
      "outputs": []
    },
    {
      "cell_type": "code",
      "source": [
        "CNNmodel = CNNnet()\n",
        "CNNmodel = CNNmodel.to(device)\n",
        "t_start = time.time()\n",
        "cnn_train(CNNmodel,10,train_loader,test_loader)\n",
        "print(f\"training took {time.time() - t_start:.0f}s.\")\n"
      ],
      "metadata": {
        "colab": {
          "base_uri": "https://localhost:8080/"
        },
        "id": "xO8ht5jO0OQG",
        "outputId": "6fed962b-2ee0-4807-ea2b-e0de1c7e8e47"
      },
      "execution_count": 50,
      "outputs": [
        {
          "output_type": "stream",
          "name": "stdout",
          "text": [
            "Epoch 1, Batch 200, Loss: 0.3622, Error Rate: 14.06%\n",
            "Epoch 1, Batch 400, Loss: 0.2505, Error Rate: 3.12%\n",
            "Epoch 1, Batch 600, Loss: 0.2315, Error Rate: 7.81%\n",
            "Epoch 1, Batch 800, Loss: 0.0957, Error Rate: 1.56%\n",
            "Validation error rate: 3.49%\n",
            "Epoch 2, Batch 200, Loss: 0.0855, Error Rate: 3.12%\n",
            "Epoch 2, Batch 400, Loss: 0.1719, Error Rate: 3.12%\n",
            "Epoch 2, Batch 600, Loss: 0.1651, Error Rate: 6.25%\n",
            "Epoch 2, Batch 800, Loss: 0.0418, Error Rate: 1.56%\n",
            "Validation error rate: 2.09%\n",
            "Epoch 3, Batch 200, Loss: 0.0323, Error Rate: 1.56%\n",
            "Epoch 3, Batch 400, Loss: 0.1627, Error Rate: 3.12%\n",
            "Epoch 3, Batch 600, Loss: 0.1675, Error Rate: 4.69%\n",
            "Epoch 3, Batch 800, Loss: 0.0153, Error Rate: 1.56%\n",
            "Validation error rate: 1.83%\n",
            "Epoch 4, Batch 200, Loss: 0.0239, Error Rate: 1.56%\n",
            "Epoch 4, Batch 400, Loss: 0.1471, Error Rate: 3.12%\n",
            "Epoch 4, Batch 600, Loss: 0.1610, Error Rate: 6.25%\n",
            "Epoch 4, Batch 800, Loss: 0.0049, Error Rate: 0.00%\n",
            "Validation error rate: 1.81%\n",
            "Epoch 5, Batch 200, Loss: 0.0045, Error Rate: 0.00%\n",
            "Epoch 5, Batch 400, Loss: 0.1375, Error Rate: 3.12%\n",
            "Epoch 5, Batch 600, Loss: 0.1147, Error Rate: 3.12%\n",
            "Epoch 5, Batch 800, Loss: 0.0010, Error Rate: 0.00%\n",
            "Validation error rate: 1.82%\n",
            "Epoch 6, Batch 200, Loss: 0.0058, Error Rate: 0.00%\n",
            "Epoch 6, Batch 400, Loss: 0.0882, Error Rate: 3.12%\n",
            "Epoch 6, Batch 600, Loss: 0.0780, Error Rate: 1.56%\n",
            "Epoch 6, Batch 800, Loss: 0.0007, Error Rate: 0.00%\n",
            "Validation error rate: 1.75%\n",
            "Epoch 7, Batch 200, Loss: 0.0032, Error Rate: 0.00%\n",
            "Epoch 7, Batch 400, Loss: 0.0630, Error Rate: 3.12%\n",
            "Epoch 7, Batch 600, Loss: 0.1026, Error Rate: 3.12%\n",
            "Epoch 7, Batch 800, Loss: 0.0003, Error Rate: 0.00%\n",
            "Validation error rate: 1.71%\n",
            "Epoch 8, Batch 200, Loss: 0.0019, Error Rate: 0.00%\n",
            "Epoch 8, Batch 400, Loss: 0.0428, Error Rate: 3.12%\n",
            "Epoch 8, Batch 600, Loss: 0.0371, Error Rate: 3.12%\n",
            "Epoch 8, Batch 800, Loss: 0.0001, Error Rate: 0.00%\n",
            "Validation error rate: 1.76%\n",
            "Epoch 9, Batch 200, Loss: 0.0075, Error Rate: 0.00%\n",
            "Epoch 9, Batch 400, Loss: 0.0372, Error Rate: 1.56%\n",
            "Epoch 9, Batch 600, Loss: 0.0908, Error Rate: 3.12%\n",
            "Epoch 9, Batch 800, Loss: 0.0000, Error Rate: 0.00%\n",
            "Validation error rate: 1.59%\n",
            "Epoch 10, Batch 200, Loss: 0.0075, Error Rate: 0.00%\n",
            "Epoch 10, Batch 400, Loss: 0.0105, Error Rate: 0.00%\n",
            "Epoch 10, Batch 600, Loss: 0.0234, Error Rate: 1.56%\n",
            "Epoch 10, Batch 800, Loss: 0.0002, Error Rate: 0.00%\n",
            "Validation error rate: 1.55%\n",
            "training took 39s.\n"
          ]
        }
      ]
    },
    {
      "cell_type": "markdown",
      "source": [
        "# Problem 5"
      ],
      "metadata": {
        "id": "Au_cycprDzga"
      }
    },
    {
      "cell_type": "code",
      "source": [
        "class cnnNet2(torch.nn.Module):\n",
        "    def __init__(self):\n",
        "        super(cnnNet2, self).__init__()\n",
        "        self.conv1 = torch.nn.Conv2d(1, 32, kernel_size=(3, 3), stride=(1, 1))\n",
        "        self.conv2 = torch.nn.Conv2d(32, 64, kernel_size=(3, 3), stride=(1, 1))\n",
        "        self.dropout1 = torch.nn.Dropout(0.25)\n",
        "        self.dropout2 = torch.nn.Dropout(0.5)\n",
        "        self.fc1 = torch.nn.Linear(9216, 128)\n",
        "        self.fc2 = torch.nn.Linear(128, 10)\n",
        "\n",
        "    def forward(self, x):\n",
        "        x = x.to(device)\n",
        "        x = self.conv1(x)\n",
        "        x = F.relu(x)\n",
        "        x = self.conv2(x)\n",
        "        x = F.relu(x)\n",
        "        x = F.max_pool2d(x, 2)\n",
        "        x = self.dropout1(x)\n",
        "        x = torch.flatten(x, 1)\n",
        "        x = self.fc1(x)\n",
        "        x = F.relu(x)\n",
        "        x = self.dropout2(x)\n",
        "        x = self.fc2(x)\n",
        "        x = F.log_softmax(x, dim=1)\n",
        "        return x\n"
      ],
      "metadata": {
        "id": "KN0I9NKcD3z4"
      },
      "execution_count": 51,
      "outputs": []
    },
    {
      "cell_type": "code",
      "source": [
        "CNNmodel2 = cnnNet2()\n",
        "CNNmodel2 = CNNmodel2.to(device)\n",
        "t_start = time.time()\n",
        "cnn_train(CNNmodel2,10,train_loader,test_loader)\n",
        "print(f\"training took {time.time() - t_start:.0f}s.\")\n"
      ],
      "metadata": {
        "colab": {
          "base_uri": "https://localhost:8080/"
        },
        "id": "9Gz1qA-dEgHv",
        "outputId": "b56b8f19-65a8-436a-93e5-8de673084db7"
      },
      "execution_count": 52,
      "outputs": [
        {
          "output_type": "stream",
          "name": "stdout",
          "text": [
            "Epoch 1, Batch 200, Loss: 0.3575, Error Rate: 10.94%\n",
            "Epoch 1, Batch 400, Loss: 0.2475, Error Rate: 4.69%\n",
            "Epoch 1, Batch 600, Loss: 0.1888, Error Rate: 6.25%\n",
            "Epoch 1, Batch 800, Loss: 0.1078, Error Rate: 3.12%\n",
            "Validation error rate: 3.70%\n",
            "Epoch 2, Batch 200, Loss: 0.0591, Error Rate: 1.56%\n",
            "Epoch 2, Batch 400, Loss: 0.1753, Error Rate: 3.12%\n",
            "Epoch 2, Batch 600, Loss: 0.0996, Error Rate: 3.12%\n",
            "Epoch 2, Batch 800, Loss: 0.0296, Error Rate: 1.56%\n",
            "Validation error rate: 2.37%\n",
            "Epoch 3, Batch 200, Loss: 0.0270, Error Rate: 0.00%\n",
            "Epoch 3, Batch 400, Loss: 0.1743, Error Rate: 3.12%\n",
            "Epoch 3, Batch 600, Loss: 0.1182, Error Rate: 4.69%\n",
            "Epoch 3, Batch 800, Loss: 0.0423, Error Rate: 1.56%\n",
            "Validation error rate: 2.14%\n",
            "Epoch 4, Batch 200, Loss: 0.0141, Error Rate: 0.00%\n",
            "Epoch 4, Batch 400, Loss: 0.1672, Error Rate: 3.12%\n",
            "Epoch 4, Batch 600, Loss: 0.1009, Error Rate: 3.12%\n",
            "Epoch 4, Batch 800, Loss: 0.0057, Error Rate: 0.00%\n",
            "Validation error rate: 1.82%\n",
            "Epoch 5, Batch 200, Loss: 0.0107, Error Rate: 0.00%\n",
            "Epoch 5, Batch 400, Loss: 0.1788, Error Rate: 3.12%\n",
            "Epoch 5, Batch 600, Loss: 0.0843, Error Rate: 3.12%\n",
            "Epoch 5, Batch 800, Loss: 0.0023, Error Rate: 0.00%\n",
            "Validation error rate: 1.74%\n",
            "Epoch 6, Batch 200, Loss: 0.0098, Error Rate: 0.00%\n",
            "Epoch 6, Batch 400, Loss: 0.1284, Error Rate: 3.12%\n",
            "Epoch 6, Batch 600, Loss: 0.0803, Error Rate: 3.12%\n",
            "Epoch 6, Batch 800, Loss: 0.0008, Error Rate: 0.00%\n",
            "Validation error rate: 1.59%\n",
            "Epoch 7, Batch 200, Loss: 0.0025, Error Rate: 0.00%\n",
            "Epoch 7, Batch 400, Loss: 0.0746, Error Rate: 1.56%\n",
            "Epoch 7, Batch 600, Loss: 0.0360, Error Rate: 1.56%\n",
            "Epoch 7, Batch 800, Loss: 0.0008, Error Rate: 0.00%\n",
            "Validation error rate: 1.81%\n",
            "Epoch 8, Batch 200, Loss: 0.0069, Error Rate: 0.00%\n",
            "Epoch 8, Batch 400, Loss: 0.0272, Error Rate: 1.56%\n",
            "Epoch 8, Batch 600, Loss: 0.0530, Error Rate: 4.69%\n",
            "Epoch 8, Batch 800, Loss: 0.0001, Error Rate: 0.00%\n",
            "Validation error rate: 1.42%\n",
            "Epoch 9, Batch 200, Loss: 0.0018, Error Rate: 0.00%\n",
            "Epoch 9, Batch 400, Loss: 0.0347, Error Rate: 1.56%\n",
            "Epoch 9, Batch 600, Loss: 0.0384, Error Rate: 3.12%\n",
            "Epoch 9, Batch 800, Loss: 0.0010, Error Rate: 0.00%\n",
            "Validation error rate: 1.61%\n",
            "Epoch 10, Batch 200, Loss: 0.0036, Error Rate: 0.00%\n",
            "Epoch 10, Batch 400, Loss: 0.0347, Error Rate: 1.56%\n",
            "Epoch 10, Batch 600, Loss: 0.0577, Error Rate: 1.56%\n",
            "Epoch 10, Batch 800, Loss: 0.0001, Error Rate: 0.00%\n",
            "Validation error rate: 1.72%\n",
            "training took 42s.\n"
          ]
        }
      ]
    },
    {
      "cell_type": "markdown",
      "source": [
        "# problem 6"
      ],
      "metadata": {
        "id": "SXjCQfvCnLaM"
      }
    },
    {
      "cell_type": "code",
      "source": [],
      "metadata": {
        "colab": {
          "base_uri": "https://localhost:8080/",
          "height": 105,
          "referenced_widgets": [
            "c254d3f4d1554715bc7b406513f97943",
            "4e1b2b39d1b648089c6295220462f6a5",
            "82185e0c2a914db38cd5ba62ce02e864",
            "5b93fccff97548828c3d8a61c1148083",
            "55dbd6a757674c2e94d32b404c3d8eea",
            "24365704ed134d37bec6198b10257019",
            "69ee23a4610a4e43bd45ccaca861986b",
            "86f7046578874e84a1096bd6e7a9d042",
            "8a8f7fe1b3df47dda6d6d72b57979a16",
            "f5d54680153c47d5912cbcec7be220aa",
            "6ce64cc827a54562bbc3f4c642b9ec38"
          ]
        },
        "id": "DPPyxenlnNhy",
        "outputId": "9a7b7188-3f08-4e6e-e32f-efdefcf88a7d"
      },
      "execution_count": 35,
      "outputs": [
        {
          "output_type": "display_data",
          "data": {
            "text/plain": [
              "  0%|          | 0/60000 [00:00<?, ?it/s]"
            ],
            "application/vnd.jupyter.widget-view+json": {
              "version_major": 2,
              "version_minor": 0,
              "model_id": "c254d3f4d1554715bc7b406513f97943"
            }
          },
          "metadata": {}
        },
        {
          "output_type": "stream",
          "name": "stderr",
          "text": [
            "<ipython-input-15-f2b633125296>:20: UserWarning: To copy construct from a tensor, it is recommended to use sourceTensor.clone().detach() or sourceTensor.clone().detach().requires_grad_(True), rather than torch.tensor(sourceTensor).\n",
            "  batch = [torch.tensor(t) for t in dataset[i]]\n"
          ]
        }
      ]
    }
  ],
  "metadata": {
    "accelerator": "GPU",
    "colab": {
      "provenance": [],
      "include_colab_link": true
    },
    "deepnote": {},
    "deepnote_execution_queue": [],
    "deepnote_notebook_id": "ffaf5b3e-ad2e-45f4-b61f-77edfc82388b",
    "kernelspec": {
      "display_name": "Python 3 (ipykernel)",
      "language": "python",
      "name": "python3"
    },
    "language_info": {
      "codemirror_mode": {
        "name": "ipython",
        "version": 3
      },
      "file_extension": ".py",
      "mimetype": "text/x-python",
      "name": "python",
      "nbconvert_exporter": "python",
      "pygments_lexer": "ipython3",
      "version": "3.9.16"
    },
    "widgets": {
      "application/vnd.jupyter.widget-state+json": {
        "6b620f43d935497b90fae9c9a5213311": {
          "model_module": "@jupyter-widgets/controls",
          "model_name": "HBoxModel",
          "model_module_version": "1.5.0",
          "state": {
            "_dom_classes": [],
            "_model_module": "@jupyter-widgets/controls",
            "_model_module_version": "1.5.0",
            "_model_name": "HBoxModel",
            "_view_count": null,
            "_view_module": "@jupyter-widgets/controls",
            "_view_module_version": "1.5.0",
            "_view_name": "HBoxView",
            "box_style": "",
            "children": [
              "IPY_MODEL_a0f447bfe59f42839366a214c16bcf8a",
              "IPY_MODEL_3b1f6ab2eaab431599bb67efaf0b8b99",
              "IPY_MODEL_a7eeff06155643f9a59d5424eef11718"
            ],
            "layout": "IPY_MODEL_4f9f92d31e084e20ac7b971ad9bcf3e7"
          }
        },
        "a0f447bfe59f42839366a214c16bcf8a": {
          "model_module": "@jupyter-widgets/controls",
          "model_name": "HTMLModel",
          "model_module_version": "1.5.0",
          "state": {
            "_dom_classes": [],
            "_model_module": "@jupyter-widgets/controls",
            "_model_module_version": "1.5.0",
            "_model_name": "HTMLModel",
            "_view_count": null,
            "_view_module": "@jupyter-widgets/controls",
            "_view_module_version": "1.5.0",
            "_view_name": "HTMLView",
            "description": "",
            "description_tooltip": null,
            "layout": "IPY_MODEL_aba99a7486ff40a3807f69500fa3f0a1",
            "placeholder": "​",
            "style": "IPY_MODEL_751acbc63ca14659ac6bbee63eea9b06",
            "value": "100%"
          }
        },
        "3b1f6ab2eaab431599bb67efaf0b8b99": {
          "model_module": "@jupyter-widgets/controls",
          "model_name": "FloatProgressModel",
          "model_module_version": "1.5.0",
          "state": {
            "_dom_classes": [],
            "_model_module": "@jupyter-widgets/controls",
            "_model_module_version": "1.5.0",
            "_model_name": "FloatProgressModel",
            "_view_count": null,
            "_view_module": "@jupyter-widgets/controls",
            "_view_module_version": "1.5.0",
            "_view_name": "ProgressView",
            "bar_style": "success",
            "description": "",
            "description_tooltip": null,
            "layout": "IPY_MODEL_45bf87e97ee64867a87907c49c8f1191",
            "max": 60000,
            "min": 0,
            "orientation": "horizontal",
            "style": "IPY_MODEL_4297375b0f0c453092dcc5f86e765832",
            "value": 60000
          }
        },
        "a7eeff06155643f9a59d5424eef11718": {
          "model_module": "@jupyter-widgets/controls",
          "model_name": "HTMLModel",
          "model_module_version": "1.5.0",
          "state": {
            "_dom_classes": [],
            "_model_module": "@jupyter-widgets/controls",
            "_model_module_version": "1.5.0",
            "_model_name": "HTMLModel",
            "_view_count": null,
            "_view_module": "@jupyter-widgets/controls",
            "_view_module_version": "1.5.0",
            "_view_name": "HTMLView",
            "description": "",
            "description_tooltip": null,
            "layout": "IPY_MODEL_ab2f0cd0122f4caebddf26eff6df69ec",
            "placeholder": "​",
            "style": "IPY_MODEL_76e2baf5dea54ae6a4dbbf7765415f81",
            "value": " 60000/60000 [00:10&lt;00:00, 5428.43it/s]"
          }
        },
        "4f9f92d31e084e20ac7b971ad9bcf3e7": {
          "model_module": "@jupyter-widgets/base",
          "model_name": "LayoutModel",
          "model_module_version": "1.2.0",
          "state": {
            "_model_module": "@jupyter-widgets/base",
            "_model_module_version": "1.2.0",
            "_model_name": "LayoutModel",
            "_view_count": null,
            "_view_module": "@jupyter-widgets/base",
            "_view_module_version": "1.2.0",
            "_view_name": "LayoutView",
            "align_content": null,
            "align_items": null,
            "align_self": null,
            "border": null,
            "bottom": null,
            "display": null,
            "flex": null,
            "flex_flow": null,
            "grid_area": null,
            "grid_auto_columns": null,
            "grid_auto_flow": null,
            "grid_auto_rows": null,
            "grid_column": null,
            "grid_gap": null,
            "grid_row": null,
            "grid_template_areas": null,
            "grid_template_columns": null,
            "grid_template_rows": null,
            "height": null,
            "justify_content": null,
            "justify_items": null,
            "left": null,
            "margin": null,
            "max_height": null,
            "max_width": null,
            "min_height": null,
            "min_width": null,
            "object_fit": null,
            "object_position": null,
            "order": null,
            "overflow": null,
            "overflow_x": null,
            "overflow_y": null,
            "padding": null,
            "right": null,
            "top": null,
            "visibility": null,
            "width": null
          }
        },
        "aba99a7486ff40a3807f69500fa3f0a1": {
          "model_module": "@jupyter-widgets/base",
          "model_name": "LayoutModel",
          "model_module_version": "1.2.0",
          "state": {
            "_model_module": "@jupyter-widgets/base",
            "_model_module_version": "1.2.0",
            "_model_name": "LayoutModel",
            "_view_count": null,
            "_view_module": "@jupyter-widgets/base",
            "_view_module_version": "1.2.0",
            "_view_name": "LayoutView",
            "align_content": null,
            "align_items": null,
            "align_self": null,
            "border": null,
            "bottom": null,
            "display": null,
            "flex": null,
            "flex_flow": null,
            "grid_area": null,
            "grid_auto_columns": null,
            "grid_auto_flow": null,
            "grid_auto_rows": null,
            "grid_column": null,
            "grid_gap": null,
            "grid_row": null,
            "grid_template_areas": null,
            "grid_template_columns": null,
            "grid_template_rows": null,
            "height": null,
            "justify_content": null,
            "justify_items": null,
            "left": null,
            "margin": null,
            "max_height": null,
            "max_width": null,
            "min_height": null,
            "min_width": null,
            "object_fit": null,
            "object_position": null,
            "order": null,
            "overflow": null,
            "overflow_x": null,
            "overflow_y": null,
            "padding": null,
            "right": null,
            "top": null,
            "visibility": null,
            "width": null
          }
        },
        "751acbc63ca14659ac6bbee63eea9b06": {
          "model_module": "@jupyter-widgets/controls",
          "model_name": "DescriptionStyleModel",
          "model_module_version": "1.5.0",
          "state": {
            "_model_module": "@jupyter-widgets/controls",
            "_model_module_version": "1.5.0",
            "_model_name": "DescriptionStyleModel",
            "_view_count": null,
            "_view_module": "@jupyter-widgets/base",
            "_view_module_version": "1.2.0",
            "_view_name": "StyleView",
            "description_width": ""
          }
        },
        "45bf87e97ee64867a87907c49c8f1191": {
          "model_module": "@jupyter-widgets/base",
          "model_name": "LayoutModel",
          "model_module_version": "1.2.0",
          "state": {
            "_model_module": "@jupyter-widgets/base",
            "_model_module_version": "1.2.0",
            "_model_name": "LayoutModel",
            "_view_count": null,
            "_view_module": "@jupyter-widgets/base",
            "_view_module_version": "1.2.0",
            "_view_name": "LayoutView",
            "align_content": null,
            "align_items": null,
            "align_self": null,
            "border": null,
            "bottom": null,
            "display": null,
            "flex": null,
            "flex_flow": null,
            "grid_area": null,
            "grid_auto_columns": null,
            "grid_auto_flow": null,
            "grid_auto_rows": null,
            "grid_column": null,
            "grid_gap": null,
            "grid_row": null,
            "grid_template_areas": null,
            "grid_template_columns": null,
            "grid_template_rows": null,
            "height": null,
            "justify_content": null,
            "justify_items": null,
            "left": null,
            "margin": null,
            "max_height": null,
            "max_width": null,
            "min_height": null,
            "min_width": null,
            "object_fit": null,
            "object_position": null,
            "order": null,
            "overflow": null,
            "overflow_x": null,
            "overflow_y": null,
            "padding": null,
            "right": null,
            "top": null,
            "visibility": null,
            "width": null
          }
        },
        "4297375b0f0c453092dcc5f86e765832": {
          "model_module": "@jupyter-widgets/controls",
          "model_name": "ProgressStyleModel",
          "model_module_version": "1.5.0",
          "state": {
            "_model_module": "@jupyter-widgets/controls",
            "_model_module_version": "1.5.0",
            "_model_name": "ProgressStyleModel",
            "_view_count": null,
            "_view_module": "@jupyter-widgets/base",
            "_view_module_version": "1.2.0",
            "_view_name": "StyleView",
            "bar_color": null,
            "description_width": ""
          }
        },
        "ab2f0cd0122f4caebddf26eff6df69ec": {
          "model_module": "@jupyter-widgets/base",
          "model_name": "LayoutModel",
          "model_module_version": "1.2.0",
          "state": {
            "_model_module": "@jupyter-widgets/base",
            "_model_module_version": "1.2.0",
            "_model_name": "LayoutModel",
            "_view_count": null,
            "_view_module": "@jupyter-widgets/base",
            "_view_module_version": "1.2.0",
            "_view_name": "LayoutView",
            "align_content": null,
            "align_items": null,
            "align_self": null,
            "border": null,
            "bottom": null,
            "display": null,
            "flex": null,
            "flex_flow": null,
            "grid_area": null,
            "grid_auto_columns": null,
            "grid_auto_flow": null,
            "grid_auto_rows": null,
            "grid_column": null,
            "grid_gap": null,
            "grid_row": null,
            "grid_template_areas": null,
            "grid_template_columns": null,
            "grid_template_rows": null,
            "height": null,
            "justify_content": null,
            "justify_items": null,
            "left": null,
            "margin": null,
            "max_height": null,
            "max_width": null,
            "min_height": null,
            "min_width": null,
            "object_fit": null,
            "object_position": null,
            "order": null,
            "overflow": null,
            "overflow_x": null,
            "overflow_y": null,
            "padding": null,
            "right": null,
            "top": null,
            "visibility": null,
            "width": null
          }
        },
        "76e2baf5dea54ae6a4dbbf7765415f81": {
          "model_module": "@jupyter-widgets/controls",
          "model_name": "DescriptionStyleModel",
          "model_module_version": "1.5.0",
          "state": {
            "_model_module": "@jupyter-widgets/controls",
            "_model_module_version": "1.5.0",
            "_model_name": "DescriptionStyleModel",
            "_view_count": null,
            "_view_module": "@jupyter-widgets/base",
            "_view_module_version": "1.2.0",
            "_view_name": "StyleView",
            "description_width": ""
          }
        },
        "fdd24c9cb7df4fceba882e1a79c2d9c8": {
          "model_module": "@jupyter-widgets/controls",
          "model_name": "HBoxModel",
          "model_module_version": "1.5.0",
          "state": {
            "_dom_classes": [],
            "_model_module": "@jupyter-widgets/controls",
            "_model_module_version": "1.5.0",
            "_model_name": "HBoxModel",
            "_view_count": null,
            "_view_module": "@jupyter-widgets/controls",
            "_view_module_version": "1.5.0",
            "_view_name": "HBoxView",
            "box_style": "",
            "children": [
              "IPY_MODEL_066a0bc0a6914479a22ac586b24cbc07",
              "IPY_MODEL_2185f5bb103e43dc8f8896dfb67601af",
              "IPY_MODEL_09398729823e46a1b6794ed06b97b4e4"
            ],
            "layout": "IPY_MODEL_a091540261f846fa9988f8a7e409ea67"
          }
        },
        "066a0bc0a6914479a22ac586b24cbc07": {
          "model_module": "@jupyter-widgets/controls",
          "model_name": "HTMLModel",
          "model_module_version": "1.5.0",
          "state": {
            "_dom_classes": [],
            "_model_module": "@jupyter-widgets/controls",
            "_model_module_version": "1.5.0",
            "_model_name": "HTMLModel",
            "_view_count": null,
            "_view_module": "@jupyter-widgets/controls",
            "_view_module_version": "1.5.0",
            "_view_name": "HTMLView",
            "description": "",
            "description_tooltip": null,
            "layout": "IPY_MODEL_fd04425dbb844124b02c8e118e16ca13",
            "placeholder": "​",
            "style": "IPY_MODEL_2d4db90ffa584c139a29e17ebf39012d",
            "value": "100%"
          }
        },
        "2185f5bb103e43dc8f8896dfb67601af": {
          "model_module": "@jupyter-widgets/controls",
          "model_name": "FloatProgressModel",
          "model_module_version": "1.5.0",
          "state": {
            "_dom_classes": [],
            "_model_module": "@jupyter-widgets/controls",
            "_model_module_version": "1.5.0",
            "_model_name": "FloatProgressModel",
            "_view_count": null,
            "_view_module": "@jupyter-widgets/controls",
            "_view_module_version": "1.5.0",
            "_view_name": "ProgressView",
            "bar_style": "success",
            "description": "",
            "description_tooltip": null,
            "layout": "IPY_MODEL_791965db049e45a8bccb02006f29946d",
            "max": 10000,
            "min": 0,
            "orientation": "horizontal",
            "style": "IPY_MODEL_748ce7924ffd49cebd22cecf0028eb1a",
            "value": 10000
          }
        },
        "09398729823e46a1b6794ed06b97b4e4": {
          "model_module": "@jupyter-widgets/controls",
          "model_name": "HTMLModel",
          "model_module_version": "1.5.0",
          "state": {
            "_dom_classes": [],
            "_model_module": "@jupyter-widgets/controls",
            "_model_module_version": "1.5.0",
            "_model_name": "HTMLModel",
            "_view_count": null,
            "_view_module": "@jupyter-widgets/controls",
            "_view_module_version": "1.5.0",
            "_view_name": "HTMLView",
            "description": "",
            "description_tooltip": null,
            "layout": "IPY_MODEL_a1774abf8cba447ab22a3e7dc2e2b0a9",
            "placeholder": "​",
            "style": "IPY_MODEL_ee12351790ae4e45ab525dd3b638b1f6",
            "value": " 10000/10000 [00:01&lt;00:00, 6785.21it/s]"
          }
        },
        "a091540261f846fa9988f8a7e409ea67": {
          "model_module": "@jupyter-widgets/base",
          "model_name": "LayoutModel",
          "model_module_version": "1.2.0",
          "state": {
            "_model_module": "@jupyter-widgets/base",
            "_model_module_version": "1.2.0",
            "_model_name": "LayoutModel",
            "_view_count": null,
            "_view_module": "@jupyter-widgets/base",
            "_view_module_version": "1.2.0",
            "_view_name": "LayoutView",
            "align_content": null,
            "align_items": null,
            "align_self": null,
            "border": null,
            "bottom": null,
            "display": null,
            "flex": null,
            "flex_flow": null,
            "grid_area": null,
            "grid_auto_columns": null,
            "grid_auto_flow": null,
            "grid_auto_rows": null,
            "grid_column": null,
            "grid_gap": null,
            "grid_row": null,
            "grid_template_areas": null,
            "grid_template_columns": null,
            "grid_template_rows": null,
            "height": null,
            "justify_content": null,
            "justify_items": null,
            "left": null,
            "margin": null,
            "max_height": null,
            "max_width": null,
            "min_height": null,
            "min_width": null,
            "object_fit": null,
            "object_position": null,
            "order": null,
            "overflow": null,
            "overflow_x": null,
            "overflow_y": null,
            "padding": null,
            "right": null,
            "top": null,
            "visibility": null,
            "width": null
          }
        },
        "fd04425dbb844124b02c8e118e16ca13": {
          "model_module": "@jupyter-widgets/base",
          "model_name": "LayoutModel",
          "model_module_version": "1.2.0",
          "state": {
            "_model_module": "@jupyter-widgets/base",
            "_model_module_version": "1.2.0",
            "_model_name": "LayoutModel",
            "_view_count": null,
            "_view_module": "@jupyter-widgets/base",
            "_view_module_version": "1.2.0",
            "_view_name": "LayoutView",
            "align_content": null,
            "align_items": null,
            "align_self": null,
            "border": null,
            "bottom": null,
            "display": null,
            "flex": null,
            "flex_flow": null,
            "grid_area": null,
            "grid_auto_columns": null,
            "grid_auto_flow": null,
            "grid_auto_rows": null,
            "grid_column": null,
            "grid_gap": null,
            "grid_row": null,
            "grid_template_areas": null,
            "grid_template_columns": null,
            "grid_template_rows": null,
            "height": null,
            "justify_content": null,
            "justify_items": null,
            "left": null,
            "margin": null,
            "max_height": null,
            "max_width": null,
            "min_height": null,
            "min_width": null,
            "object_fit": null,
            "object_position": null,
            "order": null,
            "overflow": null,
            "overflow_x": null,
            "overflow_y": null,
            "padding": null,
            "right": null,
            "top": null,
            "visibility": null,
            "width": null
          }
        },
        "2d4db90ffa584c139a29e17ebf39012d": {
          "model_module": "@jupyter-widgets/controls",
          "model_name": "DescriptionStyleModel",
          "model_module_version": "1.5.0",
          "state": {
            "_model_module": "@jupyter-widgets/controls",
            "_model_module_version": "1.5.0",
            "_model_name": "DescriptionStyleModel",
            "_view_count": null,
            "_view_module": "@jupyter-widgets/base",
            "_view_module_version": "1.2.0",
            "_view_name": "StyleView",
            "description_width": ""
          }
        },
        "791965db049e45a8bccb02006f29946d": {
          "model_module": "@jupyter-widgets/base",
          "model_name": "LayoutModel",
          "model_module_version": "1.2.0",
          "state": {
            "_model_module": "@jupyter-widgets/base",
            "_model_module_version": "1.2.0",
            "_model_name": "LayoutModel",
            "_view_count": null,
            "_view_module": "@jupyter-widgets/base",
            "_view_module_version": "1.2.0",
            "_view_name": "LayoutView",
            "align_content": null,
            "align_items": null,
            "align_self": null,
            "border": null,
            "bottom": null,
            "display": null,
            "flex": null,
            "flex_flow": null,
            "grid_area": null,
            "grid_auto_columns": null,
            "grid_auto_flow": null,
            "grid_auto_rows": null,
            "grid_column": null,
            "grid_gap": null,
            "grid_row": null,
            "grid_template_areas": null,
            "grid_template_columns": null,
            "grid_template_rows": null,
            "height": null,
            "justify_content": null,
            "justify_items": null,
            "left": null,
            "margin": null,
            "max_height": null,
            "max_width": null,
            "min_height": null,
            "min_width": null,
            "object_fit": null,
            "object_position": null,
            "order": null,
            "overflow": null,
            "overflow_x": null,
            "overflow_y": null,
            "padding": null,
            "right": null,
            "top": null,
            "visibility": null,
            "width": null
          }
        },
        "748ce7924ffd49cebd22cecf0028eb1a": {
          "model_module": "@jupyter-widgets/controls",
          "model_name": "ProgressStyleModel",
          "model_module_version": "1.5.0",
          "state": {
            "_model_module": "@jupyter-widgets/controls",
            "_model_module_version": "1.5.0",
            "_model_name": "ProgressStyleModel",
            "_view_count": null,
            "_view_module": "@jupyter-widgets/base",
            "_view_module_version": "1.2.0",
            "_view_name": "StyleView",
            "bar_color": null,
            "description_width": ""
          }
        },
        "a1774abf8cba447ab22a3e7dc2e2b0a9": {
          "model_module": "@jupyter-widgets/base",
          "model_name": "LayoutModel",
          "model_module_version": "1.2.0",
          "state": {
            "_model_module": "@jupyter-widgets/base",
            "_model_module_version": "1.2.0",
            "_model_name": "LayoutModel",
            "_view_count": null,
            "_view_module": "@jupyter-widgets/base",
            "_view_module_version": "1.2.0",
            "_view_name": "LayoutView",
            "align_content": null,
            "align_items": null,
            "align_self": null,
            "border": null,
            "bottom": null,
            "display": null,
            "flex": null,
            "flex_flow": null,
            "grid_area": null,
            "grid_auto_columns": null,
            "grid_auto_flow": null,
            "grid_auto_rows": null,
            "grid_column": null,
            "grid_gap": null,
            "grid_row": null,
            "grid_template_areas": null,
            "grid_template_columns": null,
            "grid_template_rows": null,
            "height": null,
            "justify_content": null,
            "justify_items": null,
            "left": null,
            "margin": null,
            "max_height": null,
            "max_width": null,
            "min_height": null,
            "min_width": null,
            "object_fit": null,
            "object_position": null,
            "order": null,
            "overflow": null,
            "overflow_x": null,
            "overflow_y": null,
            "padding": null,
            "right": null,
            "top": null,
            "visibility": null,
            "width": null
          }
        },
        "ee12351790ae4e45ab525dd3b638b1f6": {
          "model_module": "@jupyter-widgets/controls",
          "model_name": "DescriptionStyleModel",
          "model_module_version": "1.5.0",
          "state": {
            "_model_module": "@jupyter-widgets/controls",
            "_model_module_version": "1.5.0",
            "_model_name": "DescriptionStyleModel",
            "_view_count": null,
            "_view_module": "@jupyter-widgets/base",
            "_view_module_version": "1.2.0",
            "_view_name": "StyleView",
            "description_width": ""
          }
        },
        "c254d3f4d1554715bc7b406513f97943": {
          "model_module": "@jupyter-widgets/controls",
          "model_name": "HBoxModel",
          "model_module_version": "1.5.0",
          "state": {
            "_dom_classes": [],
            "_model_module": "@jupyter-widgets/controls",
            "_model_module_version": "1.5.0",
            "_model_name": "HBoxModel",
            "_view_count": null,
            "_view_module": "@jupyter-widgets/controls",
            "_view_module_version": "1.5.0",
            "_view_name": "HBoxView",
            "box_style": "",
            "children": [
              "IPY_MODEL_4e1b2b39d1b648089c6295220462f6a5",
              "IPY_MODEL_82185e0c2a914db38cd5ba62ce02e864",
              "IPY_MODEL_5b93fccff97548828c3d8a61c1148083"
            ],
            "layout": "IPY_MODEL_55dbd6a757674c2e94d32b404c3d8eea"
          }
        },
        "4e1b2b39d1b648089c6295220462f6a5": {
          "model_module": "@jupyter-widgets/controls",
          "model_name": "HTMLModel",
          "model_module_version": "1.5.0",
          "state": {
            "_dom_classes": [],
            "_model_module": "@jupyter-widgets/controls",
            "_model_module_version": "1.5.0",
            "_model_name": "HTMLModel",
            "_view_count": null,
            "_view_module": "@jupyter-widgets/controls",
            "_view_module_version": "1.5.0",
            "_view_name": "HTMLView",
            "description": "",
            "description_tooltip": null,
            "layout": "IPY_MODEL_24365704ed134d37bec6198b10257019",
            "placeholder": "​",
            "style": "IPY_MODEL_69ee23a4610a4e43bd45ccaca861986b",
            "value": "100%"
          }
        },
        "82185e0c2a914db38cd5ba62ce02e864": {
          "model_module": "@jupyter-widgets/controls",
          "model_name": "FloatProgressModel",
          "model_module_version": "1.5.0",
          "state": {
            "_dom_classes": [],
            "_model_module": "@jupyter-widgets/controls",
            "_model_module_version": "1.5.0",
            "_model_name": "FloatProgressModel",
            "_view_count": null,
            "_view_module": "@jupyter-widgets/controls",
            "_view_module_version": "1.5.0",
            "_view_name": "ProgressView",
            "bar_style": "success",
            "description": "",
            "description_tooltip": null,
            "layout": "IPY_MODEL_86f7046578874e84a1096bd6e7a9d042",
            "max": 60000,
            "min": 0,
            "orientation": "horizontal",
            "style": "IPY_MODEL_8a8f7fe1b3df47dda6d6d72b57979a16",
            "value": 60000
          }
        },
        "5b93fccff97548828c3d8a61c1148083": {
          "model_module": "@jupyter-widgets/controls",
          "model_name": "HTMLModel",
          "model_module_version": "1.5.0",
          "state": {
            "_dom_classes": [],
            "_model_module": "@jupyter-widgets/controls",
            "_model_module_version": "1.5.0",
            "_model_name": "HTMLModel",
            "_view_count": null,
            "_view_module": "@jupyter-widgets/controls",
            "_view_module_version": "1.5.0",
            "_view_name": "HTMLView",
            "description": "",
            "description_tooltip": null,
            "layout": "IPY_MODEL_f5d54680153c47d5912cbcec7be220aa",
            "placeholder": "​",
            "style": "IPY_MODEL_6ce64cc827a54562bbc3f4c642b9ec38",
            "value": " 60000/60000 [00:10&lt;00:00, 6165.67it/s]"
          }
        },
        "55dbd6a757674c2e94d32b404c3d8eea": {
          "model_module": "@jupyter-widgets/base",
          "model_name": "LayoutModel",
          "model_module_version": "1.2.0",
          "state": {
            "_model_module": "@jupyter-widgets/base",
            "_model_module_version": "1.2.0",
            "_model_name": "LayoutModel",
            "_view_count": null,
            "_view_module": "@jupyter-widgets/base",
            "_view_module_version": "1.2.0",
            "_view_name": "LayoutView",
            "align_content": null,
            "align_items": null,
            "align_self": null,
            "border": null,
            "bottom": null,
            "display": null,
            "flex": null,
            "flex_flow": null,
            "grid_area": null,
            "grid_auto_columns": null,
            "grid_auto_flow": null,
            "grid_auto_rows": null,
            "grid_column": null,
            "grid_gap": null,
            "grid_row": null,
            "grid_template_areas": null,
            "grid_template_columns": null,
            "grid_template_rows": null,
            "height": null,
            "justify_content": null,
            "justify_items": null,
            "left": null,
            "margin": null,
            "max_height": null,
            "max_width": null,
            "min_height": null,
            "min_width": null,
            "object_fit": null,
            "object_position": null,
            "order": null,
            "overflow": null,
            "overflow_x": null,
            "overflow_y": null,
            "padding": null,
            "right": null,
            "top": null,
            "visibility": null,
            "width": null
          }
        },
        "24365704ed134d37bec6198b10257019": {
          "model_module": "@jupyter-widgets/base",
          "model_name": "LayoutModel",
          "model_module_version": "1.2.0",
          "state": {
            "_model_module": "@jupyter-widgets/base",
            "_model_module_version": "1.2.0",
            "_model_name": "LayoutModel",
            "_view_count": null,
            "_view_module": "@jupyter-widgets/base",
            "_view_module_version": "1.2.0",
            "_view_name": "LayoutView",
            "align_content": null,
            "align_items": null,
            "align_self": null,
            "border": null,
            "bottom": null,
            "display": null,
            "flex": null,
            "flex_flow": null,
            "grid_area": null,
            "grid_auto_columns": null,
            "grid_auto_flow": null,
            "grid_auto_rows": null,
            "grid_column": null,
            "grid_gap": null,
            "grid_row": null,
            "grid_template_areas": null,
            "grid_template_columns": null,
            "grid_template_rows": null,
            "height": null,
            "justify_content": null,
            "justify_items": null,
            "left": null,
            "margin": null,
            "max_height": null,
            "max_width": null,
            "min_height": null,
            "min_width": null,
            "object_fit": null,
            "object_position": null,
            "order": null,
            "overflow": null,
            "overflow_x": null,
            "overflow_y": null,
            "padding": null,
            "right": null,
            "top": null,
            "visibility": null,
            "width": null
          }
        },
        "69ee23a4610a4e43bd45ccaca861986b": {
          "model_module": "@jupyter-widgets/controls",
          "model_name": "DescriptionStyleModel",
          "model_module_version": "1.5.0",
          "state": {
            "_model_module": "@jupyter-widgets/controls",
            "_model_module_version": "1.5.0",
            "_model_name": "DescriptionStyleModel",
            "_view_count": null,
            "_view_module": "@jupyter-widgets/base",
            "_view_module_version": "1.2.0",
            "_view_name": "StyleView",
            "description_width": ""
          }
        },
        "86f7046578874e84a1096bd6e7a9d042": {
          "model_module": "@jupyter-widgets/base",
          "model_name": "LayoutModel",
          "model_module_version": "1.2.0",
          "state": {
            "_model_module": "@jupyter-widgets/base",
            "_model_module_version": "1.2.0",
            "_model_name": "LayoutModel",
            "_view_count": null,
            "_view_module": "@jupyter-widgets/base",
            "_view_module_version": "1.2.0",
            "_view_name": "LayoutView",
            "align_content": null,
            "align_items": null,
            "align_self": null,
            "border": null,
            "bottom": null,
            "display": null,
            "flex": null,
            "flex_flow": null,
            "grid_area": null,
            "grid_auto_columns": null,
            "grid_auto_flow": null,
            "grid_auto_rows": null,
            "grid_column": null,
            "grid_gap": null,
            "grid_row": null,
            "grid_template_areas": null,
            "grid_template_columns": null,
            "grid_template_rows": null,
            "height": null,
            "justify_content": null,
            "justify_items": null,
            "left": null,
            "margin": null,
            "max_height": null,
            "max_width": null,
            "min_height": null,
            "min_width": null,
            "object_fit": null,
            "object_position": null,
            "order": null,
            "overflow": null,
            "overflow_x": null,
            "overflow_y": null,
            "padding": null,
            "right": null,
            "top": null,
            "visibility": null,
            "width": null
          }
        },
        "8a8f7fe1b3df47dda6d6d72b57979a16": {
          "model_module": "@jupyter-widgets/controls",
          "model_name": "ProgressStyleModel",
          "model_module_version": "1.5.0",
          "state": {
            "_model_module": "@jupyter-widgets/controls",
            "_model_module_version": "1.5.0",
            "_model_name": "ProgressStyleModel",
            "_view_count": null,
            "_view_module": "@jupyter-widgets/base",
            "_view_module_version": "1.2.0",
            "_view_name": "StyleView",
            "bar_color": null,
            "description_width": ""
          }
        },
        "f5d54680153c47d5912cbcec7be220aa": {
          "model_module": "@jupyter-widgets/base",
          "model_name": "LayoutModel",
          "model_module_version": "1.2.0",
          "state": {
            "_model_module": "@jupyter-widgets/base",
            "_model_module_version": "1.2.0",
            "_model_name": "LayoutModel",
            "_view_count": null,
            "_view_module": "@jupyter-widgets/base",
            "_view_module_version": "1.2.0",
            "_view_name": "LayoutView",
            "align_content": null,
            "align_items": null,
            "align_self": null,
            "border": null,
            "bottom": null,
            "display": null,
            "flex": null,
            "flex_flow": null,
            "grid_area": null,
            "grid_auto_columns": null,
            "grid_auto_flow": null,
            "grid_auto_rows": null,
            "grid_column": null,
            "grid_gap": null,
            "grid_row": null,
            "grid_template_areas": null,
            "grid_template_columns": null,
            "grid_template_rows": null,
            "height": null,
            "justify_content": null,
            "justify_items": null,
            "left": null,
            "margin": null,
            "max_height": null,
            "max_width": null,
            "min_height": null,
            "min_width": null,
            "object_fit": null,
            "object_position": null,
            "order": null,
            "overflow": null,
            "overflow_x": null,
            "overflow_y": null,
            "padding": null,
            "right": null,
            "top": null,
            "visibility": null,
            "width": null
          }
        },
        "6ce64cc827a54562bbc3f4c642b9ec38": {
          "model_module": "@jupyter-widgets/controls",
          "model_name": "DescriptionStyleModel",
          "model_module_version": "1.5.0",
          "state": {
            "_model_module": "@jupyter-widgets/controls",
            "_model_module_version": "1.5.0",
            "_model_name": "DescriptionStyleModel",
            "_view_count": null,
            "_view_module": "@jupyter-widgets/base",
            "_view_module_version": "1.2.0",
            "_view_name": "StyleView",
            "description_width": ""
          }
        }
      }
    }
  },
  "nbformat": 4,
  "nbformat_minor": 0
}